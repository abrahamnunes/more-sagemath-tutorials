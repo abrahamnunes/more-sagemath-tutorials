{
 "cells": [
  {
   "cell_type": "markdown",
   "metadata": {
    "deletable": true,
    "editable": true
   },
   "source": [
    "# Exploring symmetric function features"
   ]
  },
  {
   "cell_type": "code",
   "execution_count": 1,
   "metadata": {
    "collapsed": true,
    "deletable": true,
    "editable": true
   },
   "outputs": [],
   "source": [
    "%display latex"
   ]
  },
  {
   "cell_type": "code",
   "execution_count": 2,
   "metadata": {
    "collapsed": true,
    "deletable": true,
    "editable": true
   },
   "outputs": [],
   "source": [
    "S = SymmetricFunctions(QQ)"
   ]
  },
  {
   "cell_type": "code",
   "execution_count": 3,
   "metadata": {
    "collapsed": false,
    "deletable": true,
    "editable": true
   },
   "outputs": [
    {
     "name": "stderr",
     "output_type": "stream",
     "text": [
      "/opt/sage-git2/local/lib/python2.7/site-packages/sage/combinat/sf/sf.py:1416: RuntimeWarning: redefining global value `e`\n",
      "  inject_variable(shorthand, getattr(self, shorthand)())\n"
     ]
    }
   ],
   "source": [
    "S.inject_shorthands()"
   ]
  },
  {
   "cell_type": "code",
   "execution_count": 4,
   "metadata": {
    "collapsed": false,
    "deletable": true,
    "editable": true
   },
   "outputs": [
    {
     "data": {
      "text/html": [
       "<html><script type=\"math/tex; mode=display\">\\newcommand{\\Bold}[1]{\\mathbf{#1}}-6s_{1,1,1} - 6s_{1,1,1,1,1,1,1} + 4s_{2,1} - 8s_{2,1,1,1,1,1} - 4s_{2,2,1,1,1} - 8s_{2,2,2,1} + 2s_{3,1,1,1,1} + 6s_{3,2,1,1} - 2s_{3,2,2} + 4s_{3,3,1} + 4s_{4,1,1,1} + 4s_{4,2,1}</script></html>"
      ],
      "text/plain": [
       "-6*s[1, 1, 1] - 6*s[1, 1, 1, 1, 1, 1, 1] + 4*s[2, 1] - 8*s[2, 1, 1, 1, 1, 1] - 4*s[2, 2, 1, 1, 1] - 8*s[2, 2, 2, 1] + 2*s[3, 1, 1, 1, 1] + 6*s[3, 2, 1, 1] - 2*s[3, 2, 2] + 4*s[3, 3, 1] + 4*s[4, 1, 1, 1] + 4*s[4, 2, 1]"
      ]
     },
     "execution_count": 4,
     "metadata": {},
     "output_type": "execute_result"
    }
   ],
   "source": [
    "(s[2,1] + 3 * m[2,1]) * (e[3,1]+1)"
   ]
  },
  {
   "cell_type": "code",
   "execution_count": 5,
   "metadata": {
    "collapsed": false,
    "deletable": true,
    "editable": true
   },
   "outputs": [
    {
     "name": "stdout",
     "output_type": "stream",
     "text": [
      "s_{10,5,4,3,3,2} + s_{10,5,4,4,2,2} + s_{10,5,4,4,3,1} + s_{10,5,5,3,2,2} + s_{10,5,5,3,3,1} + s_{10,5,5,4,2,1} + s_{10,5,5,4,3} + s_{10,6,3,3,3,2} + 2s_{10,6,4,3,2,2} + 2s_{10,6,4,3,3,1} + 2s_{10,6,4,4,2,1} + s_{10,6,4,4,3} + s_{10,6,5,2,2,2} + 3s_{10,6,5,3,2,1} + 2s_{10,6,5,3,3} + s_{10,6,5,4,1,1} + 2s_{10,6,5,4,2} + s_{10,6,6,2,2,1} + s_{10,6,6,3,1,1} + 2s_{10,6,6,3,2} + s_{10,6,6,4,1} + s_{10,7,3,3,2,2} + s_{10,7,3,3,3,1} + s_{10,7,4,2,2,2} + 3s_{10,7,4,3,2,1} + 2s_{10,7,4,3,3} + s_{10,7,4,4,1,1} + 2s_{10,7,4,4,2} + 2s_{10,7,5,2,2,1} + 2s_{10,7,5,3,1,1} + 4s_{10,7,5,3,2} + 2s_{10,7,5,4,1} + s_{10,7,6,2,1,1} + 2s_{10,7,6,2,2} + 3s_{10,7,6,3,1} + s_{10,7,6,4} + s_{10,7,7,2,1} + s_{10,7,7,3} + s_{10,8,3,3,2,1} + s_{10,8,3,3,3} + s_{10,8,4,2,2,1} + s_{10,8,4,3,1,1} + 3s_{10,8,4,3,2} + s_{10,8,4,4,1} + s_{10,8,5,2,1,1} + 2s_{10,8,5,2,2} + 3s_{10,8,5,3,1} + s_{10,8,5,4} + 2s_{10,8,6,2,1} + 2s_{10,8,6,3} + s_{10,8,7,2} + s_{10,9,3,3,2} + s_{10,9,4,2,2} + s_{10,9,4,3,1} + s_{10,9,5,2,1} + s_{10,9,5,3} + s_{10,9,6,2} + s_{11,5,3,3,3,2} + 2s_{11,5,4,3,2,2} + 2s_{11,5,4,3,3,1} + 2s_{11,5,4,4,2,1} + s_{11,5,4,4,3} + s_{11,5,5,2,2,2} + 3s_{11,5,5,3,2,1} + 2s_{11,5,5,3,3} + s_{11,5,5,4,1,1} + 2s_{11,5,5,4,2} + 2s_{11,6,3,3,2,2} + 2s_{11,6,3,3,3,1} + 2s_{11,6,4,2,2,2} + 6s_{11,6,4,3,2,1} + 3s_{11,6,4,3,3} + 2s_{11,6,4,4,1,1} + 3s_{11,6,4,4,2} + 4s_{11,6,5,2,2,1} + 4s_{11,6,5,3,1,1} + 7s_{11,6,5,3,2} + 3s_{11,6,5,4,1} + 2s_{11,6,6,2,1,1} + 3s_{11,6,6,2,2} + 4s_{11,6,6,3,1} + s_{11,6,6,4} + s_{11,7,3,2,2,2} + 3s_{11,7,3,3,2,1} + 2s_{11,7,3,3,3} + 4s_{11,7,4,2,2,1} + 4s_{11,7,4,3,1,1} + 7s_{11,7,4,3,2} + 3s_{11,7,4,4,1} + 4s_{11,7,5,2,1,1} + 6s_{11,7,5,2,2} + 8s_{11,7,5,3,1} + 2s_{11,7,5,4} + s_{11,7,6,1,1,1} + 6s_{11,7,6,2,1} + 4s_{11,7,6,3} + s_{11,7,7,1,1} + 2s_{11,7,7,2} + s_{11,8,3,2,2,1} + s_{11,8,3,3,1,1} + 3s_{11,8,3,3,2} + 2s_{11,8,4,2,1,1} + 4s_{11,8,4,2,2} + 5s_{11,8,4,3,1} + s_{11,8,4,4} + s_{11,8,5,1,1,1} + 6s_{11,8,5,2,1} + 4s_{11,8,5,3} + 2s_{11,8,6,1,1} + 4s_{11,8,6,2} + s_{11,8,7,1} + s_{11,9,3,2,2} + s_{11,9,3,3,1} + 2s_{11,9,4,2,1} + s_{11,9,4,3} + s_{11,9,5,1,1} + 2s_{11,9,5,2} + s_{11,9,6,1} + s_{12,5,3,3,2,2} + s_{12,5,3,3,3,1} + s_{12,5,4,2,2,2} + 3s_{12,5,4,3,2,1} + 2s_{12,5,4,3,3} + s_{12,5,4,4,1,1} + 2s_{12,5,4,4,2} + 2s_{12,5,5,2,2,1} + 2s_{12,5,5,3,1,1} + 4s_{12,5,5,3,2} + 2s_{12,5,5,4,1} + s_{12,6,3,2,2,2} + 3s_{12,6,3,3,2,1} + 2s_{12,6,3,3,3} + 4s_{12,6,4,2,2,1} + 4s_{12,6,4,3,1,1} + 7s_{12,6,4,3,2} + 3s_{12,6,4,4,1} + 4s_{12,6,5,2,1,1} + 6s_{12,6,5,2,2} + 8s_{12,6,5,3,1} + 2s_{12,6,5,4} + s_{12,6,6,1,1,1} + 5s_{12,6,6,2,1} + 3s_{12,6,6,3} + 2s_{12,7,3,2,2,1} + 2s_{12,7,3,3,1,1} + 4s_{12,7,3,3,2} + 4s_{12,7,4,2,1,1} + 6s_{12,7,4,2,2} + 8s_{12,7,4,3,1} + 2s_{12,7,4,4} + 2s_{12,7,5,1,1,1} + 10s_{12,7,5,2,1} + 6s_{12,7,5,3} + 4s_{12,7,6,1,1} + 6s_{12,7,6,2} + 2s_{12,7,7,1} + s_{12,8,3,2,1,1} + 2s_{12,8,3,2,2} + 3s_{12,8,3,3,1} + s_{12,8,4,1,1,1} + 6s_{12,8,4,2,1} + 4s_{12,8,4,3} + 4s_{12,8,5,1,1} + 6s_{12,8,5,2} + 4s_{12,8,6,1} + s_{12,8,7} + s_{12,9,3,2,1} + s_{12,9,3,3} + s_{12,9,4,1,1} + 2s_{12,9,4,2} + 2s_{12,9,5,1} + s_{12,9,6} + s_{13,5,3,3,2,1} + s_{13,5,3,3,3} + s_{13,5,4,2,2,1} + s_{13,5,4,3,1,1} + 3s_{13,5,4,3,2} + s_{13,5,4,4,1} + s_{13,5,5,2,1,1} + 2s_{13,5,5,2,2} + 3s_{13,5,5,3,1} + s_{13,5,5,4} + s_{13,6,3,2,2,1} + s_{13,6,3,3,1,1} + 3s_{13,6,3,3,2} + 2s_{13,6,4,2,1,1} + 4s_{13,6,4,2,2} + 5s_{13,6,4,3,1} + s_{13,6,4,4} + s_{13,6,5,1,1,1} + 6s_{13,6,5,2,1} + 4s_{13,6,5,3} + 2s_{13,6,6,1,1} + 3s_{13,6,6,2} + s_{13,7,3,2,1,1} + 2s_{13,7,3,2,2} + 3s_{13,7,3,3,1} + s_{13,7,4,1,1,1} + 6s_{13,7,4,2,1} + 4s_{13,7,4,3} + 4s_{13,7,5,1,1} + 6s_{13,7,5,2} + 4s_{13,7,6,1} + s_{13,7,7} + 2s_{13,8,3,2,1} + 2s_{13,8,3,3} + 2s_{13,8,4,1,1} + 4s_{13,8,4,2} + 4s_{13,8,5,1} + 2s_{13,8,6} + s_{13,9,3,2} + s_{13,9,4,1} + s_{13,9,5} + s_{14,5,3,3,2} + s_{14,5,4,2,2} + s_{14,5,4,3,1} + s_{14,5,5,2,1} + s_{14,5,5,3} + s_{14,6,3,2,2} + s_{14,6,3,3,1} + 2s_{14,6,4,2,1} + s_{14,6,4,3} + s_{14,6,5,1,1} + 2s_{14,6,5,2} + s_{14,6,6,1} + s_{14,7,3,2,1} + s_{14,7,3,3} + s_{14,7,4,1,1} + 2s_{14,7,4,2} + 2s_{14,7,5,1} + s_{14,7,6} + s_{14,8,3,2} + s_{14,8,4,1} + s_{14,8,5}\n"
     ]
    }
   ],
   "source": [
    "print latex(s[4,3,2] * s[10,5,3])"
   ]
  },
  {
   "cell_type": "code",
   "execution_count": 6,
   "metadata": {
    "collapsed": false,
    "deletable": true,
    "editable": true
   },
   "outputs": [
    {
     "data": {
      "text/html": [
       "<html><script type=\"math/tex; mode=display\">\\newcommand{\\Bold}[1]{\\mathbf{#1}}s_{} \\otimes s_{3,2} + s_{1} \\otimes s_{2,2} + s_{1} \\otimes s_{3,1} + s_{1,1} \\otimes s_{2,1} + s_{2} \\otimes s_{2,1} + s_{2} \\otimes s_{3} + s_{2,1} \\otimes s_{1,1} + s_{2,1} \\otimes s_{2} + s_{2,2} \\otimes s_{1} + s_{3} \\otimes s_{2} + s_{3,1} \\otimes s_{1} + s_{3,2} \\otimes s_{}</script></html>"
      ],
      "text/plain": [
       "s[] # s[3, 2] + s[1] # s[2, 2] + s[1] # s[3, 1] + s[1, 1] # s[2, 1] + s[2] # s[2, 1] + s[2] # s[3] + s[2, 1] # s[1, 1] + s[2, 1] # s[2] + s[2, 2] # s[1] + s[3] # s[2] + s[3, 1] # s[1] + s[3, 2] # s[]"
      ]
     },
     "execution_count": 6,
     "metadata": {},
     "output_type": "execute_result"
    }
   ],
   "source": [
    "s[3,2].coproduct()"
   ]
  },
  {
   "cell_type": "code",
   "execution_count": 7,
   "metadata": {
    "collapsed": false,
    "deletable": true,
    "editable": true
   },
   "outputs": [
    {
     "data": {
      "text/html": [
       "<html><script type=\"math/tex; mode=display\">\\newcommand{\\Bold}[1]{\\mathbf{#1}}s_{3,2} \\otimes p_{2,1} + s_{3,2} \\otimes p_{3}</script></html>"
      ],
      "text/plain": [
       "s[3, 2] # p[2, 1] + s[3, 2] # p[3]"
      ]
     },
     "execution_count": 7,
     "metadata": {},
     "output_type": "execute_result"
    }
   ],
   "source": [
    "tensor([s[3,2], (p[2,1]+p[3])])"
   ]
  },
  {
   "cell_type": "code",
   "execution_count": 8,
   "metadata": {
    "collapsed": false,
    "deletable": true,
    "editable": true
   },
   "outputs": [
    {
     "data": {
      "text/html": [
       "<html><script type=\"math/tex; mode=display\">\\newcommand{\\Bold}[1]{\\mathbf{#1}}\\frac{1}{3}p_{3,3,3} - \\frac{1}{3}p_{9}</script></html>"
      ],
      "text/plain": [
       "1/3*p[3, 3, 3] - 1/3*p[9]"
      ]
     },
     "execution_count": 8,
     "metadata": {},
     "output_type": "execute_result"
    }
   ],
   "source": [
    "p[3](s[2,1])"
   ]
  }
 ],
 "metadata": {
  "kernelspec": {
   "display_name": "SageMath 8.0.beta6",
   "language": "",
   "name": "sagemath"
  },
  "language_info": {
   "codemirror_mode": {
    "name": "ipython",
    "version": 2
   },
   "file_extension": ".py",
   "mimetype": "text/x-python",
   "name": "python",
   "nbconvert_exporter": "python",
   "pygments_lexer": "ipython2",
   "version": "2.7.13"
  }
 },
 "nbformat": 4,
 "nbformat_minor": 2
}
