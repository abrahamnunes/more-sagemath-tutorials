{
 "cells": [
  {
   "cell_type": "markdown",
   "metadata": {
    "deletable": true,
    "editable": true
   },
   "source": [
    "# Symmetric Functions (polynomials) Tutorial\n",
    "\n",
    "Pauline Hubert (<hubert.pauline@courrier.uqam.ca>) and Mélodie Lapointe (<lapointe.melodie@courrier.uqam.ca>)\n",
    "\n",
    "<span style=\"color:blue\">__Caveat:__</span> often the term symmetric \"functions\" stands for \"abstract\" symmetric polynomials, in which variables are not made explicit. Indeed for most practical calculations variables need not appear. Moreover, one may show that this does not cause any trouble in the calculations.\n",
    "\n",
    "To have all outputs printed in latex, we use the following command."
   ]
  },
  {
   "cell_type": "code",
   "execution_count": 1,
   "metadata": {
    "collapsed": true,
    "deletable": true,
    "editable": true
   },
   "outputs": [],
   "source": [
    "%display latex"
   ]
  },
  {
   "cell_type": "markdown",
   "metadata": {
    "deletable": true,
    "editable": true
   },
   "source": [
    "Once this is done, to get the usual output one may use <span style=\"color:green\">__print($\\ $)__</span>"
   ]
  },
  {
   "cell_type": "code",
   "execution_count": 2,
   "metadata": {
    "collapsed": false,
    "deletable": true,
    "editable": true
   },
   "outputs": [
    {
     "name": "stdout",
     "output_type": "stream",
     "text": [
      "2*x^5 + x^2\n"
     ]
    }
   ],
   "source": [
    "print(2*x^5+x^2)"
   ]
  },
  {
   "cell_type": "code",
   "execution_count": 3,
   "metadata": {
    "collapsed": false,
    "deletable": true,
    "editable": true
   },
   "outputs": [
    {
     "data": {
      "text/html": [
       "<html><script type=\"math/tex; mode=display\">\\newcommand{\\Bold}[1]{\\mathbf{#1}}2 \\, x^{5} + x^{2}</script></html>"
      ],
      "text/plain": [
       "2*x^5 + x^2"
      ]
     },
     "execution_count": 3,
     "metadata": {},
     "output_type": "execute_result"
    }
   ],
   "source": [
    "2*x^5+x^2"
   ]
  },
  {
   "cell_type": "markdown",
   "metadata": {
    "deletable": true,
    "editable": true
   },
   "source": [
    "## For the impatient\n",
    "\n",
    "Before going into details with symmetric functions in sage, here is a quick example of what we can do in sage.\n",
    "\n",
    "The <span style=\"color:blue\">__complete homogeneous__</span> symmetric functions $h_d$ may be expressed in terms of the <span style=\"color:blue\">__power sum__</span> symmetric functions $p_{\\mu}$ by the formula:\n",
    "\n",
    "$$h_d = \\sum \\limits_{\\mu \\vdash d} \\dfrac{1}{z_{\\mu}} p_{\\mu},$$\n",
    "\n",
    "where $z_\\mu$ is the number of \"automorphisms\" of a permutation having cycle structure $\\mu$.\n",
    "\n",
    "Here is how to obtain both sides of this equality in the ring of symmetric function \"$\\mathrm{Sym}$\" over $\\mathbb{Q}$."
   ]
  },
  {
   "cell_type": "code",
   "execution_count": 6,
   "metadata": {
    "collapsed": false,
    "deletable": true,
    "editable": true
   },
   "outputs": [],
   "source": [
    "Sym = SymmetricFunctions(QQ)\n",
    "Sym.inject_shorthands()"
   ]
  },
  {
   "cell_type": "code",
   "execution_count": 7,
   "metadata": {
    "collapsed": false,
    "deletable": true,
    "editable": true
   },
   "outputs": [
    {
     "data": {
      "text/html": [
       "<html><script type=\"math/tex; mode=display\">\\newcommand{\\Bold}[1]{\\mathbf{#1}}h_{6}</script></html>"
      ],
      "text/plain": [
       "h[6]"
      ]
     },
     "execution_count": 7,
     "metadata": {},
     "output_type": "execute_result"
    }
   ],
   "source": [
    "h[6]"
   ]
  },
  {
   "cell_type": "code",
   "execution_count": 8,
   "metadata": {
    "collapsed": false,
    "deletable": true,
    "editable": true
   },
   "outputs": [
    {
     "data": {
      "text/html": [
       "<html><script type=\"math/tex; mode=display\">\\newcommand{\\Bold}[1]{\\mathbf{#1}}\\frac{1}{720}p_{1,1,1,1,1,1} + \\frac{1}{48}p_{2,1,1,1,1} + \\frac{1}{16}p_{2,2,1,1} + \\frac{1}{48}p_{2,2,2} + \\frac{1}{18}p_{3,1,1,1} + \\frac{1}{6}p_{3,2,1} + \\frac{1}{18}p_{3,3} + \\frac{1}{8}p_{4,1,1} + \\frac{1}{8}p_{4,2} + \\frac{1}{5}p_{5,1} + \\frac{1}{6}p_{6}</script></html>"
      ],
      "text/plain": [
       "1/720*p[1, 1, 1, 1, 1, 1] + 1/48*p[2, 1, 1, 1, 1] + 1/16*p[2, 2, 1, 1] + 1/48*p[2, 2, 2] + 1/18*p[3, 1, 1, 1] + 1/6*p[3, 2, 1] + 1/18*p[3, 3] + 1/8*p[4, 1, 1] + 1/8*p[4, 2] + 1/5*p[5, 1] + 1/6*p[6]"
      ]
     },
     "execution_count": 8,
     "metadata": {},
     "output_type": "execute_result"
    }
   ],
   "source": [
    "sum((1/Partition(mu).aut())*p(mu) for mu in Partitions(6).list())"
   ]
  },
  {
   "cell_type": "markdown",
   "metadata": {
    "deletable": true,
    "editable": true
   },
   "source": [
    "## Classical bases of symmetric functions\n",
    "\n",
    "The algebra of symmetric functions, with coefficients a given ring, is declared as follows. With rational coefficients (in $\\mathbb{Q}$) in the following example."
   ]
  },
  {
   "cell_type": "code",
   "execution_count": 9,
   "metadata": {
    "collapsed": true,
    "deletable": true,
    "editable": true
   },
   "outputs": [],
   "source": [
    "Sym = SymmetricFunctions(QQ)"
   ]
  },
  {
   "cell_type": "markdown",
   "metadata": {
    "deletable": true,
    "editable": true
   },
   "source": [
    "Another often used coefficient ring is the fraction field $\\mathbb{Q}(q,t)$ of rational expressions in $q$, $t$ over $\\mathbb{Q}[q,t]$. Thus, declaring first $\\mathbb{Q}(q,t)$ (and \"injecting\" variables $q$ and $t$ to make them available), one may introduce the ring of symmetric functions over $\\mathbb{Q}(q,t)$ as follows. The <span style=\"color:green\">__Symqt.inject_shorthands($\\ $)__</span> command makes the \"usual\" short names (as in Macdonald book) available."
   ]
  },
  {
   "cell_type": "code",
   "execution_count": 10,
   "metadata": {
    "collapsed": false,
    "deletable": true,
    "editable": true
   },
   "outputs": [
    {
     "name": "stdout",
     "output_type": "stream",
     "text": [
      "Defining q, t\n"
     ]
    }
   ],
   "source": [
    "F = QQ['q','t'].fraction_field()\n",
    "F.inject_variables()\n",
    "Symqt = SymmetricFunctions(F)\n",
    "Symqt.inject_shorthands()\n",
    "f = e.dual_basis(prefix='f');"
   ]
  },
  {
   "cell_type": "markdown",
   "metadata": {
    "deletable": true,
    "editable": true
   },
   "source": [
    "Usual classical bases are  available. \n",
    "\n",
    "-   The <span style=\"color:blue\">__power sum__</span> symmetric functions: $p_\\mu$, written <span style=\"color:green\">__p(mu)__</span>\n",
    "-   The <span style=\"color:blue\">__(complete) homogeneous__</span> symmetric functions: $h_\\mu$, written <span style=\"color:green\">__h(mu)__</span>\n",
    "-   The <span style=\"color:blue\">__elementary__</span> symmetric functions: $e_\\mu$, written <span style=\"color:green\">__e(mu)__</span>\n",
    "-   The <span style=\"color:blue\">__Schur__</span> functions: $s_\\mu$, written \n",
    "<span style=\"color:blue\">__s(mu)__</span>\n",
    "-   The <span style=\"color:blue\">__forgotten__</span> symmetric functions: $f_\\mu$, written <span style=\"color:green\">__f(mu)__</span>"
   ]
  },
  {
   "cell_type": "markdown",
   "metadata": {
    "deletable": true,
    "editable": true
   },
   "source": [
    "Symmetric functions are indexed by partitions $\\mu$, with integers considered as partitions having size one (don't forget the brackets!)."
   ]
  },
  {
   "cell_type": "code",
   "execution_count": 11,
   "metadata": {
    "collapsed": false,
    "deletable": true,
    "editable": true
   },
   "outputs": [
    {
     "data": {
      "text/html": [
       "<html><script type=\"math/tex; mode=display\">\\newcommand{\\Bold}[1]{\\mathbf{#1}}p_{2,1}</script></html>"
      ],
      "text/plain": [
       "p[2, 1]"
      ]
     },
     "execution_count": 11,
     "metadata": {},
     "output_type": "execute_result"
    }
   ],
   "source": [
    "p([2,1])"
   ]
  },
  {
   "cell_type": "markdown",
   "metadata": {
    "deletable": true,
    "editable": true
   },
   "source": [
    "For non-empty partitions one may forego parentheses, (but this does not work for the empty one). For example"
   ]
  },
  {
   "cell_type": "code",
   "execution_count": 12,
   "metadata": {
    "collapsed": false,
    "deletable": true,
    "editable": true
   },
   "outputs": [
    {
     "data": {
      "text/html": [
       "<html><script type=\"math/tex; mode=display\">\\newcommand{\\Bold}[1]{\\mathbf{#1}}m_{3,2}</script></html>"
      ],
      "text/plain": [
       "m[3, 2]"
      ]
     },
     "execution_count": 12,
     "metadata": {},
     "output_type": "execute_result"
    }
   ],
   "source": [
    "m[3,2]"
   ]
  },
  {
   "cell_type": "markdown",
   "metadata": {
    "deletable": true,
    "editable": true
   },
   "source": [
    "We get nicer outputs for partitions occuring as indices (written without comma), as follows. \n",
    "\n",
    "(Parts of size larger than 9 are followed by a \"dot\".)"
   ]
  },
  {
   "cell_type": "code",
   "execution_count": 13,
   "metadata": {
    "collapsed": false,
    "deletable": true,
    "editable": true
   },
   "outputs": [],
   "source": [
    "def mystr(i): \n",
    "    if i<10: \n",
    "        return str(i) \n",
    "    else: \n",
    "        return ''.join([str(i),\".\"])\n",
    "def compact(mu): \n",
    "    return (''.join(mystr(i) for i in mu))\n",
    "Partition._latex_= compact\n",
    "\n",
    "s._latex_term = lambda mu: \"\\mathbb{1}\" if mu==[] else \"s_{%s}\"%(''.join(mystr(i) for i in mu))\n",
    "p._latex_term = lambda mu: \"\\mathbb{1}\" if mu==[] else \"p_{%s}\"%(''.join(mystr(i) for i in mu))\n",
    "h._latex_term = lambda mu: \"\\mathbb{1}\" if mu==[] else \"h_{%s}\"%(''.join(mystr(i) for i in mu))\n",
    "e._latex_term = lambda mu: \"\\mathbb{1}\" if mu==[] else \"e_{%s}\"%(''.join(mystr(i) for i in mu))\n",
    "m._latex_term = lambda mu: \"\\mathbb{1}\" if mu==[] else \"m_{%s}\"%(''.join(mystr(i) for i in mu))\n",
    "f._latex_term = lambda mu: \"\\mathbb{1}\" if mu==[] else \"f_{%s}\"%(''.join(mystr(i) for i in mu))"
   ]
  },
  {
   "cell_type": "code",
   "execution_count": 14,
   "metadata": {
    "collapsed": false,
    "deletable": true,
    "editable": true
   },
   "outputs": [
    {
     "data": {
      "text/html": [
       "<html><script type=\"math/tex; mode=display\">\\newcommand{\\Bold}[1]{\\mathbf{#1}}s_{101.14.13.21}</script></html>"
      ],
      "text/plain": [
       "s[101, 14, 13, 2, 1]"
      ]
     },
     "execution_count": 14,
     "metadata": {},
     "output_type": "execute_result"
    }
   ],
   "source": [
    "s[101,14,13,2,1]"
   ]
  },
  {
   "cell_type": "markdown",
   "metadata": {
    "deletable": true,
    "editable": true
   },
   "source": [
    "For the multiplicative bases (i.e.: $e$, $p$ and $h$), products are replaced by the corresponding partition indexed expression."
   ]
  },
  {
   "cell_type": "code",
   "execution_count": 15,
   "metadata": {
    "collapsed": false,
    "deletable": true,
    "editable": true
   },
   "outputs": [
    {
     "data": {
      "text/html": [
       "<html><script type=\"math/tex; mode=display\">\\newcommand{\\Bold}[1]{\\mathbf{#1}}p_{52211}</script></html>"
      ],
      "text/plain": [
       "p[5, 2, 2, 1, 1]"
      ]
     },
     "execution_count": 15,
     "metadata": {},
     "output_type": "execute_result"
    }
   ],
   "source": [
    "p([2,1,1])*p([5,2])"
   ]
  },
  {
   "cell_type": "markdown",
   "metadata": {
    "deletable": true,
    "editable": true
   },
   "source": [
    "For non-multiplicative bases (such as the Schur functions), multiplication are expanded as linear combinations in the same (linear) basis."
   ]
  },
  {
   "cell_type": "code",
   "execution_count": 16,
   "metadata": {
    "collapsed": false,
    "deletable": true,
    "editable": true
   },
   "outputs": [
    {
     "data": {
      "text/html": [
       "<html><script type=\"math/tex; mode=display\">\\newcommand{\\Bold}[1]{\\mathbf{#1}}s_{55111} + s_{64111} + 2s_{6511} + s_{661} + s_{73111} + 2s_{7411} + s_{751} + s_{82111} + 2s_{8311} + s_{841} + s_{91111} + 2s_{9211} + s_{931} + 2s_{10.111} + s_{10.21} + s_{11.11}</script></html>"
      ],
      "text/plain": [
       "s[5, 5, 1, 1, 1] + s[6, 4, 1, 1, 1] + 2*s[6, 5, 1, 1] + s[6, 6, 1] + s[7, 3, 1, 1, 1] + 2*s[7, 4, 1, 1] + s[7, 5, 1] + s[8, 2, 1, 1, 1] + 2*s[8, 3, 1, 1] + s[8, 4, 1] + s[9, 1, 1, 1, 1] + 2*s[9, 2, 1, 1] + s[9, 3, 1] + 2*s[10, 1, 1, 1] + s[10, 2, 1] + s[11, 1, 1]"
      ]
     },
     "execution_count": 16,
     "metadata": {},
     "output_type": "execute_result"
    }
   ],
   "source": [
    "s([5])^2*s([1,1,1])"
   ]
  },
  {
   "cell_type": "code",
   "execution_count": 17,
   "metadata": {
    "collapsed": false,
    "deletable": true,
    "editable": true
   },
   "outputs": [
    {
     "data": {
      "text/html": [
       "<html><script type=\"math/tex; mode=display\">\\newcommand{\\Bold}[1]{\\mathbf{#1}}m_{3221} + 2m_{332} + m_{521} + m_{53}</script></html>"
      ],
      "text/plain": [
       "m[3, 2, 2, 1] + 2*m[3, 3, 2] + m[5, 2, 1] + m[5, 3]"
      ]
     },
     "execution_count": 17,
     "metadata": {},
     "output_type": "execute_result"
    }
   ],
   "source": [
    "m([3,1])*m([2,2])"
   ]
  },
  {
   "cell_type": "markdown",
   "metadata": {
    "deletable": true,
    "editable": true
   },
   "source": [
    "These calculations are relatively fast as illustrated in the following, showing only the length of the output rather than printing it out in all its glory."
   ]
  },
  {
   "cell_type": "code",
   "execution_count": 18,
   "metadata": {
    "collapsed": false,
    "deletable": true,
    "editable": true
   },
   "outputs": [
    {
     "data": {
      "text/html": [
       "<html><script type=\"math/tex; mode=display\">\\newcommand{\\Bold}[1]{\\mathbf{#1}}2986</script></html>"
      ],
      "text/plain": [
       "2986"
      ]
     },
     "execution_count": 18,
     "metadata": {},
     "output_type": "execute_result"
    }
   ],
   "source": [
    "len(s[10,5,5,3]*s[12,5,2])"
   ]
  },
  {
   "cell_type": "markdown",
   "metadata": {
    "deletable": true,
    "editable": true
   },
   "source": [
    "Another illustration of this, calculating the sum of the coefficients in the result, is:"
   ]
  },
  {
   "cell_type": "code",
   "execution_count": 19,
   "metadata": {
    "collapsed": false,
    "deletable": true,
    "editable": true
   },
   "outputs": [
    {
     "data": {
      "text/html": [
       "<html><script type=\"math/tex; mode=display\">\\newcommand{\\Bold}[1]{\\mathbf{#1}}135259</script></html>"
      ],
      "text/plain": [
       "135259"
      ]
     },
     "execution_count": 19,
     "metadata": {},
     "output_type": "execute_result"
    }
   ],
   "source": [
    "sum((m([7,5])*s([5,4,2,1])).coefficients())"
   ]
  },
  {
   "cell_type": "markdown",
   "metadata": {
    "deletable": true,
    "editable": true
   },
   "source": [
    "When mixing different bases, results will be expressed in terms of the first basis encountered in the expression."
   ]
  },
  {
   "cell_type": "code",
   "execution_count": 20,
   "metadata": {
    "collapsed": false,
    "deletable": true,
    "editable": true
   },
   "outputs": [
    {
     "data": {
      "text/html": [
       "<html><script type=\"math/tex; mode=display\">\\newcommand{\\Bold}[1]{\\mathbf{#1}}s_{1111} - s_{211} + s_{2111} + 2s_{22} + s_{221} - s_{31} + s_{311} + s_{32} + s_{4}</script></html>"
      ],
      "text/plain": [
       "s[1, 1, 1, 1] - s[2, 1, 1] + s[2, 1, 1, 1] + 2*s[2, 2] + s[2, 2, 1] - s[3, 1] + s[3, 1, 1] + s[3, 2] + s[4]"
      ]
     },
     "execution_count": 20,
     "metadata": {},
     "output_type": "execute_result"
    }
   ],
   "source": [
    "s([2,1])*m([1,1])+p([2,2])"
   ]
  },
  {
   "cell_type": "code",
   "execution_count": 21,
   "metadata": {
    "collapsed": false,
    "deletable": true,
    "editable": true
   },
   "outputs": [
    {
     "data": {
      "text/html": [
       "<html><script type=\"math/tex; mode=display\">\\newcommand{\\Bold}[1]{\\mathbf{#1}}20m_{11111} + 9m_{2111} + 2m_{22} + 4m_{221} + 2m_{311} + m_{32} + m_{4}</script></html>"
      ],
      "text/plain": [
       "20*m[1, 1, 1, 1, 1] + 9*m[2, 1, 1, 1] + 2*m[2, 2] + 4*m[2, 2, 1] + 2*m[3, 1, 1] + m[3, 2] + m[4]"
      ]
     },
     "execution_count": 21,
     "metadata": {},
     "output_type": "execute_result"
    }
   ],
   "source": [
    "m([1,1])*s([2,1])+p([2,2])"
   ]
  },
  {
   "cell_type": "code",
   "execution_count": 22,
   "metadata": {
    "collapsed": false,
    "deletable": true,
    "editable": true
   },
   "outputs": [
    {
     "data": {
      "text/html": [
       "<html><script type=\"math/tex; mode=display\">\\newcommand{\\Bold}[1]{\\mathbf{#1}}\\frac{1}{6}p_{11111} - \\frac{1}{6}p_{2111} + p_{22} - \\frac{1}{6}p_{311} + \\frac{1}{6}p_{32}</script></html>"
      ],
      "text/plain": [
       "1/6*p[1, 1, 1, 1, 1] - 1/6*p[2, 1, 1, 1] + p[2, 2] - 1/6*p[3, 1, 1] + 1/6*p[3, 2]"
      ]
     },
     "execution_count": 22,
     "metadata": {},
     "output_type": "execute_result"
    }
   ],
   "source": [
    "p([2,2])+m([1,1])*s([2,1])"
   ]
  },
  {
   "cell_type": "markdown",
   "metadata": {
    "deletable": true,
    "editable": true
   },
   "source": [
    "## Expanding a symmetric function into a polynomial on a given set of variables\n",
    "\n",
    "Up to this point, we have worked with \"abstract\" symmetric functions, i.e.: with no variables. To expand symmetric functions in a given number of variables $x_0, x_1, \\dots, x_{n-1}$, we use the following tools.\n",
    "\n",
    "By default, variables are $x_0, x_1, \\dots,x_{n-1}$, but one may use any other set (=alphabet)."
   ]
  },
  {
   "cell_type": "code",
   "execution_count": 23,
   "metadata": {
    "collapsed": false,
    "deletable": true,
    "editable": true
   },
   "outputs": [
    {
     "data": {
      "text/html": [
       "<html><script type=\"math/tex; mode=display\">\\newcommand{\\Bold}[1]{\\mathbf{#1}}x^{2} y + x y^{2} + x^{2} z + 2 x y z + y^{2} z + x z^{2} + y z^{2}</script></html>"
      ],
      "text/plain": [
       "x^2*y + x*y^2 + x^2*z + 2*x*y*z + y^2*z + x*z^2 + y*z^2"
      ]
     },
     "execution_count": 23,
     "metadata": {},
     "output_type": "execute_result"
    }
   ],
   "source": [
    "g = s[2,1]\n",
    "g.expand(3, alphabet =['x','y','z'])"
   ]
  },
  {
   "cell_type": "code",
   "execution_count": 24,
   "metadata": {
    "collapsed": false,
    "deletable": true,
    "editable": true
   },
   "outputs": [
    {
     "data": {
      "text/html": [
       "<html><script type=\"math/tex; mode=display\">\\newcommand{\\Bold}[1]{\\mathbf{#1}}x_{0}^{2} x_{1} + x_{0} x_{1}^{2} + x_{0}^{2} x_{2} + 2 x_{0} x_{1} x_{2} + x_{1}^{2} x_{2} + x_{0} x_{2}^{2} + x_{1} x_{2}^{2}</script></html>"
      ],
      "text/plain": [
       "x0^2*x1 + x0*x1^2 + x0^2*x2 + 2*x0*x1*x2 + x1^2*x2 + x0*x2^2 + x1*x2^2"
      ]
     },
     "execution_count": 24,
     "metadata": {},
     "output_type": "execute_result"
    }
   ],
   "source": [
    "n = 3\n",
    "g.expand(n)"
   ]
  },
  {
   "cell_type": "markdown",
   "metadata": {
    "deletable": true,
    "editable": true
   },
   "source": [
    "To handle lots variables, one may proceed as follows"
   ]
  },
  {
   "cell_type": "code",
   "execution_count": 25,
   "metadata": {
    "collapsed": false,
    "deletable": true,
    "editable": true
   },
   "outputs": [
    {
     "data": {
      "text/html": [
       "<html><script type=\"math/tex; mode=display\">\\newcommand{\\Bold}[1]{\\mathbf{#1}}y_{0}^{2} + y_{1}^{2} + y_{2}^{2} + y_{3}^{2} + y_{4}^{2} + y_{5}^{2} + y_{6}^{2} + y_{7}^{2} + y_{8}^{2} + y_{9}^{2} + y_{10}^{2} + y_{11}^{2} + y_{12}^{2} + y_{13}^{2} + y_{14}^{2} + y_{15}^{2} + y_{16}^{2} + y_{17}^{2} + y_{18}^{2} + y_{19}^{2} + y_{20}^{2} + y_{21}^{2} + y_{22}^{2} + y_{23}^{2} + y_{24}^{2} + y_{25}^{2}</script></html>"
      ],
      "text/plain": [
       "y0^2 + y1^2 + y2^2 + y3^2 + y4^2 + y5^2 + y6^2 + y7^2 + y8^2 + y9^2 + y10^2 + y11^2 + y12^2 + y13^2 + y14^2 + y15^2 + y16^2 + y17^2 + y18^2 + y19^2 + y20^2 + y21^2 + y22^2 + y23^2 + y24^2 + y25^2"
      ]
     },
     "execution_count": 25,
     "metadata": {},
     "output_type": "execute_result"
    }
   ],
   "source": [
    "g = p[2]\n",
    "g.expand(26,alphabet=['y'+str(i) for i in range(26)])"
   ]
  },
  {
   "cell_type": "markdown",
   "metadata": {
    "deletable": true,
    "editable": true
   },
   "source": [
    "***Exercise:***\n",
    "\n",
    "> *Let $e_k(n) = e_k(x_0,x_1, \\dots , x_{n-1})$ and similarly for the homogeneous functions.*\n",
    ">\n",
    "> *we have the following recursion relations for $n \\geq 1$ :*\n",
    ">\n",
    "> *$e_k(n) = e_k(n-1)+x_ne_{k-1}(n-1),$*\n",
    ">\n",
    "> *$h_k(n) = h_k(n-1)+x_nh_{k-1}(n),$*\n",
    ">\n",
    "> *and $e_0(0)=h_0(0) = 1$.*\n",
    ">\n",
    "> *Check these relations for $k=3$ and $2 \\leq n \\leq 7$.*"
   ]
  },
  {
   "cell_type": "code",
   "execution_count": 26,
   "metadata": {
    "collapsed": false,
    "deletable": true,
    "editable": true
   },
   "outputs": [
    {
     "name": "stdout",
     "output_type": "stream",
     "text": [
      "Defining x0, x1, x2, x3, x4, x5, x6\n",
      "n = 2 ok for e\n",
      "n = 2 no for h\n",
      "n = 3 no for e\n",
      "n = 3 no for h\n",
      "n = 4 no for e\n",
      "n = 4 no for h\n",
      "n = 5 no for e\n",
      "n = 5 no for h\n",
      "n = 6 no for e\n",
      "n = 6 no for h\n",
      "n = 7 ok for e\n",
      "n = 7 ok for h\n"
     ]
    }
   ],
   "source": [
    "k=3\n",
    "R = PolynomialRing(QQ,'x',7)\n",
    "R.inject_variables()\n",
    "l = list(R.gens())\n",
    "for xn, n in zip(l[1:], range(2,8)) :\n",
    "    f1 = e([k]).expand(n)\n",
    "    g1 = h([k]).expand(n)\n",
    "    f2 = e([k]).expand(n-1,l[:n-1])+xn*(e([k-1]).expand(n-1,l[:n-1]))\n",
    "    g2 = h([k]).expand(n-1,l[:n-1])+xn*(h([k-1]).expand(n,l[:n]))\n",
    "    if f1 == f2:\n",
    "        print 'n =', n,'ok for e'\n",
    "    else : \n",
    "        print 'n =', n,'no for e'\n",
    "    if g1 == g2 : \n",
    "        print 'n =', n,'ok for h'\n",
    "    else :\n",
    "        print 'n =', n,'no for h'"
   ]
  },
  {
   "cell_type": "markdown",
   "metadata": {
    "deletable": true,
    "editable": true
   },
   "source": [
    "## Converting a symmetric polynomial into a symmetric function\n",
    "\n",
    "Conversely, a \"concrete\" symmetric polynomial, i.e.: explicitly expressed in the variables, maybe written as a formal symmetric function in any chosen basis.\n"
   ]
  },
  {
   "cell_type": "code",
   "execution_count": 27,
   "metadata": {
    "collapsed": false,
    "deletable": true,
    "editable": true
   },
   "outputs": [
    {
     "data": {
      "text/html": [
       "<html><script type=\"math/tex; mode=display\">\\newcommand{\\Bold}[1]{\\mathbf{#1}}x_{0}^{2} x_{1} + x_{0} x_{1}^{2} + x_{0}^{2} + x_{1}^{2}</script></html>"
      ],
      "text/plain": [
       "x0^2*x1 + x0*x1^2 + x0^2 + x1^2"
      ]
     },
     "execution_count": 27,
     "metadata": {},
     "output_type": "execute_result"
    }
   ],
   "source": [
    "pol = (p([2])+e([2,1])).expand(2); pol"
   ]
  },
  {
   "cell_type": "code",
   "execution_count": 28,
   "metadata": {
    "collapsed": false,
    "deletable": true,
    "editable": true
   },
   "outputs": [
    {
     "data": {
      "text/html": [
       "<html><script type=\"math/tex; mode=display\">\\newcommand{\\Bold}[1]{\\mathbf{#1}}m_{2} + m_{21}</script></html>"
      ],
      "text/plain": [
       "m[2] + m[2, 1]"
      ]
     },
     "execution_count": 28,
     "metadata": {},
     "output_type": "execute_result"
    }
   ],
   "source": [
    "m.from_polynomial(pol)"
   ]
  },
  {
   "cell_type": "markdown",
   "metadata": {
    "deletable": true,
    "editable": true
   },
   "source": [
    "The <span style=\"color:red\">__pol__</span> input of the function <span style=\"color:green\">__from\\_polynomial(__</span><span style=\"color:red\">__pol__</span></span><span style=\"color:green\">__)__</span> is assumed to lie in a polynomial ring over the same base field as that used for the symmetric functions, which thus has to be delared beforehand."
   ]
  },
  {
   "cell_type": "code",
   "execution_count": 29,
   "metadata": {
    "collapsed": false,
    "deletable": true,
    "editable": true
   },
   "outputs": [
    {
     "name": "stdout",
     "output_type": "stream",
     "text": [
      "Defining y0, y1, y2\n"
     ]
    }
   ],
   "source": [
    "n=3\n",
    "R = PolynomialRing(F,'y',n)\n",
    "R.inject_variables()"
   ]
  },
  {
   "cell_type": "code",
   "execution_count": 30,
   "metadata": {
    "collapsed": false,
    "deletable": true,
    "editable": true
   },
   "outputs": [],
   "source": [
    "pol=y0^2*y1 + y0*y1^2 + y0^2*y2 + 2*y0*y1*y2 + y1^2*y2 + y0*y2^2 + y1*y2^2"
   ]
  },
  {
   "cell_type": "code",
   "execution_count": 31,
   "metadata": {
    "collapsed": false,
    "deletable": true,
    "editable": true
   },
   "outputs": [
    {
     "data": {
      "text/html": [
       "<html><script type=\"math/tex; mode=display\">\\newcommand{\\Bold}[1]{\\mathbf{#1}}s_{21}</script></html>"
      ],
      "text/plain": [
       "s[2, 1]"
      ]
     },
     "execution_count": 31,
     "metadata": {},
     "output_type": "execute_result"
    }
   ],
   "source": [
    "s.from_polynomial(pol)"
   ]
  },
  {
   "cell_type": "markdown",
   "metadata": {
    "deletable": true,
    "editable": true
   },
   "source": [
    "In the preceeding example, the base ring of polynomials is the same as the base ring of symmetric polynomials considered, as checked by the following"
   ]
  },
  {
   "cell_type": "code",
   "execution_count": 32,
   "metadata": {
    "collapsed": false,
    "deletable": true,
    "editable": true
   },
   "outputs": [
    {
     "name": "stdout",
     "output_type": "stream",
     "text": [
      "Fraction Field of Multivariate Polynomial Ring in q, t over Rational Field\n",
      "Fraction Field of Multivariate Polynomial Ring in q, t over Rational Field\n"
     ]
    }
   ],
   "source": [
    "print s.base_ring()\n",
    "print pol.base_ring()"
   ]
  },
  {
   "cell_type": "markdown",
   "metadata": {
    "deletable": true,
    "editable": true
   },
   "source": [
    "Thus a concrete symmetric polynomial over $\\mathbb{Q}(q,t)$ may be transformed into an abstract symmetric function in any basis."
   ]
  },
  {
   "cell_type": "code",
   "execution_count": 33,
   "metadata": {
    "collapsed": false,
    "deletable": true,
    "editable": true
   },
   "outputs": [
    {
     "data": {
      "text/html": [
       "<html><script type=\"math/tex; mode=display\">\\newcommand{\\Bold}[1]{\\mathbf{#1}}\\mathbb{1} + \\left(q + t\\right)s_{11} + q ts_{111}</script></html>"
      ],
      "text/plain": [
       "s[] + (q+t)*s[1, 1] + q*t*s[1, 1, 1]"
      ]
     },
     "execution_count": 33,
     "metadata": {},
     "output_type": "execute_result"
    }
   ],
   "source": [
    "pol2 = 1+(y0*y1+y0*y2+y1*y2)*(q+t)+(y0*y1*y2)*(q*t)\n",
    "s.from_polynomial(pol2)"
   ]
  },
  {
   "cell_type": "markdown",
   "metadata": {
    "deletable": true,
    "editable": true
   },
   "source": [
    "## Change of basis\n",
    "\n",
    "Many calculations on symmetric functions involve a change of (linear) basis.\n",
    "\n",
    "For example, here we compute $p_{22}+m_{11}s_{21}$ in the elementary basis."
   ]
  },
  {
   "cell_type": "code",
   "execution_count": 34,
   "metadata": {
    "collapsed": false,
    "deletable": true,
    "editable": true
   },
   "outputs": [
    {
     "data": {
      "text/html": [
       "<html><script type=\"math/tex; mode=display\">\\newcommand{\\Bold}[1]{\\mathbf{#1}}e_{1111} - 4e_{211} + 4e_{22} + e_{221} - e_{32}</script></html>"
      ],
      "text/plain": [
       "e[1, 1, 1, 1] - 4*e[2, 1, 1] + 4*e[2, 2] + e[2, 2, 1] - e[3, 2]"
      ]
     },
     "execution_count": 34,
     "metadata": {},
     "output_type": "execute_result"
    }
   ],
   "source": [
    "e(p([2,2])+m([1,1])*s([2,1]))"
   ]
  },
  {
   "cell_type": "markdown",
   "metadata": {
    "deletable": true,
    "editable": true
   },
   "source": [
    "***Exercise:***\n",
    "\n",
    "> *Print all the Schur functions on partitions of size 5 and convert them into the elementary basis.*"
   ]
  },
  {
   "cell_type": "code",
   "execution_count": 35,
   "metadata": {
    "collapsed": false,
    "deletable": true,
    "editable": true
   },
   "outputs": [
    {
     "data": {
      "text/html": [
       "<html><script type=\"math/tex; mode=display\">\\newcommand{\\Bold}[1]{\\mathbf{#1}}s_{5}</script></html>"
      ],
      "text/plain": [
       "s[5]"
      ]
     },
     "metadata": {},
     "output_type": "display_data"
    },
    {
     "data": {
      "text/html": [
       "<html><script type=\"math/tex; mode=display\">\\newcommand{\\Bold}[1]{\\mathbf{#1}}e_{11111} - 4e_{2111} + 3e_{221} + 3e_{311} - 2e_{32} - 2e_{41} + e_{5}</script></html>"
      ],
      "text/plain": [
       "e[1, 1, 1, 1, 1] - 4*e[2, 1, 1, 1] + 3*e[2, 2, 1] + 3*e[3, 1, 1] - 2*e[3, 2] - 2*e[4, 1] + e[5]"
      ]
     },
     "metadata": {},
     "output_type": "display_data"
    },
    {
     "data": {
      "text/html": [
       "<html><script type=\"math/tex; mode=display\">\\newcommand{\\Bold}[1]{\\mathbf{#1}}s_{41}</script></html>"
      ],
      "text/plain": [
       "s[4, 1]"
      ]
     },
     "metadata": {},
     "output_type": "display_data"
    },
    {
     "data": {
      "text/html": [
       "<html><script type=\"math/tex; mode=display\">\\newcommand{\\Bold}[1]{\\mathbf{#1}}e_{2111} - 2e_{221} - e_{311} + 2e_{32} + e_{41} - e_{5}</script></html>"
      ],
      "text/plain": [
       "e[2, 1, 1, 1] - 2*e[2, 2, 1] - e[3, 1, 1] + 2*e[3, 2] + e[4, 1] - e[5]"
      ]
     },
     "metadata": {},
     "output_type": "display_data"
    },
    {
     "data": {
      "text/html": [
       "<html><script type=\"math/tex; mode=display\">\\newcommand{\\Bold}[1]{\\mathbf{#1}}s_{32}</script></html>"
      ],
      "text/plain": [
       "s[3, 2]"
      ]
     },
     "metadata": {},
     "output_type": "display_data"
    },
    {
     "data": {
      "text/html": [
       "<html><script type=\"math/tex; mode=display\">\\newcommand{\\Bold}[1]{\\mathbf{#1}}e_{221} - e_{311} - e_{32} + e_{41}</script></html>"
      ],
      "text/plain": [
       "e[2, 2, 1] - e[3, 1, 1] - e[3, 2] + e[4, 1]"
      ]
     },
     "metadata": {},
     "output_type": "display_data"
    },
    {
     "data": {
      "text/html": [
       "<html><script type=\"math/tex; mode=display\">\\newcommand{\\Bold}[1]{\\mathbf{#1}}s_{311}</script></html>"
      ],
      "text/plain": [
       "s[3, 1, 1]"
      ]
     },
     "metadata": {},
     "output_type": "display_data"
    },
    {
     "data": {
      "text/html": [
       "<html><script type=\"math/tex; mode=display\">\\newcommand{\\Bold}[1]{\\mathbf{#1}}e_{311} - e_{32} - e_{41} + e_{5}</script></html>"
      ],
      "text/plain": [
       "e[3, 1, 1] - e[3, 2] - e[4, 1] + e[5]"
      ]
     },
     "metadata": {},
     "output_type": "display_data"
    },
    {
     "data": {
      "text/html": [
       "<html><script type=\"math/tex; mode=display\">\\newcommand{\\Bold}[1]{\\mathbf{#1}}s_{221}</script></html>"
      ],
      "text/plain": [
       "s[2, 2, 1]"
      ]
     },
     "metadata": {},
     "output_type": "display_data"
    },
    {
     "data": {
      "text/html": [
       "<html><script type=\"math/tex; mode=display\">\\newcommand{\\Bold}[1]{\\mathbf{#1}}e_{32} - e_{41}</script></html>"
      ],
      "text/plain": [
       "e[3, 2] - e[4, 1]"
      ]
     },
     "metadata": {},
     "output_type": "display_data"
    },
    {
     "data": {
      "text/html": [
       "<html><script type=\"math/tex; mode=display\">\\newcommand{\\Bold}[1]{\\mathbf{#1}}s_{2111}</script></html>"
      ],
      "text/plain": [
       "s[2, 1, 1, 1]"
      ]
     },
     "metadata": {},
     "output_type": "display_data"
    },
    {
     "data": {
      "text/html": [
       "<html><script type=\"math/tex; mode=display\">\\newcommand{\\Bold}[1]{\\mathbf{#1}}e_{41} - e_{5}</script></html>"
      ],
      "text/plain": [
       "e[4, 1] - e[5]"
      ]
     },
     "metadata": {},
     "output_type": "display_data"
    },
    {
     "data": {
      "text/html": [
       "<html><script type=\"math/tex; mode=display\">\\newcommand{\\Bold}[1]{\\mathbf{#1}}s_{11111}</script></html>"
      ],
      "text/plain": [
       "s[1, 1, 1, 1, 1]"
      ]
     },
     "metadata": {},
     "output_type": "display_data"
    },
    {
     "data": {
      "text/html": [
       "<html><script type=\"math/tex; mode=display\">\\newcommand{\\Bold}[1]{\\mathbf{#1}}e_{5}</script></html>"
      ],
      "text/plain": [
       "e[5]"
      ]
     },
     "metadata": {},
     "output_type": "display_data"
    }
   ],
   "source": [
    "for mu in Partitions(5) :\n",
    "    show(s(mu))\n",
    "    show(e(s(mu)))"
   ]
  },
  {
   "cell_type": "markdown",
   "metadata": {
    "deletable": true,
    "editable": true
   },
   "source": [
    "***Exercise:***\n",
    "\n",
    "> *Compute the sum of the homogeneous functions on partitions of size 4 in the power sum basis.*"
   ]
  },
  {
   "cell_type": "code",
   "execution_count": 36,
   "metadata": {
    "collapsed": false,
    "deletable": true,
    "editable": true
   },
   "outputs": [
    {
     "data": {
      "text/html": [
       "<html><script type=\"math/tex; mode=display\">\\newcommand{\\Bold}[1]{\\mathbf{#1}}\\frac{47}{24}p_{1111} + \\frac{7}{4}p_{211} + \\frac{3}{8}p_{22} + \\frac{2}{3}p_{31} + \\frac{1}{4}p_{4}</script></html>"
      ],
      "text/plain": [
       "47/24*p[1, 1, 1, 1] + 7/4*p[2, 1, 1] + 3/8*p[2, 2] + 2/3*p[3, 1] + 1/4*p[4]"
      ]
     },
     "execution_count": 36,
     "metadata": {},
     "output_type": "execute_result"
    }
   ],
   "source": [
    "p(sum(h(mu) for mu in Partitions(4)))"
   ]
  },
  {
   "cell_type": "markdown",
   "metadata": {
    "deletable": true,
    "editable": true
   },
   "source": [
    "***Exercise:***\n",
    "\n",
    "> It is well known that \n",
    "  $$h_n(\\mathbf{x}) = \\sum \\limits_{\\mu \\vdash n} \\frac{p_{\\mu}(\\mathbf{x})}{z_{\\mu}}.$$\n",
    "\n",
    "> Verify this result for $n \\in \\{1,2,3,4\\}$*\n",
    ">\n",
    "> *Note that there exists a function <span style=\"color:green\">__zee($\\ $)__</span> which takes a partition $\\mu$ and gives back the value of $z_{\\mu}$. To use this function, you should import it from* <span style=\"color:green\">__sage.combinat.sf.sfa__</span>."
   ]
  },
  {
   "cell_type": "code",
   "execution_count": 37,
   "metadata": {
    "collapsed": false,
    "deletable": true,
    "editable": true
   },
   "outputs": [
    {
     "data": {
      "text/html": [
       "<html><script type=\"math/tex; mode=display\">\\newcommand{\\Bold}[1]{\\mathbf{#1}}64</script></html>"
      ],
      "text/plain": [
       "64"
      ]
     },
     "execution_count": 37,
     "metadata": {},
     "output_type": "execute_result"
    }
   ],
   "source": [
    "from sage.combinat.sf.sfa import *\n",
    "zee([4,4,2,1])"
   ]
  },
  {
   "cell_type": "code",
   "execution_count": 38,
   "metadata": {
    "collapsed": false,
    "deletable": true,
    "editable": true
   },
   "outputs": [
    {
     "data": {
      "text/html": [
       "<html><script type=\"math/tex; mode=display\">\\newcommand{\\Bold}[1]{\\mathbf{#1}}p_{1}</script></html>"
      ],
      "text/plain": [
       "p[1]"
      ]
     },
     "metadata": {},
     "output_type": "display_data"
    },
    {
     "data": {
      "text/html": [
       "<html><script type=\"math/tex; mode=display\">\\newcommand{\\Bold}[1]{\\mathbf{#1}}p_{1}</script></html>"
      ],
      "text/plain": [
       "p[1]"
      ]
     },
     "metadata": {},
     "output_type": "display_data"
    },
    {
     "data": {
      "text/html": [
       "<html><script type=\"math/tex; mode=display\">\\newcommand{\\Bold}[1]{\\mathbf{#1}}\\frac{1}{2}p_{11} + \\frac{1}{2}p_{2}</script></html>"
      ],
      "text/plain": [
       "1/2*p[1, 1] + 1/2*p[2]"
      ]
     },
     "metadata": {},
     "output_type": "display_data"
    },
    {
     "data": {
      "text/html": [
       "<html><script type=\"math/tex; mode=display\">\\newcommand{\\Bold}[1]{\\mathbf{#1}}\\frac{1}{2}p_{11} + \\frac{1}{2}p_{2}</script></html>"
      ],
      "text/plain": [
       "1/2*p[1, 1] + 1/2*p[2]"
      ]
     },
     "metadata": {},
     "output_type": "display_data"
    },
    {
     "data": {
      "text/html": [
       "<html><script type=\"math/tex; mode=display\">\\newcommand{\\Bold}[1]{\\mathbf{#1}}\\frac{1}{6}p_{111} + \\frac{1}{2}p_{21} + \\frac{1}{3}p_{3}</script></html>"
      ],
      "text/plain": [
       "1/6*p[1, 1, 1] + 1/2*p[2, 1] + 1/3*p[3]"
      ]
     },
     "metadata": {},
     "output_type": "display_data"
    },
    {
     "data": {
      "text/html": [
       "<html><script type=\"math/tex; mode=display\">\\newcommand{\\Bold}[1]{\\mathbf{#1}}\\frac{1}{6}p_{111} + \\frac{1}{2}p_{21} + \\frac{1}{3}p_{3}</script></html>"
      ],
      "text/plain": [
       "1/6*p[1, 1, 1] + 1/2*p[2, 1] + 1/3*p[3]"
      ]
     },
     "metadata": {},
     "output_type": "display_data"
    },
    {
     "data": {
      "text/html": [
       "<html><script type=\"math/tex; mode=display\">\\newcommand{\\Bold}[1]{\\mathbf{#1}}\\frac{1}{24}p_{1111} + \\frac{1}{4}p_{211} + \\frac{1}{8}p_{22} + \\frac{1}{3}p_{31} + \\frac{1}{4}p_{4}</script></html>"
      ],
      "text/plain": [
       "1/24*p[1, 1, 1, 1] + 1/4*p[2, 1, 1] + 1/8*p[2, 2] + 1/3*p[3, 1] + 1/4*p[4]"
      ]
     },
     "metadata": {},
     "output_type": "display_data"
    },
    {
     "data": {
      "text/html": [
       "<html><script type=\"math/tex; mode=display\">\\newcommand{\\Bold}[1]{\\mathbf{#1}}\\frac{1}{24}p_{1111} + \\frac{1}{4}p_{211} + \\frac{1}{8}p_{22} + \\frac{1}{3}p_{31} + \\frac{1}{4}p_{4}</script></html>"
      ],
      "text/plain": [
       "1/24*p[1, 1, 1, 1] + 1/4*p[2, 1, 1] + 1/8*p[2, 2] + 1/3*p[3, 1] + 1/4*p[4]"
      ]
     },
     "metadata": {},
     "output_type": "display_data"
    }
   ],
   "source": [
    "for n in range (1,5) :\n",
    "    show(p(h([n])))\n",
    "    show(sum(p(mu)/zee(mu) for mu in Partitions(n)))"
   ]
  },
  {
   "cell_type": "markdown",
   "metadata": {
    "deletable": true,
    "editable": true
   },
   "source": [
    "> *Note that there also exists a function <span style=\"color:green\">__aut($\\ $)__</span> which is the same as <span style=\"color:green\">__zee($\\ $)__</span> but doesn't have to be imported. If you prefer the name zee you can also create a little procedure to \"rename\" the <span style=\"color:green\">__aut($\\ $)__</span> function.*"
   ]
  },
  {
   "cell_type": "code",
   "execution_count": 39,
   "metadata": {
    "collapsed": true,
    "deletable": true,
    "editable": true
   },
   "outputs": [],
   "source": [
    "def zee(mu): \n",
    "    mu=Partition(mu)\n",
    "    return mu.aut()"
   ]
  },
  {
   "cell_type": "markdown",
   "metadata": {
    "deletable": true,
    "editable": true
   },
   "source": [
    "We can see that the terms of a calculation are always given in a precise order on the partitions. This order can be changed.\n",
    "\n",
    "First, the function <span style=\"color:green\">__get\\_print\\_style($\\ $)__</span> applied to a basis gives us the order used on the partitions for this basis. Then, with <span style=\"color:green\">__set\\_print\\_style($\\ $)__</span> we can set another printing order. Possible orders are:\n",
    "\n",
    "-   <span style=\"color:green\">__lex__</span>: lexicographic order.\n",
    "-   <span style=\"color:green\">__length__</span>: by length of the partitions, and for partitions of same length by lexicographic order.\n",
    "-   <span style=\"color:green\">__maximal\\_part__</span>: by value of the biggest part of the partition."
   ]
  },
  {
   "cell_type": "code",
   "execution_count": 40,
   "metadata": {
    "collapsed": false,
    "deletable": true,
    "editable": true
   },
   "outputs": [
    {
     "data": {
      "text/html": [
       "<html><script type=\"math/tex; mode=display\">\\newcommand{\\Bold}[1]{\\mathbf{#1}}\\verb|lex|</script></html>"
      ],
      "text/plain": [
       "'lex'"
      ]
     },
     "execution_count": 40,
     "metadata": {},
     "output_type": "execute_result"
    }
   ],
   "source": [
    "s.get_print_style()"
   ]
  },
  {
   "cell_type": "code",
   "execution_count": 41,
   "metadata": {
    "collapsed": false,
    "deletable": true,
    "editable": true
   },
   "outputs": [
    {
     "data": {
      "text/html": [
       "<html><script type=\"math/tex; mode=display\">\\newcommand{\\Bold}[1]{\\mathbf{#1}}-s_{111111} - s_{21111} + s_{2211} + s_{222} - s_{33} - s_{42} + s_{51} + s_{6}</script></html>"
      ],
      "text/plain": [
       "-s[1, 1, 1, 1, 1, 1] - s[2, 1, 1, 1, 1] + s[2, 2, 1, 1] + s[2, 2, 2] - s[3, 3] - s[4, 2] + s[5, 1] + s[6]"
      ]
     },
     "execution_count": 41,
     "metadata": {},
     "output_type": "execute_result"
    }
   ],
   "source": [
    "s.set_print_style('lex')\n",
    "s(p[4,1,1])"
   ]
  },
  {
   "cell_type": "code",
   "execution_count": 42,
   "metadata": {
    "collapsed": false,
    "deletable": true,
    "editable": true
   },
   "outputs": [
    {
     "data": {
      "text/html": [
       "<html><script type=\"math/tex; mode=display\">\\newcommand{\\Bold}[1]{\\mathbf{#1}}s_{6} - s_{33} - s_{42} + s_{51} + s_{222} + s_{2211} - s_{21111} - s_{111111}</script></html>"
      ],
      "text/plain": [
       "s[6] - s[3, 3] - s[4, 2] + s[5, 1] + s[2, 2, 2] + s[2, 2, 1, 1] - s[2, 1, 1, 1, 1] - s[1, 1, 1, 1, 1, 1]"
      ]
     },
     "execution_count": 42,
     "metadata": {},
     "output_type": "execute_result"
    }
   ],
   "source": [
    "s.set_print_style('length')\n",
    "s(p[4,1,1])"
   ]
  },
  {
   "cell_type": "code",
   "execution_count": 43,
   "metadata": {
    "collapsed": false,
    "deletable": true,
    "editable": true
   },
   "outputs": [
    {
     "data": {
      "text/html": [
       "<html><script type=\"math/tex; mode=display\">\\newcommand{\\Bold}[1]{\\mathbf{#1}}\\verb|length|</script></html>"
      ],
      "text/plain": [
       "'length'"
      ]
     },
     "execution_count": 43,
     "metadata": {},
     "output_type": "execute_result"
    }
   ],
   "source": [
    "s.get_print_style()"
   ]
  },
  {
   "cell_type": "code",
   "execution_count": 44,
   "metadata": {
    "collapsed": false,
    "deletable": true,
    "editable": true
   },
   "outputs": [
    {
     "data": {
      "text/html": [
       "<html><script type=\"math/tex; mode=display\">\\newcommand{\\Bold}[1]{\\mathbf{#1}}-s_{111111} + s_{222} - s_{21111} + s_{2211} - s_{33} - s_{42} + s_{51} + s_{6}</script></html>"
      ],
      "text/plain": [
       "-s[1, 1, 1, 1, 1, 1] + s[2, 2, 2] - s[2, 1, 1, 1, 1] + s[2, 2, 1, 1] - s[3, 3] - s[4, 2] + s[5, 1] + s[6]"
      ]
     },
     "execution_count": 44,
     "metadata": {},
     "output_type": "execute_result"
    }
   ],
   "source": [
    "s.set_print_style('maximal_part')\n",
    "s(p[4,1,1])"
   ]
  },
  {
   "cell_type": "markdown",
   "metadata": {
    "deletable": true,
    "editable": true
   },
   "source": [
    "## More basic commands on symmetric functions\n",
    "\n",
    "The function <span style=\"color:green\">__coefficient($\\ $)__</span>  returns the coefficient associated to a given partition."
   ]
  },
  {
   "cell_type": "code",
   "execution_count": 45,
   "metadata": {
    "collapsed": false,
    "deletable": true,
    "editable": true
   },
   "outputs": [
    {
     "data": {
      "text/html": [
       "<html><script type=\"math/tex; mode=display\">\\newcommand{\\Bold}[1]{\\mathbf{#1}}e_{43111} - 2e_{4321} + e_{433} - e_{4411} + e_{442} - e_{52111} + 2e_{5221} - e_{532} + e_{541} + e_{6211} - e_{622} - e_{64} - e_{721} + e_{82}</script></html>"
      ],
      "text/plain": [
       "e[4, 3, 1, 1, 1] - 2*e[4, 3, 2, 1] + e[4, 3, 3] - e[4, 4, 1, 1] + e[4, 4, 2] - e[5, 2, 1, 1, 1] + 2*e[5, 2, 2, 1] - e[5, 3, 2] + e[5, 4, 1] + e[6, 2, 1, 1] - e[6, 2, 2] - e[6, 4] - e[7, 2, 1] + e[8, 2]"
      ]
     },
     "execution_count": 45,
     "metadata": {},
     "output_type": "execute_result"
    }
   ],
   "source": [
    "g = s[5,2,2,1]\n",
    "e(g)"
   ]
  },
  {
   "cell_type": "code",
   "execution_count": 46,
   "metadata": {
    "collapsed": false,
    "deletable": true,
    "editable": true
   },
   "outputs": [
    {
     "data": {
      "text/html": [
       "<html><script type=\"math/tex; mode=display\">\\newcommand{\\Bold}[1]{\\mathbf{#1}}-2</script></html>"
      ],
      "text/plain": [
       "-2"
      ]
     },
     "execution_count": 46,
     "metadata": {},
     "output_type": "execute_result"
    }
   ],
   "source": [
    "e(g).coefficient([4,3,2,1])"
   ]
  },
  {
   "cell_type": "markdown",
   "metadata": {
    "deletable": true,
    "editable": true
   },
   "source": [
    "The function <span style=\"color:green\">__degree($\\ $)__</span> returns the degree of the maximal homogeneous component of a symmetric function."
   ]
  },
  {
   "cell_type": "code",
   "execution_count": 47,
   "metadata": {
    "collapsed": false,
    "deletable": true,
    "editable": true
   },
   "outputs": [
    {
     "data": {
      "text/html": [
       "<html><script type=\"math/tex; mode=display\">\\newcommand{\\Bold}[1]{\\mathbf{#1}}10</script></html>"
      ],
      "text/plain": [
       "10"
      ]
     },
     "execution_count": 47,
     "metadata": {},
     "output_type": "execute_result"
    }
   ],
   "source": [
    "g=s[5,2,2,1]+s[3,2]\n",
    "g.degree()"
   ]
  },
  {
   "cell_type": "markdown",
   "metadata": {
    "deletable": true,
    "editable": true
   },
   "source": [
    "Finally, the function <span style=\"color:green\">__support($\\ $)__</span> returns the list of partitions that appear in a given symmetric function. The result will depend on the basis of the function. In the following example, we also use the function <span style=\"color:green\">__sorted($\\ $)__</span> to get an ordered list."
   ]
  },
  {
   "cell_type": "code",
   "execution_count": 48,
   "metadata": {
    "collapsed": false,
    "deletable": true,
    "editable": true
   },
   "outputs": [
    {
     "name": "stdout",
     "output_type": "stream",
     "text": [
      "[[5, 2, 2, 1], [3, 2]]\n"
     ]
    },
    {
     "data": {
      "text/html": [
       "<html><script type=\"math/tex; mode=display\">\\newcommand{\\Bold}[1]{\\mathbf{#1}}\\left[32, 41, 5221, 5311, 532, 541, 6211, 631, 64, 7111, 721, 811, 82\\right]</script></html>"
      ],
      "text/plain": [
       "[[3, 2],\n",
       " [4, 1],\n",
       " [5, 2, 2, 1],\n",
       " [5, 3, 1, 1],\n",
       " [5, 3, 2],\n",
       " [5, 4, 1],\n",
       " [6, 2, 1, 1],\n",
       " [6, 3, 1],\n",
       " [6, 4],\n",
       " [7, 1, 1, 1],\n",
       " [7, 2, 1],\n",
       " [8, 1, 1],\n",
       " [8, 2]]"
      ]
     },
     "execution_count": 48,
     "metadata": {},
     "output_type": "execute_result"
    }
   ],
   "source": [
    "print g.support()\n",
    "sorted(h(g).support())"
   ]
  },
  {
   "cell_type": "markdown",
   "metadata": {
    "deletable": true,
    "editable": true
   },
   "source": [
    "## Other well-known bases\n",
    "\n",
    "Other important bases are implemented in SAGE.\n",
    "\n",
    "-   The Hall-littlewood basis\n",
    "-   The Jack basis\n",
    "-   The orthogonal basis\n",
    "-   The symplectic basis\n",
    "-   The Witt basis\n",
    "-   The zonal basis\n",
    "\n",
    "The well known Macdonald symmetric functions are also implemented in sage. For more details, you can consult the following sage reference : <http://doc.sagemath.org/html/en/reference/combinat/sage/combinat/sf/macdonald.html>\n",
    "\n",
    "Here are some examples involving the \"combinatorial\" Macdonald symmetric functions. These are eigenfunctions of the operator $\\nabla$. (See below for more informations about $\\nabla$.)"
   ]
  },
  {
   "cell_type": "code",
   "execution_count": 49,
   "metadata": {
    "collapsed": false,
    "deletable": true,
    "editable": true
   },
   "outputs": [],
   "source": [
    "Symqt = SymmetricFunctions(FractionField(QQ['q','t']))\n",
    "Symqt.inject_shorthands()\n",
    "H = Symqt.macdonald().Ht()\n",
    "H.print_options(prefix=\"H\")"
   ]
  },
  {
   "cell_type": "code",
   "execution_count": 50,
   "metadata": {
    "collapsed": false,
    "deletable": true,
    "editable": true
   },
   "outputs": [
    {
     "data": {
      "text/html": [
       "<html><script type=\"math/tex; mode=display\">\\newcommand{\\Bold}[1]{\\mathbf{#1}}q ts_{111} + \\left(q + t\\right)s_{21} + s_{3}</script></html>"
      ],
      "text/plain": [
       "q*t*s[1, 1, 1] + (q+t)*s[2, 1] + s[3]"
      ]
     },
     "execution_count": 50,
     "metadata": {},
     "output_type": "execute_result"
    }
   ],
   "source": [
    "s(H([2,1]))"
   ]
  },
  {
   "cell_type": "code",
   "execution_count": 51,
   "metadata": {
    "collapsed": false,
    "deletable": true,
    "editable": true
   },
   "outputs": [
    {
     "data": {
      "text/html": [
       "<html><script type=\"math/tex; mode=display\">\\newcommand{\\Bold}[1]{\\mathbf{#1}}\\left(\\frac{- q}{- q t^{2} + t^{3} + q^{2} -  q t}\\right)H_{1,1,1} + \\left(\\frac{q^{2} + q t + t^{2}}{- q^{2} t^{2} + q^{3} + t^{3} -  q t}\\right)H_{2,1} + \\left(\\frac{t}{- q^{3} + q^{2} t + q t -  t^{2}}\\right)H_{3}</script></html>"
      ],
      "text/plain": [
       "((-q)/(-q*t^2+t^3+q^2-q*t))*McdHt[1, 1, 1] + ((q^2+q*t+t^2)/(-q^2*t^2+q^3+t^3-q*t))*McdHt[2, 1] + (t/(-q^3+q^2*t+q*t-t^2))*McdHt[3]"
      ]
     },
     "execution_count": 51,
     "metadata": {},
     "output_type": "execute_result"
    }
   ],
   "source": [
    "H(s[2,1])"
   ]
  },
  {
   "cell_type": "code",
   "execution_count": 52,
   "metadata": {
    "collapsed": false,
    "deletable": true,
    "editable": true
   },
   "outputs": [
    {
     "data": {
      "text/html": [
       "<html><script type=\"math/tex; mode=display\">\\newcommand{\\Bold}[1]{\\mathbf{#1}}\\left[q^{6}H_{4}, q^{3} tH_{3,1}, q^{2} t^{2}H_{2,2}, q t^{3}H_{2,1,1}, t^{6}H_{1,1,1,1}\\right]</script></html>"
      ],
      "text/plain": [
       "[q^6*McdHt[4],\n",
       " q^3*t*McdHt[3, 1],\n",
       " q^2*t^2*McdHt[2, 2],\n",
       " q*t^3*McdHt[2, 1, 1],\n",
       " t^6*McdHt[1, 1, 1, 1]]"
      ]
     },
     "execution_count": 52,
     "metadata": {},
     "output_type": "execute_result"
    }
   ],
   "source": [
    "[H(mu).nabla() for mu in Partitions(4)]"
   ]
  },
  {
   "cell_type": "markdown",
   "metadata": {
    "deletable": true,
    "editable": true
   },
   "source": [
    "## Scalar Products\n",
    "\n",
    "The Hall scalar product is the standard scalar product on the algebra of symmetric functions. It makes the set of Schur functions an orthonormal basis. It may be defined on the basis of powersum $p_{\\mu}$ and $p_{\\lambda}$ as being equal to $z_{\\mu}$ if $\\mu = \\lambda$, and zero otherwise.\n",
    "\n",
    "Thus, we get"
   ]
  },
  {
   "cell_type": "code",
   "execution_count": 53,
   "metadata": {
    "collapsed": false,
    "deletable": true,
    "editable": true
   },
   "outputs": [
    {
     "data": {
      "text/html": [
       "<html><script type=\"math/tex; mode=display\">\\newcommand{\\Bold}[1]{\\mathbf{#1}}8</script></html>"
      ],
      "text/plain": [
       "8"
      ]
     },
     "execution_count": 53,
     "metadata": {},
     "output_type": "execute_result"
    }
   ],
   "source": [
    "p([2,2,1]).scalar(p([2,2,1]))"
   ]
  },
  {
   "cell_type": "markdown",
   "metadata": {
    "deletable": true,
    "editable": true
   },
   "source": [
    "One may specify an optional argument which is a function on partitions giving the value for the scalar product between $p_{\\mu}$ and $p_{\\mu}$. Power sums remain orthogonal for the resulting scalar product. By default, this value is $z_{\\mu}$, but other interesting cases include:\n",
    "\n",
    "$$ \\langle p_{\\mu},p_{\\mu}\\rangle_{q,t} = z_\\mu\\,\\prod_i\\frac{1-q^{\\mu_i}}{1-t^{\\mu_i}}.$$\n",
    "\n",
    "This is already refined as <span style=\"color:green\">__scalar_qt($\\ $)__</span>.\n"
   ]
  },
  {
   "cell_type": "code",
   "execution_count": 54,
   "metadata": {
    "collapsed": false,
    "deletable": true,
    "editable": true
   },
   "outputs": [
    {
     "data": {
      "text/html": [
       "<html><script type=\"math/tex; mode=display\">\\newcommand{\\Bold}[1]{\\mathbf{#1}}\\left(8\\right) \\cdot (t - 1)^{-3} \\cdot (t + 1)^{-2} \\cdot (q + 1)^{2} \\cdot (q - 1)^{3}</script></html>"
      ],
      "text/plain": [
       "(8) * (t - 1)^-3 * (t + 1)^-2 * (q + 1)^2 * (q - 1)^3"
      ]
     },
     "execution_count": 54,
     "metadata": {},
     "output_type": "execute_result"
    }
   ],
   "source": [
    "factor(p([2,2,1]).scalar_qt(p[2,2,1]))"
   ]
  },
  {
   "cell_type": "markdown",
   "metadata": {
    "deletable": true,
    "editable": true
   },
   "source": [
    "## Some interesting operators on symmetric functions\n",
    "\n",
    "Operators on symmetric functions may be found in Sage. Among these, the <span style=\"color:green\">__nabla operator__</span> is charactrized as having the combinatorial Macdonald symmetric functions $H_{\\mu}=H_{\\mu}(\\mathbf{x};q,t)$ as eigenfunctions:\n",
    "\n",
    "  $$\\nabla H_{\\mu} = t^{n(\\mu)} q^{n(\\mu')} H_{\\mu},$$\n",
    "\n",
    "where $\\mu$ is a partition, $\\mu'$ its conjugate, and $n(\\mu)$ is set to be equal to $\\sum_i (i-1)\\mu_i$.\n",
    "This operator $\\nabla$ is thus defined over symmetric functions with coefficients in the fraction field $\\mathbb{Q}(q,t)$, as is declared above.\n",
    "\n",
    "It has been shown by Haiman that $\\nabla(e_n)$ is the Frobenius transform of the bigraded character of the $\\mathbb{S}_n$-module of diagonal harmonic polynomials. Recall the the Frobernius transform encodes irreducible as Schur functions."
   ]
  },
  {
   "cell_type": "code",
   "execution_count": 55,
   "metadata": {
    "collapsed": false,
    "deletable": true,
    "editable": true
   },
   "outputs": [
    {
     "data": {
      "text/html": [
       "<html><script type=\"math/tex; mode=display\">\\newcommand{\\Bold}[1]{\\mathbf{#1}}\\left(q^{3} + q^{2} t + q t^{2} + t^{3} + q t\\right)s_{111} + \\left(q^{2} + q t + t^{2} + q + t\\right)s_{21} + s_{3}</script></html>"
      ],
      "text/plain": [
       "(q^3+q^2*t+q*t^2+t^3+q*t)*s[1, 1, 1] + (q^2+q*t+t^2+q+t)*s[2, 1] + s[3]"
      ]
     },
     "execution_count": 55,
     "metadata": {},
     "output_type": "execute_result"
    }
   ],
   "source": [
    "s(e[3].nabla())"
   ]
  },
  {
   "cell_type": "markdown",
   "metadata": {
    "deletable": true,
    "editable": true
   },
   "source": [
    "The global dimension of this module is $(n+1)^{n-1}$, and the dimension of its alternating component (see exercise below) is the Catalan number $C_n=\\frac{1}{n+1}\\binom{2n}{n}$. And there are many other interesting properties of the bigraded version."
   ]
  },
  {
   "cell_type": "code",
   "execution_count": 56,
   "metadata": {
    "collapsed": false,
    "deletable": true,
    "editable": true
   },
   "outputs": [
    {
     "data": {
      "text/html": [
       "<html><script type=\"math/tex; mode=display\">\\newcommand{\\Bold}[1]{\\mathbf{#1}}q^{3} + q^{2} t + q t^{2} + t^{3} + 2 q^{2} + 3 q t + 2 t^{2} + 2 q + 2 t + 1</script></html>"
      ],
      "text/plain": [
       "q^3 + q^2*t + q*t^2 + t^3 + 2*q^2 + 3*q*t + 2*t^2 + 2*q + 2*t + 1"
      ]
     },
     "execution_count": 56,
     "metadata": {},
     "output_type": "execute_result"
    }
   ],
   "source": [
    "Hilb_qt=s(e[3].nabla()).scalar(p[1]^3); Hilb_qt"
   ]
  },
  {
   "cell_type": "code",
   "execution_count": 57,
   "metadata": {
    "collapsed": false,
    "deletable": true,
    "editable": true
   },
   "outputs": [
    {
     "data": {
      "text/html": [
       "<html><script type=\"math/tex; mode=display\">\\newcommand{\\Bold}[1]{\\mathbf{#1}}16</script></html>"
      ],
      "text/plain": [
       "16"
      ]
     },
     "execution_count": 57,
     "metadata": {},
     "output_type": "execute_result"
    }
   ],
   "source": [
    "Hilb_qt.substitute({q:1,t:1})"
   ]
  },
  {
   "cell_type": "code",
   "execution_count": 58,
   "metadata": {
    "collapsed": false,
    "deletable": true,
    "editable": true
   },
   "outputs": [
    {
     "data": {
      "text/html": [
       "<html><script type=\"math/tex; mode=display\">\\newcommand{\\Bold}[1]{\\mathbf{#1}}q^{-3} \\cdot (q + 1)^{2} \\cdot (q^{2} + 1)^{2}</script></html>"
      ],
      "text/plain": [
       "q^-3 * (q + 1)^2 * (q^2 + 1)^2"
      ]
     },
     "execution_count": 58,
     "metadata": {},
     "output_type": "execute_result"
    }
   ],
   "source": [
    "factor(Hilb_qt.substitute({t:1/q}))"
   ]
  },
  {
   "cell_type": "markdown",
   "metadata": {
    "deletable": true,
    "editable": true
   },
   "source": [
    "There are also interesting conjectures on the effect of $\\nabla$ on Schur functions. "
   ]
  },
  {
   "cell_type": "code",
   "execution_count": 59,
   "metadata": {
    "collapsed": false,
    "deletable": true,
    "editable": true
   },
   "outputs": [
    {
     "data": {
      "text/html": [
       "<html><script type=\"math/tex; mode=display\">\\newcommand{\\Bold}[1]{\\mathbf{#1}}\\left(q^{6} t^{3} + q^{5} t^{4} + q^{4} t^{5} + q^{3} t^{6}\\right)s_{11111} + \\left(q^{5} t^{2} + 2 q^{4} t^{3} + 2 q^{3} t^{4} + q^{2} t^{5}\\right)s_{221} + \\left(q^{6} t^{2} + 2 q^{5} t^{3} + 2 q^{4} t^{4} + 2 q^{3} t^{5} + q^{2} t^{6} + q^{4} t^{3} + q^{3} t^{4}\\right)s_{2111} + \\left(q^{4} t^{2} + q^{3} t^{3} + q^{2} t^{4}\\right)s_{32} + \\left(q^{5} t^{2} + q^{4} t^{3} + q^{3} t^{4} + q^{2} t^{5} + q^{4} t^{2} + 2 q^{3} t^{3} + q^{2} t^{4}\\right)s_{311} + \\left(q^{3} t^{2} + q^{2} t^{3}\\right)s_{41}</script></html>"
      ],
      "text/plain": [
       "(q^6*t^3+q^5*t^4+q^4*t^5+q^3*t^6)*s[1, 1, 1, 1, 1] + (q^5*t^2+2*q^4*t^3+2*q^3*t^4+q^2*t^5)*s[2, 2, 1] + (q^6*t^2+2*q^5*t^3+2*q^4*t^4+2*q^3*t^5+q^2*t^6+q^4*t^3+q^3*t^4)*s[2, 1, 1, 1] + (q^4*t^2+q^3*t^3+q^2*t^4)*s[3, 2] + (q^5*t^2+q^4*t^3+q^3*t^4+q^2*t^5+q^4*t^2+2*q^3*t^3+q^2*t^4)*s[3, 1, 1] + (q^3*t^2+q^2*t^3)*s[4, 1]"
      ]
     },
     "execution_count": 59,
     "metadata": {},
     "output_type": "execute_result"
    }
   ],
   "source": [
    "(-s([2,2,1])).nabla()"
   ]
  },
  {
   "cell_type": "markdown",
   "metadata": {
    "deletable": true,
    "editable": true
   },
   "source": [
    "***Exercise:***\n",
    "\n",
    "> *We have the following relation between $\\nabla (e_n)$ and the $(q,t)$-Catalan polynomial:*\n",
    ">\n",
    ">   $$C_n(q,t) = \\langle \\nabla e_n , e_n \\rangle.$$\n",
    ">\n",
    "> *Check this relation for $1 \\leq n \\leq 5$*\n",
    ">\n",
    "> Note that the $n^{\\rm th}$ $(q,t)$-Catalan number can be computed using the command <span style=\"color:green\">__qt\\_catalan\\_number($n$)__</span> which may be imported from <span style=\"color:green\">__sage.combinat.q\\_analogues__</span>."
   ]
  },
  {
   "cell_type": "code",
   "execution_count": 60,
   "metadata": {
    "collapsed": false,
    "deletable": true,
    "editable": true
   },
   "outputs": [
    {
     "data": {
      "text/html": [
       "<html><script type=\"math/tex; mode=display\">\\newcommand{\\Bold}[1]{\\mathbf{#1}}q^{10} + q^{9} t + q^{8} t^{2} + q^{7} t^{3} + q^{6} t^{4} + q^{5} t^{5} + q^{4} t^{6} + q^{3} t^{7} + q^{2} t^{8} + q t^{9} + t^{10} + q^{8} t + q^{7} t^{2} + q^{6} t^{3} + q^{5} t^{4} + q^{4} t^{5} + q^{3} t^{6} + q^{2} t^{7} + q t^{8} + q^{7} t + 2 q^{6} t^{2} + 2 q^{5} t^{3} + 2 q^{4} t^{4} + 2 q^{3} t^{5} + 2 q^{2} t^{6} + q t^{7} + q^{6} t + q^{5} t^{2} + 2 q^{4} t^{3} + 2 q^{3} t^{4} + q^{2} t^{5} + q t^{6} + q^{4} t^{2} + q^{3} t^{3} + q^{2} t^{4}</script></html>"
      ],
      "text/plain": [
       "q^10 + q^9*t + q^8*t^2 + q^7*t^3 + q^6*t^4 + q^5*t^5 + q^4*t^6 + q^3*t^7 + q^2*t^8 + q*t^9 + t^10 + q^8*t + q^7*t^2 + q^6*t^3 + q^5*t^4 + q^4*t^5 + q^3*t^6 + q^2*t^7 + q*t^8 + q^7*t + 2*q^6*t^2 + 2*q^5*t^3 + 2*q^4*t^4 + 2*q^3*t^5 + 2*q^2*t^6 + q*t^7 + q^6*t + q^5*t^2 + 2*q^4*t^3 + 2*q^3*t^4 + q^2*t^5 + q*t^6 + q^4*t^2 + q^3*t^3 + q^2*t^4"
      ]
     },
     "execution_count": 60,
     "metadata": {},
     "output_type": "execute_result"
    }
   ],
   "source": [
    "from sage.combinat.q_analogues import *\n",
    "n=5\n",
    "qt_catalan_number(n)"
   ]
  },
  {
   "cell_type": "code",
   "execution_count": 61,
   "metadata": {
    "collapsed": false,
    "deletable": true,
    "editable": true
   },
   "outputs": [
    {
     "name": "stdout",
     "output_type": "stream",
     "text": [
      "True\n",
      "True\n",
      "True\n",
      "True\n",
      "True\n"
     ]
    }
   ],
   "source": [
    "for n in range (1,6) :\n",
    "    print e([n]).nabla().scalar(e([n])) == qt_catalan_number(n)"
   ]
  },
  {
   "cell_type": "markdown",
   "metadata": {
    "deletable": true,
    "editable": true
   },
   "source": [
    "## Plethysm\n",
    "\n",
    "As its name strongly suggests, the <span style=\"color:green\">__plethysm($\\ $)__</span> function computes the <span style=\"color:blue\">__plethysm__</span> $f\\circ g$, of two symmetric functions $f$ and $g$. Recall that this is the operation characterized by the properties\n",
    "\n",
    "- $(f_1+f_2)\\circ g =(f_1\\circ g)+(f_2\\circ g)$,\n",
    "- $(f_1\\cdot f_2)\\circ g =(f_1\\circ g)\\cdot (f_2\\circ g)$,\n",
    "- $p_k\\circ(g_1+g_2) =(p_k\\circ g1)+(p_k\\circ g2)$,\n",
    "- $p_k\\circ (g_1\\cdot g_2) =(p_k\\circ g1)+(p_k\\circ g2)$,\n",
    "- $p_k\\circ p_n =p_{kn}$,\n",
    "- $p_k\\circ x =x^k$, if $x$ is a <span style=\"color:blue\">__variable__</span>\n",
    "- $p_k\\circ c =c$, if $c$ is a <span style=\"color:blue\">__constant__</span>\n",
    "\n",
    "One may specify a list of SAGE-variables to be treated as <span style=\"color:blue\">__variables__</span> in a plethysm, using the option <span style=\"color:green\">__include=[$x_1,x_2,\\ldots,x_k$]__</span>, and/or a list of SAGE-variables to be considered as <span style=\"color:blue\">__constants__</span>, using the option <span style=\"color:green\">__exclude=[$c_1,c_2,\\ldots,c_k$]__</span>. Here are some examples."
   ]
  },
  {
   "cell_type": "code",
   "execution_count": 62,
   "metadata": {
    "collapsed": false,
    "deletable": true,
    "editable": true
   },
   "outputs": [
    {
     "data": {
      "text/html": [
       "<html><script type=\"math/tex; mode=display\">\\newcommand{\\Bold}[1]{\\mathbf{#1}}\\frac{1}{36}p_{33332222} + \\frac{1}{12}p_{4333322} + \\frac{1}{12}p_{6332222} + \\frac{1}{18}p_{633332} + \\frac{1}{4}p_{643322} + \\frac{1}{6}p_{66332} + \\frac{1}{18}p_{932222} + \\frac{1}{6}p_{94322} + \\frac{1}{9}p_{9632}</script></html>"
      ],
      "text/plain": [
       "1/36*p[3, 3, 3, 3, 2, 2, 2, 2] + 1/12*p[4, 3, 3, 3, 3, 2, 2] + 1/12*p[6, 3, 3, 2, 2, 2, 2] + 1/18*p[6, 3, 3, 3, 3, 2] + 1/4*p[6, 4, 3, 3, 2, 2] + 1/6*p[6, 6, 3, 3, 2] + 1/18*p[9, 3, 2, 2, 2, 2] + 1/6*p[9, 4, 3, 2, 2] + 1/9*p[9, 6, 3, 2]"
      ]
     },
     "execution_count": 62,
     "metadata": {},
     "output_type": "execute_result"
    }
   ],
   "source": [
    "p([3,2]).plethysm(h([3,1]))"
   ]
  },
  {
   "cell_type": "code",
   "execution_count": 63,
   "metadata": {
    "collapsed": false,
    "deletable": true,
    "editable": true
   },
   "outputs": [
    {
     "data": {
      "text/html": [
       "<html><script type=\"math/tex; mode=display\">\\newcommand{\\Bold}[1]{\\mathbf{#1}}p_{2} + \\frac{1}{3} t^{2}p_{222} + \\left(-\\frac{1}{3} t^{2}\\right)p_{6}</script></html>"
      ],
      "text/plain": [
       "p[2] + 1/3*t^2*p[2, 2, 2] + (-1/3*t^2)*p[6]"
      ]
     },
     "metadata": {},
     "output_type": "display_data"
    },
    {
     "data": {
      "text/html": [
       "<html><script type=\"math/tex; mode=display\">\\newcommand{\\Bold}[1]{\\mathbf{#1}}p_{2} + \\frac{1}{3} tp_{222} + \\left(-\\frac{1}{3} t\\right)p_{6}</script></html>"
      ],
      "text/plain": [
       "p[2] + 1/3*t*p[2, 2, 2] + (-1/3*t)*p[6]"
      ]
     },
     "metadata": {},
     "output_type": "display_data"
    }
   ],
   "source": [
    "g = p([1]) + t*s([2,1])\n",
    "show(p([2]).plethysm(g,include=[t]))\n",
    "show(p([2]).plethysm(g,exclude=[t]))"
   ]
  },
  {
   "cell_type": "markdown",
   "metadata": {
    "deletable": true,
    "editable": true
   },
   "source": [
    "It is costumary to also write $f[g]$ for $f\\circ g$ in mathematical texts, but SAGE uses the shorthand notation $f(g)$ for better compatibility with python. For instance, the plethysm $s_4\\circ s_2$, may also be computed as"
   ]
  },
  {
   "cell_type": "code",
   "execution_count": 64,
   "metadata": {
    "collapsed": false,
    "deletable": true,
    "editable": true
   },
   "outputs": [
    {
     "data": {
      "text/html": [
       "<html><script type=\"math/tex; mode=display\">\\newcommand{\\Bold}[1]{\\mathbf{#1}}s_{2222} + s_{422} + s_{44} + s_{62} + s_{8}</script></html>"
      ],
      "text/plain": [
       "s[2, 2, 2, 2] + s[4, 2, 2] + s[4, 4] + s[6, 2] + s[8]"
      ]
     },
     "execution_count": 64,
     "metadata": {},
     "output_type": "execute_result"
    }
   ],
   "source": [
    "s[4](s[2])"
   ]
  },
  {
   "cell_type": "markdown",
   "metadata": {
    "deletable": true,
    "editable": true
   },
   "source": [
    "To have nice expressions for plethystic substitutions, one may set aliases for the  symmetric function on the empty partition (i.e. $s_0, m_0, \\cdots$, all equal to the constant 1), and the symmetric function (unique up to a scalar) of degree $1$."
   ]
  },
  {
   "cell_type": "code",
   "execution_count": 65,
   "metadata": {
    "collapsed": false,
    "deletable": true,
    "editable": true
   },
   "outputs": [],
   "source": [
    "One = s([])\n",
    "X = s[1]"
   ]
  },
  {
   "cell_type": "code",
   "execution_count": 128,
   "metadata": {
    "collapsed": false,
    "deletable": true,
    "editable": true
   },
   "outputs": [
    {
     "data": {
      "text/html": [
       "<html><script type=\"math/tex; mode=display\">\\newcommand{\\Bold}[1]{\\mathbf{#1}}\\left(q^{12} + q^{11} + 2 q^{10} + 3 q^{9} + 4 q^{8} + 4 q^{7} + 5 q^{6} + 4 q^{5} + 4 q^{4} + 3 q^{3} + 2 q^{2} + q + 1\\right)\\mathbb{1}</script></html>"
      ],
      "text/plain": [
       "(q^12+q^11+2*q^10+3*q^9+4*q^8+4*q^7+5*q^6+4*q^5+4*q^4+3*q^3+2*q^2+q+1)*s[]"
      ]
     },
     "execution_count": 128,
     "metadata": {},
     "output_type": "execute_result"
    }
   ],
   "source": [
    "s[3](s[4](One*(1+q)))"
   ]
  },
  {
   "cell_type": "markdown",
   "metadata": {},
   "source": [
    "One should compare this with compare this with"
   ]
  },
  {
   "cell_type": "code",
   "execution_count": 130,
   "metadata": {
    "collapsed": false
   },
   "outputs": [
    {
     "data": {
      "text/html": [
       "<html><script type=\"math/tex; mode=display\">\\newcommand{\\Bold}[1]{\\mathbf{#1}}q^{12} + q^{11} + 2q^{10} + 3q^{9} + 4q^{8} + 4q^{7} + 5q^{6} + 4q^{5} + 4q^{4} + 3q^{3} + 2q^{2} + q + 1</script></html>"
      ],
      "text/plain": [
       "q^12 + q^11 + 2*q^10 + 3*q^9 + 4*q^8 + 4*q^7 + 5*q^6 + 4*q^5 + 4*q^4 + 3*q^3 + 2*q^2 + q + 1"
      ]
     },
     "execution_count": 130,
     "metadata": {},
     "output_type": "execute_result"
    }
   ],
   "source": [
    "q_binomial(7,3)"
   ]
  },
  {
   "cell_type": "code",
   "execution_count": 67,
   "metadata": {
    "collapsed": false,
    "deletable": true,
    "editable": true
   },
   "outputs": [
    {
     "data": {
      "text/html": [
       "<html><script type=\"math/tex; mode=display\">\\newcommand{\\Bold}[1]{\\mathbf{#1}}q^{2}s_{22} + \\left(q^{3} + q^{2} + q\\right)s_{31} + \\left(q^{4} + q^{3} + q^{2} + q + 1\\right)s_{4}</script></html>"
      ],
      "text/plain": [
       "q^2*s[2, 2] + (q^3+q^2+q)*s[3, 1] + (q^4+q^3+q^2+q+1)*s[4]"
      ]
     },
     "execution_count": 67,
     "metadata": {},
     "output_type": "execute_result"
    }
   ],
   "source": [
    "s[4](X*(1+q))"
   ]
  },
  {
   "cell_type": "code",
   "execution_count": 68,
   "metadata": {
    "collapsed": false,
    "deletable": true,
    "editable": true
   },
   "outputs": [
    {
     "data": {
      "text/html": [
       "<html><script type=\"math/tex; mode=display\">\\newcommand{\\Bold}[1]{\\mathbf{#1}}\\left((q - 1)^{-4} \\cdot (q + 1)^{-2} \\cdot q^{6} \\cdot (q^{2} + 1)^{-1} \\cdot (q^{2} + q + 1)^{-1}\\right)s_{1111} + \\left((q - 1)^{-4} \\cdot (q + 1)^{-2} \\cdot q^{2} \\cdot (q^{2} + q + 1)^{-1}\\right)s_{22} + \\left((q - 1)^{-4} \\cdot (q + 1)^{-2} \\cdot q^{3} \\cdot (q^{2} + 1)^{-1}\\right)s_{211} + \\left((q - 1)^{-4} \\cdot (q + 1)^{-2} \\cdot q \\cdot (q^{2} + 1)^{-1}\\right)s_{31} + \\left((q - 1)^{-4} \\cdot (q + 1)^{-2} \\cdot (q^{2} + 1)^{-1} \\cdot (q^{2} + q + 1)^{-1}\\right)s_{4}</script></html>"
      ],
      "text/plain": [
       "((q-1)^-4*(q+1)^-2*q^6*(q^2+1)^-1*(q^2+q+1)^-1)*s[1, 1, 1, 1] + ((q-1)^-4*(q+1)^-2*q^2*(q^2+q+1)^-1)*s[2, 2] + ((q-1)^-4*(q+1)^-2*q^3*(q^2+1)^-1)*s[2, 1, 1] + ((q-1)^-4*(q+1)^-2*q*(q^2+1)^-1)*s[3, 1] + ((q-1)^-4*(q+1)^-2*(q^2+1)^-1*(q^2+q+1)^-1)*s[4]"
      ]
     },
     "execution_count": 68,
     "metadata": {},
     "output_type": "execute_result"
    }
   ],
   "source": [
    "s[4](X/(1-q)).map_coefficients(factor)"
   ]
  },
  {
   "cell_type": "code",
   "execution_count": 132,
   "metadata": {
    "collapsed": false
   },
   "outputs": [
    {
     "data": {
      "text/html": [
       "<html><script type=\"math/tex; mode=display\">\\newcommand{\\Bold}[1]{\\mathbf{#1}}s_{444} + s_{642} + s_{741} + s_{822} + s_{93}</script></html>"
      ],
      "text/plain": [
       "s[4, 4, 4] + s[6, 4, 2] + s[7, 4, 1] + s[8, 2, 2] + s[9, 3]"
      ]
     },
     "execution_count": 132,
     "metadata": {},
     "output_type": "execute_result"
    }
   ],
   "source": [
    "s[3](s[4])-s[2](s[6])"
   ]
  },
  {
   "cell_type": "markdown",
   "metadata": {},
   "source": [
    "suggests that we have the following positive coefficient polynomial"
   ]
  },
  {
   "cell_type": "code",
   "execution_count": 134,
   "metadata": {
    "collapsed": false
   },
   "outputs": [
    {
     "data": {
      "text/html": [
       "<html><script type=\"math/tex; mode=display\">\\newcommand{\\Bold}[1]{\\mathbf{#1}}q^{9} + q^{8} + q^{7} + q^{6} + q^{5} + q^{4} + q^{3}</script></html>"
      ],
      "text/plain": [
       "q^9 + q^8 + q^7 + q^6 + q^5 + q^4 + q^3"
      ]
     },
     "execution_count": 134,
     "metadata": {},
     "output_type": "execute_result"
    }
   ],
   "source": [
    "q_binomial(7,3)-q_binomial(8,2)"
   ]
  },
  {
   "cell_type": "markdown",
   "metadata": {
    "deletable": true,
    "editable": true
   },
   "source": [
    "## Schur Positivity\n",
    "\n",
    "When computing with symmetric functions, one often wants to check a given symmetric function is Schur positive or not. In our current setup, this means that coefficients polynomials in $\\mathbb{N}[q,t]$. The following function returns *True* if the given symmetric function is Schur positive and *False* if not."
   ]
  },
  {
   "cell_type": "code",
   "execution_count": 171,
   "metadata": {
    "collapsed": false,
    "deletable": true,
    "editable": true
   },
   "outputs": [
    {
     "name": "stdout",
     "output_type": "stream",
     "text": [
      "True\n",
      "False\n"
     ]
    }
   ],
   "source": [
    "f = s([4,1])+s([3,2])\n",
    "print(f.is_schur_positive())\n",
    "g = s([4,1])-s([3,2])\n",
    "print(g.is_schur_positive())"
   ]
  },
  {
   "cell_type": "markdown",
   "metadata": {
    "deletable": true,
    "editable": true
   },
   "source": [
    "For example, we can verify the well-known Schur positivity of product of Schur functions."
   ]
  },
  {
   "cell_type": "code",
   "execution_count": null,
   "metadata": {
    "collapsed": true,
    "deletable": true,
    "editable": true
   },
   "outputs": [],
   "source": [
    "for mu in Partitions(2) :\n",
    "    for nu in Partitions(3) :\n",
    "        if (s(mu)*s(nu)).is_schur_positive() :\n",
    "            show(s(mu),s(nu),' is Schur positive.')\n",
    "        else :\n",
    "            show(s(mu),s(nu),'is not Schur positive.')"
   ]
  },
  {
   "cell_type": "markdown",
   "metadata": {
    "deletable": true,
    "editable": true
   },
   "source": [
    "***Exercise:***\n",
    "\n",
    "> *Its representation theoretic signification implies that $\\nabla (e_n)$ is Schur positive. Verify this for $1 \\leq n \\leq 6$.*"
   ]
  },
  {
   "cell_type": "code",
   "execution_count": 173,
   "metadata": {
    "collapsed": false,
    "deletable": true,
    "editable": true
   },
   "outputs": [
    {
     "name": "stdout",
     "output_type": "stream",
     "text": [
      "True\n",
      "True\n",
      "True\n",
      "True\n",
      "True\n",
      "True\n"
     ]
    }
   ],
   "source": [
    "e = Symqt.e()\n",
    "for n in range(1,7) :\n",
    "    print e([n]).nabla().is_schur_positive()"
   ]
  },
  {
   "cell_type": "markdown",
   "metadata": {},
   "source": [
    "Schur positivity is a rare phenomena in general, but symmetric functions that come from representation theory are Scur positive. One can show that\n",
    "the probability that a degree $n$ monomial positive is Schr positive is equal to\n",
    "\n",
    "$$ \\prod_{\\mu\\vdash n}\\frac{1}{k_\\mu},\\qquad {\\rm where}\\qquad \n",
    "   k_\\mu:=\\sum_{\\nu\\vdash n} K_{\\mu,\\nu},$$\n",
    "with $K_{\\mu,\\nu}$ the <span style=\"color:green\">__Kostka numbers__</span>. Recall that these occur in the expansion of the Schur functions in terns of the monomial functions:\n",
    "\n",
    "$$s_\\mu=\\sum_\\nu K_{\\mu,\\nu}\\, m_\\nu.$$\n",
    "For instance, we have"
   ]
  },
  {
   "cell_type": "code",
   "execution_count": 85,
   "metadata": {
    "collapsed": false
   },
   "outputs": [
    {
     "data": {
      "text/html": [
       "<html><script type=\"math/tex; mode=display\">\\newcommand{\\Bold}[1]{\\mathbf{#1}}5m_{11111} + 3m_{2111} + 2m_{221} + m_{311} + m_{32}</script></html>"
      ],
      "text/plain": [
       "5*m[1, 1, 1, 1, 1] + 3*m[2, 1, 1, 1] + 2*m[2, 2, 1] + m[3, 1, 1] + m[3, 2]"
      ]
     },
     "execution_count": 85,
     "metadata": {},
     "output_type": "execute_result"
    }
   ],
   "source": [
    "m(s[3,2])"
   ]
  },
  {
   "cell_type": "markdown",
   "metadata": {},
   "source": [
    "hence defining"
   ]
  },
  {
   "cell_type": "code",
   "execution_count": 86,
   "metadata": {
    "collapsed": true
   },
   "outputs": [],
   "source": [
    "def K(mu,nu):\n",
    "    return s(mu).scalar(h(nu))"
   ]
  },
  {
   "cell_type": "markdown",
   "metadata": {},
   "source": [
    "so that the above expression is indeed seen to be"
   ]
  },
  {
   "cell_type": "code",
   "execution_count": 88,
   "metadata": {
    "collapsed": false
   },
   "outputs": [
    {
     "data": {
      "text/html": [
       "<html><script type=\"math/tex; mode=display\">\\newcommand{\\Bold}[1]{\\mathbf{#1}}5m_{11111} + 3m_{2111} + 2m_{221} + m_{311} + m_{32}</script></html>"
      ],
      "text/plain": [
       "5*m[1, 1, 1, 1, 1] + 3*m[2, 1, 1, 1] + 2*m[2, 2, 1] + m[3, 1, 1] + m[3, 2]"
      ]
     },
     "execution_count": 88,
     "metadata": {},
     "output_type": "execute_result"
    }
   ],
   "source": [
    "add(K([3,2],nu)*m(nu) for nu in Partitions(5))"
   ]
  },
  {
   "cell_type": "markdown",
   "metadata": {},
   "source": [
    "Now, we set"
   ]
  },
  {
   "cell_type": "code",
   "execution_count": 110,
   "metadata": {
    "collapsed": false
   },
   "outputs": [],
   "source": [
    "def k(mu):\n",
    "    n=add(j for j in mu)\n",
    "    return add(K(mu,nu) for nu in Partitions(n))"
   ]
  },
  {
   "cell_type": "markdown",
   "metadata": {},
   "source": [
    "so that the above probability is calculated by the function"
   ]
  },
  {
   "cell_type": "code",
   "execution_count": 120,
   "metadata": {
    "collapsed": false
   },
   "outputs": [],
   "source": [
    "def prob_Schur_positive(n): \n",
    "    return 1/mul(k(mu) for mu in Partitions(n))"
   ]
  },
  {
   "cell_type": "markdown",
   "metadata": {},
   "source": [
    "One can then illustrate how very rare Schur-positivity is, as a function of the degree:"
   ]
  },
  {
   "cell_type": "code",
   "execution_count": 121,
   "metadata": {
    "collapsed": false
   },
   "outputs": [
    {
     "data": {
      "text/html": [
       "<html><script type=\"math/tex; mode=display\">\\newcommand{\\Bold}[1]{\\mathbf{#1}}\\left[1, \\frac{1}{2}, \\frac{1}{9}, \\frac{1}{560}, \\frac{1}{480480}, \\frac{1}{1027458432000}, \\frac{1}{2465474364698304960000}\\right]</script></html>"
      ],
      "text/plain": [
       "[1, 1/2, 1/9, 1/560, 1/480480, 1/1027458432000, 1/2465474364698304960000]"
      ]
     },
     "execution_count": 121,
     "metadata": {},
     "output_type": "execute_result"
    }
   ],
   "source": [
    "[prob_Schur_positive(n) for n in range(1,8)]"
   ]
  },
  {
   "cell_type": "markdown",
   "metadata": {
    "collapsed": true,
    "deletable": true,
    "editable": true
   },
   "source": [
    "## Hopf structure and important identities\n",
    "\n",
    "Many important identities between symmetric functions can be linked to \"the\" Hopf algebra structure on the ring of symmetric function. In part, this means that we have a <span style=\"color:blue\">__coproduct__</span>\n",
    "on symmetric functions that may be descriobed in either of the two forms \n",
    "\n",
    "\\begin{eqnarray}\n",
    "    \\Delta(g)&=& \\sum_{k+j=n}\\sum_{\\mu\\vdash k,\\ \\nu\\vdash j} a_{\\mu,\\nu}\\, s_\\mu\\otimes s_\\nu\\\\\n",
    "    g(\\mathbf{x}+\\mathbf{y})&=& \\sum_{k+j=n}\\sum_{\\mu\\vdash k,\\ \\nu\\vdash j} a_{\\mu,\\nu}\\, s_\\mu(\\mathbf{x}) s_\\nu(\\mathbf{y}),\n",
    "\\end{eqnarray}\n",
    "For instance, we have"
   ]
  },
  {
   "cell_type": "code",
   "execution_count": 22,
   "metadata": {
    "collapsed": false,
    "deletable": true,
    "editable": true
   },
   "outputs": [
    {
     "data": {
      "text/html": [
       "<html><script type=\"math/tex; mode=display\">\\newcommand{\\Bold}[1]{\\mathbf{#1}}\\mathbb{1} \\otimes s_{321} + s_{1} \\otimes s_{221} + s_{1} \\otimes s_{311} + s_{1} \\otimes s_{32} + s_{11} \\otimes s_{211} + s_{11} \\otimes s_{22} + s_{11} \\otimes s_{31} + s_{111} \\otimes s_{21} + s_{2} \\otimes s_{211} + s_{2} \\otimes s_{22} + s_{2} \\otimes s_{31} + s_{21} \\otimes s_{111} + 2s_{21} \\otimes s_{21} + s_{21} \\otimes s_{3} + s_{211} \\otimes s_{11} + s_{211} \\otimes s_{2} + s_{22} \\otimes s_{11} + s_{22} \\otimes s_{2} + s_{221} \\otimes s_{1} + s_{3} \\otimes s_{21} + s_{31} \\otimes s_{11} + s_{31} \\otimes s_{2} + s_{311} \\otimes s_{1} + s_{32} \\otimes s_{1} + s_{321} \\otimes \\mathbb{1}</script></html>"
      ],
      "text/plain": [
       "s[] # s[3, 2, 1] + s[1] # s[2, 2, 1] + s[1] # s[3, 1, 1] + s[1] # s[3, 2] + s[1, 1] # s[2, 1, 1] + s[1, 1] # s[2, 2] + s[1, 1] # s[3, 1] + s[1, 1, 1] # s[2, 1] + s[2] # s[2, 1, 1] + s[2] # s[2, 2] + s[2] # s[3, 1] + s[2, 1] # s[1, 1, 1] + 2*s[2, 1] # s[2, 1] + s[2, 1] # s[3] + s[2, 1, 1] # s[1, 1] + s[2, 1, 1] # s[2] + s[2, 2] # s[1, 1] + s[2, 2] # s[2] + s[2, 2, 1] # s[1] + s[3] # s[2, 1] + s[3, 1] # s[1, 1] + s[3, 1] # s[2] + s[3, 1, 1] # s[1] + s[3, 2] # s[1] + s[3, 2, 1] # s[]"
      ]
     },
     "execution_count": 22,
     "metadata": {},
     "output_type": "execute_result"
    }
   ],
   "source": [
    "s[3,2,1].coproduct()"
   ]
  },
  {
   "cell_type": "markdown",
   "metadata": {
    "deletable": true,
    "editable": true
   },
   "source": [
    "<span style=\"color:blue\">__Skew Schur fonctions__</span> arise when one considers the effect of coproduct on Schur functions themselves\n",
    "\n",
    "$$\\Delta(s_\\lambda) = \\sum_{\\mu\\subseteq \\lambda} s_{\\lambda/\\mu}\\otimes s_\\mu.$$\n",
    "For instance, we have the skew Schur"
   ]
  },
  {
   "cell_type": "code",
   "execution_count": 34,
   "metadata": {
    "collapsed": false,
    "deletable": true,
    "editable": true
   },
   "outputs": [
    {
     "data": {
      "text/html": [
       "<html><script type=\"math/tex; mode=display\">\\newcommand{\\Bold}[1]{\\mathbf{#1}}s_{211} + s_{22} + s_{31}</script></html>"
      ],
      "text/plain": [
       "s[2, 1, 1] + s[2, 2] + s[3, 1]"
      ]
     },
     "execution_count": 34,
     "metadata": {},
     "output_type": "execute_result"
    }
   ],
   "source": [
    "s[3,2,1].skew_by(s[2])"
   ]
  },
  {
   "cell_type": "markdown",
   "metadata": {
    "deletable": true,
    "editable": true
   },
   "source": [
    "Thus we get"
   ]
  },
  {
   "cell_type": "code",
   "execution_count": 35,
   "metadata": {
    "collapsed": false,
    "deletable": true,
    "editable": true
   },
   "outputs": [
    {
     "data": {
      "text/html": [
       "<html><script type=\"math/tex; mode=display\">\\newcommand{\\Bold}[1]{\\mathbf{#1}}\\mathbb{1} \\otimes s_{321} + s_{1} \\otimes s_{221} + s_{1} \\otimes s_{311} + s_{1} \\otimes s_{32} + s_{11} \\otimes s_{211} + s_{11} \\otimes s_{22} + s_{11} \\otimes s_{31} + s_{111} \\otimes s_{21} + s_{2} \\otimes s_{211} + s_{2} \\otimes s_{22} + s_{2} \\otimes s_{31} + s_{21} \\otimes s_{111} + 2s_{21} \\otimes s_{21} + s_{21} \\otimes s_{3} + s_{211} \\otimes s_{11} + s_{211} \\otimes s_{2} + s_{22} \\otimes s_{11} + s_{22} \\otimes s_{2} + s_{221} \\otimes s_{1} + s_{3} \\otimes s_{21} + s_{31} \\otimes s_{11} + s_{31} \\otimes s_{2} + s_{311} \\otimes s_{1} + s_{32} \\otimes s_{1} + s_{321} \\otimes \\mathbb{1}</script></html>"
      ],
      "text/plain": [
       "s[] # s[3, 2, 1] + s[1] # s[2, 2, 1] + s[1] # s[3, 1, 1] + s[1] # s[3, 2] + s[1, 1] # s[2, 1, 1] + s[1, 1] # s[2, 2] + s[1, 1] # s[3, 1] + s[1, 1, 1] # s[2, 1] + s[2] # s[2, 1, 1] + s[2] # s[2, 2] + s[2] # s[3, 1] + s[2, 1] # s[1, 1, 1] + 2*s[2, 1] # s[2, 1] + s[2, 1] # s[3] + s[2, 1, 1] # s[1, 1] + s[2, 1, 1] # s[2] + s[2, 2] # s[1, 1] + s[2, 2] # s[2] + s[2, 2, 1] # s[1] + s[3] # s[2, 1] + s[3, 1] # s[1, 1] + s[3, 1] # s[2] + s[3, 1, 1] # s[1] + s[3, 2] # s[1] + s[3, 2, 1] # s[]"
      ]
     },
     "execution_count": 35,
     "metadata": {},
     "output_type": "execute_result"
    }
   ],
   "source": [
    "add(tensor([s[3,2,1].skew_by(s(mu)),s(mu)]) for k in range(7) for mu in Partitions(k))"
   ]
  },
  {
   "cell_type": "markdown",
   "metadata": {
    "deletable": true,
    "editable": true
   },
   "source": [
    "as above. In particular, we get\n",
    "\n",
    "$$\\Delta(h_n) = \\sum_{k+j=n} h_k\\otimes h_j.$$"
   ]
  },
  {
   "cell_type": "code",
   "execution_count": 36,
   "metadata": {
    "collapsed": false,
    "deletable": true,
    "editable": true
   },
   "outputs": [
    {
     "data": {
      "text/html": [
       "<html><script type=\"math/tex; mode=display\">\\newcommand{\\Bold}[1]{\\mathbf{#1}}\\mathbb{1} \\otimes h_{4} + h_{1} \\otimes h_{3} + h_{2} \\otimes h_{2} + h_{3} \\otimes h_{1} + h_{4} \\otimes \\mathbb{1}</script></html>"
      ],
      "text/plain": [
       "h[] # h[4] + h[1] # h[3] + h[2] # h[2] + h[3] # h[1] + h[4] # h[]"
      ]
     },
     "execution_count": 36,
     "metadata": {},
     "output_type": "execute_result"
    }
   ],
   "source": [
    "h[4].coproduct()"
   ]
  },
  {
   "cell_type": "markdown",
   "metadata": {
    "deletable": true,
    "editable": true
   },
   "source": [
    "## Cauchy kernel formula\n",
    "\n",
    "The Cauchy kernel is the expression\n",
    "\n",
    "$$\\sum_{n\\geq 0} h_n(\\mathbf{x}\\mathbf{y})=\\prod_{i,j}\\frac{1}{1-x_iy_j}$$\n",
    "written here using plethystic notation. Its degree $n$ homogeneous component plays a crucial role in the description of \"dual bases\" with respect to the scalar product. We have\n",
    "\n",
    "$$h_n(\\mathbf{x}\\mathbf{y})=\\sum_{\\mu\\vdash n} F_\\mu\\otimes G_\\mu\n",
    "\\qquad {\\rm iff}\\qquad \n",
    "\\langle F_\\mu,G_\\lambda\\rangle=\\delta_{\\mu\\lambda}, \\qquad\n",
    " (\\delta_{\\mu \\lambda}:\\ \\hbox{Kronecker \"delta\"})\n",
    " $$\n",
    " where one \"thinks\" $\\mathbf{x}=s_1\\otimes \\mathbb{1}$ and $\\mathbf{y}= \\mathbb{1}\\otimes s_1$. One says that $\\{F_\\mu\\}_\\mu$ and $\\{G_\\lambda\\}_\\lambda$ are <span style=\"color:blue\">__dual bases__</span>. Schur functions are self dual, the dual of the $h_\\mu$ are the $m_\\mu$, that of the $p_\\mu$ are the $p_\\mu/z_mu$. The \"forgotten\" symmetric function $f_\\mu$ appear as the dual of the $e_\\mu$."
   ]
  },
  {
   "cell_type": "code",
   "execution_count": 135,
   "metadata": {
    "collapsed": false,
    "deletable": true,
    "editable": true
   },
   "outputs": [
    {
     "data": {
      "text/html": [
       "<html><script type=\"math/tex; mode=display\">\\newcommand{\\Bold}[1]{\\mathbf{#1}}s_{1111} \\otimes s_{1111} + s_{211} \\otimes s_{211} + s_{22} \\otimes s_{22} + s_{31} \\otimes s_{31} + s_{4} \\otimes s_{4}</script></html>"
      ],
      "text/plain": [
       "s[1, 1, 1, 1] # s[1, 1, 1, 1] + s[2, 1, 1] # s[2, 1, 1] + s[2, 2] # s[2, 2] + s[3, 1] # s[3, 1] + s[4] # s[4]"
      ]
     },
     "execution_count": 135,
     "metadata": {},
     "output_type": "execute_result"
    }
   ],
   "source": [
    "h4xy=add(tensor([s(mu),s(mu)]) for mu in Partitions(4)); h4xy"
   ]
  },
  {
   "cell_type": "code",
   "execution_count": 136,
   "metadata": {
    "collapsed": false,
    "deletable": true,
    "editable": true
   },
   "outputs": [
    {
     "data": {
      "text/html": [
       "<html><script type=\"math/tex; mode=display\">\\newcommand{\\Bold}[1]{\\mathbf{#1}}h_{1111} \\otimes m_{1111} + h_{211} \\otimes m_{211} + h_{22} \\otimes m_{22} + h_{31} \\otimes m_{31} + h_{4} \\otimes m_{4}</script></html>"
      ],
      "text/plain": [
       "h[1, 1, 1, 1] # m[1, 1, 1, 1] + h[2, 1, 1] # m[2, 1, 1] + h[2, 2] # m[2, 2] + h[3, 1] # m[3, 1] + h[4] # m[4]"
      ]
     },
     "execution_count": 136,
     "metadata": {},
     "output_type": "execute_result"
    }
   ],
   "source": [
    "tensor([h,m])(h4xy)"
   ]
  },
  {
   "cell_type": "code",
   "execution_count": 137,
   "metadata": {
    "collapsed": false,
    "deletable": true,
    "editable": true
   },
   "outputs": [
    {
     "data": {
      "text/html": [
       "<html><script type=\"math/tex; mode=display\">\\newcommand{\\Bold}[1]{\\mathbf{#1}}e_{1111} \\otimes f_{1111} + e_{211} \\otimes f_{211} + e_{22} \\otimes f_{22} + e_{31} \\otimes f_{31} + e_{4} \\otimes f_{4}</script></html>"
      ],
      "text/plain": [
       "e[1, 1, 1, 1] # f[1, 1, 1, 1] + e[2, 1, 1] # f[2, 1, 1] + e[2, 2] # f[2, 2] + e[3, 1] # f[3, 1] + e[4] # f[4]"
      ]
     },
     "execution_count": 137,
     "metadata": {},
     "output_type": "execute_result"
    }
   ],
   "source": [
    "tensor([e,f])(h4xy)"
   ]
  },
  {
   "cell_type": "code",
   "execution_count": 138,
   "metadata": {
    "collapsed": false,
    "deletable": true,
    "editable": true
   },
   "outputs": [
    {
     "data": {
      "text/html": [
       "<html><script type=\"math/tex; mode=display\">\\newcommand{\\Bold}[1]{\\mathbf{#1}}\\frac{1}{24}p_{1111} \\otimes p_{1111} + \\frac{1}{4}p_{211} \\otimes p_{211} + \\frac{1}{8}p_{22} \\otimes p_{22} + \\frac{1}{3}p_{31} \\otimes p_{31} + \\frac{1}{4}p_{4} \\otimes p_{4}</script></html>"
      ],
      "text/plain": [
       "1/24*p[1, 1, 1, 1] # p[1, 1, 1, 1] + 1/4*p[2, 1, 1] # p[2, 1, 1] + 1/8*p[2, 2] # p[2, 2] + 1/3*p[3, 1] # p[3, 1] + 1/4*p[4] # p[4]"
      ]
     },
     "execution_count": 138,
     "metadata": {},
     "output_type": "execute_result"
    }
   ],
   "source": [
    "tensor([p,p])(h4xy)"
   ]
  },
  {
   "cell_type": "markdown",
   "metadata": {
    "deletable": true,
    "editable": true
   },
   "source": [
    "It would be handy to have the possibility of applying plethysm to tensor expressions so that we could directly\n",
    "write $h_n(s_1\\otimes s_1)$ which would evaluate to the above expressions."
   ]
  },
  {
   "cell_type": "code",
   "execution_count": null,
   "metadata": {
    "collapsed": true,
    "deletable": true,
    "editable": true
   },
   "outputs": [],
   "source": []
  }
 ],
 "metadata": {
  "kernelspec": {
   "display_name": "SageMath 8.0.beta0",
   "language": "",
   "name": "sagemath"
  },
  "language_info": {
   "codemirror_mode": {
    "name": "ipython",
    "version": 2
   },
   "file_extension": ".py",
   "mimetype": "text/x-python",
   "name": "python",
   "nbconvert_exporter": "python",
   "pygments_lexer": "ipython2",
   "version": "2.7.13"
  }
 },
 "nbformat": 4,
 "nbformat_minor": 2
}
