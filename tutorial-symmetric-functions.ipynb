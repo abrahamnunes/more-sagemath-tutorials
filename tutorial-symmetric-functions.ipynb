{
 "cells": [
  {
   "cell_type": "markdown",
   "metadata": {
    "deletable": true,
    "editable": true
   },
   "source": [
    "$$\n",
    "\\def\\CC{\\bf C}\n",
    "\\def\\QQ{\\bf Q}\n",
    "\\def\\RR{\\bf R}\n",
    "\\def\\ZZ{\\bf Z}\n",
    "\\def\\NN{\\bf N}\n",
    "$$\n",
    "# Symmetric Functions (polynomials) Tutorial\n",
    "\n",
    "**Caveat:** in this tutorial, the term symmetric \"functions\" will mostly stand for \"abstract\" symmetric polynomials, in which variables are not made explicit. Indeed for most practical calculations variables need not appear. Moreover, one may show that this does not cause any trouble in the calculations.\n",
    "\n",
    "$\\def\\QQ{\\mathbb{QQ}}$\n",
    "\n",
    "## Display customization\n",
    "\n",
    "To have our outputs printed in latex, we will use the following command which can be commented:"
   ]
  },
  {
   "cell_type": "code",
   "execution_count": 50,
   "metadata": {
    "collapsed": true,
    "deletable": true,
    "editable": true
   },
   "outputs": [],
   "source": [
    "%display latex           # not tested"
   ]
  },
  {
   "cell_type": "markdown",
   "metadata": {
    "deletable": true,
    "editable": true
   },
   "source": [
    "Once this is done, to get the usual output one may use `print()` :"
   ]
  },
  {
   "cell_type": "code",
   "execution_count": 51,
   "metadata": {
    "collapsed": false,
    "deletable": true,
    "editable": true
   },
   "outputs": [
    {
     "name": "stdout",
     "output_type": "stream",
     "text": [
      "2*x^5 + x^2\n"
     ]
    }
   ],
   "source": [
    "print(2*x^5+x^2)"
   ]
  },
  {
   "cell_type": "markdown",
   "metadata": {
    "deletable": true,
    "editable": true
   },
   "source": [
    "If you don't want to latex outputs in all your worksheet but only for specific outputs, you can also use the command `show()` :"
   ]
  },
  {
   "cell_type": "code",
   "execution_count": 52,
   "metadata": {
    "collapsed": false,
    "deletable": true,
    "editable": true
   },
   "outputs": [
    {
     "name": "stdout",
     "output_type": "stream",
     "text": [
      "2*x^5 + x^2\n"
     ]
    }
   ],
   "source": [
    "print(2*x^5+x^2)"
   ]
  },
  {
   "cell_type": "code",
   "execution_count": 54,
   "metadata": {
    "collapsed": false,
    "deletable": true,
    "editable": true
   },
   "outputs": [
    {
     "data": {
      "text/html": [
       "<html><script type=\"math/tex; mode=display\">\\newcommand{\\Bold}[1]{\\mathbf{#1}}2 \\, x^{5} + x^{2}</script></html>"
      ],
      "text/plain": [
       "2*x^5 + x^2"
      ]
     },
     "metadata": {},
     "output_type": "display_data"
    }
   ],
   "source": [
    "show(2*x^5+x^2)"
   ]
  },
  {
   "cell_type": "markdown",
   "metadata": {
    "deletable": true,
    "editable": true
   },
   "source": [
    "## For the impatient\n",
    "\n",
    "Before going into details with symmetric functions in sage, here is a quick example of what we can do in sage.\n",
    "\n",
    "We recall that the **complete homogeneous** symmetric functions $h_d$ are defined in terms of the **power sum** symmetric functions $p_{\\mu}$ by the formula :\n",
    "\n",
    "$$h_d = \\sum \\limits_{\\mu \\vdash d} \\dfrac{1}{z_{\\mu}} p_{\\mu}$$\n",
    "\n",
    "where $z_\\mu$ is the number of \"automorphisms\" of a permutation having cycle structure $\\mu$.\n",
    "\n",
    "Here is how to obtain both sides of this equality in the ring of symmetric function \"$\\mathrm{Sym}$\" over $\\mathbb{Q}$ :"
   ]
  },
  {
   "cell_type": "code",
   "execution_count": 55,
   "metadata": {
    "collapsed": false,
    "deletable": true,
    "editable": true
   },
   "outputs": [
    {
     "name": "stdout",
     "output_type": "stream",
     "text": [
      "Defining e as shorthand for Symmetric Functions over Rational Field in the elementary basis\n",
      "Defining f as shorthand for Symmetric Functions over Rational Field in the forgotten basis\n",
      "Defining h as shorthand for Symmetric Functions over Rational Field in the homogeneous basis\n",
      "Defining m as shorthand for Symmetric Functions over Rational Field in the monomial basis\n",
      "Defining p as shorthand for Symmetric Functions over Rational Field in the powersum basis\n",
      "Defining s as shorthand for Symmetric Functions over Rational Field in the Schur basis\n"
     ]
    }
   ],
   "source": [
    "Sym = SymmetricFunctions(QQ)\n",
    "Sym.inject_shorthands()"
   ]
  },
  {
   "cell_type": "code",
   "execution_count": 56,
   "metadata": {
    "collapsed": false,
    "deletable": true,
    "editable": true
   },
   "outputs": [
    {
     "data": {
      "text/html": [
       "<html><script type=\"math/tex; mode=display\">\\newcommand{\\Bold}[1]{\\mathbf{#1}}\\frac{1}{720}p_{111111} + \\frac{1}{48}p_{21111} + \\frac{1}{16}p_{2211} + \\frac{1}{48}p_{222} + \\frac{1}{18}p_{3111} + \\frac{1}{6}p_{321} + \\frac{1}{18}p_{33} + \\frac{1}{8}p_{411} + \\frac{1}{8}p_{42} + \\frac{1}{5}p_{51} + \\frac{1}{6}p_{6}</script></html>"
      ],
      "text/plain": [
       "1/720*p111111 + 1/48*p21111 + 1/16*p2211 + 1/48*p222 + 1/18*p3111 + 1/6*p321 + 1/18*p33 + 1/8*p411 + 1/8*p42 + 1/5*p51 + 1/6*p6"
      ]
     },
     "execution_count": 56,
     "metadata": {},
     "output_type": "execute_result"
    }
   ],
   "source": [
    "p(h[6])"
   ]
  },
  {
   "cell_type": "code",
   "execution_count": 57,
   "metadata": {
    "collapsed": false,
    "deletable": true,
    "editable": true
   },
   "outputs": [
    {
     "data": {
      "text/html": [
       "<html><script type=\"math/tex; mode=display\">\\newcommand{\\Bold}[1]{\\mathbf{#1}}\\frac{1}{720}p_{111111} + \\frac{1}{48}p_{21111} + \\frac{1}{16}p_{2211} + \\frac{1}{48}p_{222} + \\frac{1}{18}p_{3111} + \\frac{1}{6}p_{321} + \\frac{1}{18}p_{33} + \\frac{1}{8}p_{411} + \\frac{1}{8}p_{42} + \\frac{1}{5}p_{51} + \\frac{1}{6}p_{6}</script></html>"
      ],
      "text/plain": [
       "1/720*p111111 + 1/48*p21111 + 1/16*p2211 + 1/48*p222 + 1/18*p3111 + 1/6*p321 + 1/18*p33 + 1/8*p411 + 1/8*p42 + 1/5*p51 + 1/6*p6"
      ]
     },
     "execution_count": 57,
     "metadata": {},
     "output_type": "execute_result"
    }
   ],
   "source": [
    "sum((1/Partition(i).aut())*p(i) for i in Partitions(6).list())"
   ]
  },
  {
   "cell_type": "markdown",
   "metadata": {
    "deletable": true,
    "editable": true
   },
   "source": [
    "## Classical bases of symmetric functions\n",
    "\n",
    "The algebra of symmetric functions, with coefficients in a given ring (here the ring $\\QQ$ of rational numbers), is declared as follows:"
   ]
  },
  {
   "cell_type": "code",
   "execution_count": 58,
   "metadata": {
    "collapsed": true,
    "deletable": true,
    "editable": true
   },
   "outputs": [],
   "source": [
    "Sym = SymmetricFunctions(QQ)"
   ]
  },
  {
   "cell_type": "markdown",
   "metadata": {
    "deletable": true,
    "editable": true
   },
   "source": [
    "Another often used coefficient ring is the fraction field $\\mathbb{Q}(q,t)$ of rational expressions in $q$, $t$ over $\\mathbb{Q}[q,t]$. Thus, declaring first $\\mathbb{Q}(q,t)$ (and \"injecting\" variables $q$ and $t$ to make them available), one may introduce the ring of symmetric functions over $\\mathbb{Q}[q,t]$ as follows. The `Symqt.inject_shorthands()` command makes the \"usual\" short names (as in Macdonald book) available (with Sage &lt; 8.0, it will display a warning message you can ignore.):"
   ]
  },
  {
   "cell_type": "code",
   "execution_count": 59,
   "metadata": {
    "collapsed": false,
    "deletable": true,
    "editable": true
   },
   "outputs": [
    {
     "name": "stdout",
     "output_type": "stream",
     "text": [
      "Defining q, t\n"
     ]
    }
   ],
   "source": [
    "F = QQ['q','t'].fraction_field()\n",
    "F.inject_variables()"
   ]
  },
  {
   "cell_type": "code",
   "execution_count": 60,
   "metadata": {
    "collapsed": true,
    "deletable": true,
    "editable": true
   },
   "outputs": [],
   "source": [
    "Symqt = SymmetricFunctions(F)"
   ]
  },
  {
   "cell_type": "markdown",
   "metadata": {
    "deletable": true,
    "editable": true
   },
   "source": [
    "We can also declare each basis one by one. They can all be called by their full name (e.g. `monomial()` for the monomial basis) or by the letter we usually use for them (e.g. `m()` for the monomial basis).\n",
    "\n",
    "Usual classical bases are available:"
   ]
  },
  {
   "cell_type": "code",
   "execution_count": 61,
   "metadata": {
    "collapsed": false,
    "deletable": true,
    "editable": true
   },
   "outputs": [
    {
     "ename": "SyntaxError",
     "evalue": "invalid syntax (<ipython-input-61-6f374b5fa062>, line 1)",
     "output_type": "error",
     "traceback": [
      "\u001b[1;36m  File \u001b[1;32m\"<ipython-input-61-6f374b5fa062>\"\u001b[1;36m, line \u001b[1;32m1\u001b[0m\n\u001b[1;33m    - The **power sum** symmetric functions :math:`p( * BackslashOperator() * mu)` : ``power()`` or ``p()``\u001b[0m\n\u001b[1;37m                    ^\u001b[0m\n\u001b[1;31mSyntaxError\u001b[0m\u001b[1;31m:\u001b[0m invalid syntax\n"
     ]
    }
   ],
   "source": [
    "- The **power sum** symmetric functions :math:`p(\\mu)` : ``power()`` or ``p()``\n",
    "- The **(complete)homogeneous** symmetric functions :math:`h(\\mu)` : ``homogeneous()`` or ``complete()`` or ``h()``\n",
    "- The **elementary** symmetric functions :math:`e(\\mu)` : ``elementary()`` or ``e()``\n",
    "- The **Schur** functions :math:`s(\\mu)` : schur() or s()\n",
    "- The **forgotten** symmetric functions :math:`f(\\mu)` : ``forgotten()`` or ``f()`` *(This basis is not in the shorthands with Sage < 8.0.)*"
   ]
  },
  {
   "cell_type": "code",
   "execution_count": 62,
   "metadata": {
    "collapsed": false,
    "deletable": true,
    "editable": true
   },
   "outputs": [
    {
     "data": {
      "text/html": [
       "<html><script type=\"math/tex; mode=display\">\\newcommand{\\Bold}[1]{\\mathbf{#1}}\\verb|Symmetric|\\phantom{\\verb!x!}\\verb|Functions|\\phantom{\\verb!x!}\\verb|over|\\phantom{\\verb!x!}\\verb|Rational|\\phantom{\\verb!x!}\\verb|Field|\\phantom{\\verb!x!}\\verb|in|\\phantom{\\verb!x!}\\verb|the|\\phantom{\\verb!x!}\\verb|monomial|\\phantom{\\verb!x!}\\verb|basis|</script></html>"
      ],
      "text/plain": [
       "Symmetric Functions over Rational Field in the monomial basis"
      ]
     },
     "execution_count": 62,
     "metadata": {},
     "output_type": "execute_result"
    }
   ],
   "source": [
    "Sym.monomial()"
   ]
  },
  {
   "cell_type": "code",
   "execution_count": 63,
   "metadata": {
    "collapsed": false,
    "deletable": true,
    "editable": true
   },
   "outputs": [
    {
     "data": {
      "text/html": [
       "<html><script type=\"math/tex; mode=display\">\\newcommand{\\Bold}[1]{\\mathbf{#1}}\\verb|Symmetric|\\phantom{\\verb!x!}\\verb|Functions|\\phantom{\\verb!x!}\\verb|over|\\phantom{\\verb!x!}\\verb|Rational|\\phantom{\\verb!x!}\\verb|Field|\\phantom{\\verb!x!}\\verb|in|\\phantom{\\verb!x!}\\verb|the|\\phantom{\\verb!x!}\\verb|monomial|\\phantom{\\verb!x!}\\verb|basis|</script></html>"
      ],
      "text/plain": [
       "Symmetric Functions over Rational Field in the monomial basis"
      ]
     },
     "execution_count": 63,
     "metadata": {},
     "output_type": "execute_result"
    }
   ],
   "source": [
    "m = Sym.m(); m"
   ]
  },
  {
   "cell_type": "markdown",
   "metadata": {
    "deletable": true,
    "editable": true
   },
   "source": [
    "Now that we have acces to all the bases we need, we can start to manipulate them. Symmetric functions are indexed by partitions $\\mu$, with integers considered as partitions having size one (don't forget the brackets!):"
   ]
  },
  {
   "cell_type": "code",
   "execution_count": 64,
   "metadata": {
    "collapsed": false,
    "deletable": true,
    "editable": true
   },
   "outputs": [
    {
     "data": {
      "text/html": [
       "<html><script type=\"math/tex; mode=display\">\\newcommand{\\Bold}[1]{\\mathbf{#1}}p_{21}</script></html>"
      ],
      "text/plain": [
       "p21"
      ]
     },
     "execution_count": 64,
     "metadata": {},
     "output_type": "execute_result"
    }
   ],
   "source": [
    "p[2,1]"
   ]
  },
  {
   "cell_type": "markdown",
   "metadata": {
    "deletable": true,
    "editable": true
   },
   "source": [
    "This is in fact a shorthand for:"
   ]
  },
  {
   "cell_type": "code",
   "execution_count": 65,
   "metadata": {
    "collapsed": false,
    "deletable": true,
    "editable": true
   },
   "outputs": [
    {
     "data": {
      "text/html": [
       "<html><script type=\"math/tex; mode=display\">\\newcommand{\\Bold}[1]{\\mathbf{#1}}p_{21}</script></html>"
      ],
      "text/plain": [
       "p21"
      ]
     },
     "execution_count": 65,
     "metadata": {},
     "output_type": "execute_result"
    }
   ],
   "source": [
    "p.basis()[Partition([2,1])]"
   ]
  },
  {
   "cell_type": "markdown",
   "metadata": {
    "deletable": true,
    "editable": true
   },
   "source": [
    "In the special case of the empty partition, due to a limitation in Python syntax, one cannot use:"
   ]
  },
  {
   "cell_type": "code",
   "execution_count": 66,
   "metadata": {
    "collapsed": false,
    "deletable": true,
    "editable": true
   },
   "outputs": [
    {
     "ename": "SyntaxError",
     "evalue": "invalid syntax (<ipython-input-66-6716b4a4ec80>, line 1)",
     "output_type": "error",
     "traceback": [
      "\u001b[1;36m  File \u001b[1;32m\"<ipython-input-66-6716b4a4ec80>\"\u001b[1;36m, line \u001b[1;32m1\u001b[0m\n\u001b[1;33m    p[]       # todo: not implemented\u001b[0m\n\u001b[1;37m      ^\u001b[0m\n\u001b[1;31mSyntaxError\u001b[0m\u001b[1;31m:\u001b[0m invalid syntax\n"
     ]
    }
   ],
   "source": [
    "p[]       # todo: not implemented"
   ]
  },
  {
   "cell_type": "markdown",
   "metadata": {
    "deletable": true,
    "editable": true
   },
   "source": [
    "Please use instead:"
   ]
  },
  {
   "cell_type": "code",
   "execution_count": 67,
   "metadata": {
    "collapsed": false,
    "deletable": true,
    "editable": true
   },
   "outputs": [
    {
     "data": {
      "text/html": [
       "<html><script type=\"math/tex; mode=display\">\\newcommand{\\Bold}[1]{\\mathbf{#1}}1</script></html>"
      ],
      "text/plain": [
       "p"
      ]
     },
     "execution_count": 67,
     "metadata": {},
     "output_type": "execute_result"
    }
   ],
   "source": [
    "p[[]]"
   ]
  },
  {
   "cell_type": "markdown",
   "metadata": {
    "deletable": true,
    "editable": true
   },
   "source": [
    "But the following doesn't:"
   ]
  },
  {
   "cell_type": "code",
   "execution_count": 68,
   "metadata": {
    "collapsed": false,
    "deletable": true,
    "editable": true
   },
   "outputs": [
    {
     "data": {
      "text/html": [
       "<html><script type=\"math/tex; mode=display\">\\newcommand{\\Bold}[1]{\\mathbf{#1}}2</script></html>"
      ],
      "text/plain": [
       "2*m"
      ]
     },
     "execution_count": 68,
     "metadata": {},
     "output_type": "execute_result"
    }
   ],
   "source": [
    "m(2)"
   ]
  },
  {
   "cell_type": "markdown",
   "metadata": {
    "deletable": true,
    "editable": true
   },
   "source": [
    "For a more compact output, one may optionally use the following customization (which could be integrated in Sage pending popular request). Note that parts of size larger than 9 are followed by a \"dot\":"
   ]
  },
  {
   "cell_type": "code",
   "execution_count": 69,
   "metadata": {
    "collapsed": true,
    "deletable": true,
    "editable": true
   },
   "outputs": [],
   "source": [
    "def mystr(i):\n",
    "    s = str(i)\n",
    "    if i >= 10:\n",
    "        s = s+\".\"\n",
    "    return s\n",
    "def compact(mu):\n",
    "    return (''.join(mystr(i) for i in mu))\n",
    "Partition._latex_= compact\n",
    "Partition._repr_= compact"
   ]
  },
  {
   "cell_type": "code",
   "execution_count": 70,
   "metadata": {
    "collapsed": true,
    "deletable": true,
    "editable": true
   },
   "outputs": [],
   "source": [
    "s._latex_term = lambda mu: \"1\" if mu==[] else \"s_{%s}\"%(latex(mu))\n",
    "p._latex_term = lambda mu: \"1\" if mu==[] else \"p_{%s}\"%(latex(mu))\n",
    "h._latex_term = lambda mu: \"1\" if mu==[] else \"h_{%s}\"%(latex(mu))\n",
    "e._latex_term = lambda mu: \"1\" if mu==[] else \"e_{%s}\"%(latex(mu))\n",
    "m._latex_term = lambda mu: \"1\" if mu==[] else \"m_{%s}\"%(latex(mu))"
   ]
  },
  {
   "cell_type": "code",
   "execution_count": 71,
   "metadata": {
    "collapsed": false,
    "deletable": true,
    "editable": true
   },
   "outputs": [
    {
     "data": {
      "text/html": [
       "<html><script type=\"math/tex; mode=display\">\\newcommand{\\Bold}[1]{\\mathbf{#1}}s_{101.14.13.11}</script></html>"
      ],
      "text/plain": [
       "s101.14.13.11"
      ]
     },
     "execution_count": 71,
     "metadata": {},
     "output_type": "execute_result"
    }
   ],
   "source": [
    "s[101,14,13,1,1]"
   ]
  },
  {
   "cell_type": "code",
   "execution_count": 72,
   "metadata": {
    "collapsed": false,
    "deletable": true,
    "editable": true
   },
   "outputs": [
    {
     "data": {
      "text/html": [
       "<html><script type=\"math/tex; mode=display\">\\newcommand{\\Bold}[1]{\\mathbf{#1}}s_{101.14.13.11.}</script></html>"
      ],
      "text/plain": [
       "s101.14.13.11."
      ]
     },
     "execution_count": 72,
     "metadata": {},
     "output_type": "execute_result"
    }
   ],
   "source": [
    "s[101,14,13,11]"
   ]
  },
  {
   "cell_type": "markdown",
   "metadata": {
    "deletable": true,
    "editable": true
   },
   "source": [
    "Note that for the multiplicative bases (ie: $e$, $h$ and $p$), products are replaced by the corresponding partition indexed expression:"
   ]
  },
  {
   "cell_type": "code",
   "execution_count": 73,
   "metadata": {
    "collapsed": false,
    "deletable": true,
    "editable": true
   },
   "outputs": [
    {
     "data": {
      "text/html": [
       "<html><script type=\"math/tex; mode=display\">\\newcommand{\\Bold}[1]{\\mathbf{#1}}p_{52211}</script></html>"
      ],
      "text/plain": [
       "p52211"
      ]
     },
     "execution_count": 73,
     "metadata": {},
     "output_type": "execute_result"
    }
   ],
   "source": [
    "p([2,1,1])*p([5,2])"
   ]
  },
  {
   "cell_type": "markdown",
   "metadata": {
    "deletable": true,
    "editable": true
   },
   "source": [
    "For the non-multiplicative bases, such as the Schur functions, multiplication are expanded as linear combinations in the same (linear) basis:"
   ]
  },
  {
   "cell_type": "code",
   "execution_count": 74,
   "metadata": {
    "collapsed": false,
    "deletable": true,
    "editable": true
   },
   "outputs": [
    {
     "data": {
      "text/html": [
       "<html><script type=\"math/tex; mode=display\">\\newcommand{\\Bold}[1]{\\mathbf{#1}}s_{55111} + s_{64111} + 2s_{6511} + s_{661} + s_{73111} + 2s_{7411} + s_{751} + s_{82111} + 2s_{8311} + s_{841} + s_{91111} + 2s_{9211} + s_{931} + 2s_{10.111} + s_{10.21} + s_{11.11}</script></html>"
      ],
      "text/plain": [
       "s55111 + s64111 + 2*s6511 + s661 + s73111 + 2*s7411 + s751 + s82111 + 2*s8311 + s841 + s91111 + 2*s9211 + s931 + 2*s10.111 + s10.21 + s11.11"
      ]
     },
     "execution_count": 74,
     "metadata": {},
     "output_type": "execute_result"
    }
   ],
   "source": [
    "s([5])^2*s([1,1,1])"
   ]
  },
  {
   "cell_type": "code",
   "execution_count": 75,
   "metadata": {
    "collapsed": false,
    "deletable": true,
    "editable": true
   },
   "outputs": [
    {
     "data": {
      "text/html": [
       "<html><script type=\"math/tex; mode=display\">\\newcommand{\\Bold}[1]{\\mathbf{#1}}m_{3221} + 2m_{332} + m_{521} + m_{53}</script></html>"
      ],
      "text/plain": [
       "m3221 + 2*m332 + m521 + m53"
      ]
     },
     "execution_count": 75,
     "metadata": {},
     "output_type": "execute_result"
    }
   ],
   "source": [
    "m([3,1])*m([2,2])"
   ]
  },
  {
   "cell_type": "markdown",
   "metadata": {
    "deletable": true,
    "editable": true
   },
   "source": [
    "These calculations are relatively fast as illustrated in the following, showing only the length of the output rather than printing it out in all its glory:"
   ]
  },
  {
   "cell_type": "code",
   "execution_count": 76,
   "metadata": {
    "collapsed": false,
    "deletable": true,
    "editable": true
   },
   "outputs": [
    {
     "data": {
      "text/html": [
       "<html><script type=\"math/tex; mode=display\">\\newcommand{\\Bold}[1]{\\mathbf{#1}}2986</script></html>"
      ],
      "text/plain": [
       "2986"
      ]
     },
     "execution_count": 76,
     "metadata": {},
     "output_type": "execute_result"
    }
   ],
   "source": [
    "len(s[10,5,5,3]*s[12,5,2])"
   ]
  },
  {
   "cell_type": "markdown",
   "metadata": {
    "deletable": true,
    "editable": true
   },
   "source": [
    "When we mix different bases, the result will be expressed in one of the bases, usually the first basis encountered in the expression:"
   ]
  },
  {
   "cell_type": "code",
   "execution_count": 77,
   "metadata": {
    "collapsed": false,
    "deletable": true,
    "editable": true
   },
   "outputs": [
    {
     "data": {
      "text/html": [
       "<html><script type=\"math/tex; mode=display\">\\newcommand{\\Bold}[1]{\\mathbf{#1}}s_{1111} - s_{211} + s_{2111} + 2s_{22} + s_{221} - s_{31} + s_{311} + s_{32} + s_{4}</script></html>"
      ],
      "text/plain": [
       "s1111 - s211 + s2111 + 2*s22 + s221 - s31 + s311 + s32 + s4"
      ]
     },
     "execution_count": 77,
     "metadata": {},
     "output_type": "execute_result"
    }
   ],
   "source": [
    "s([2,1])*m([1,1])+p([2,2])"
   ]
  },
  {
   "cell_type": "code",
   "execution_count": 78,
   "metadata": {
    "collapsed": false,
    "deletable": true,
    "editable": true
   },
   "outputs": [
    {
     "data": {
      "text/html": [
       "<html><script type=\"math/tex; mode=display\">\\newcommand{\\Bold}[1]{\\mathbf{#1}}20m_{11111} + 9m_{2111} + 2m_{22} + 4m_{221} + 2m_{311} + m_{32} + m_{4}</script></html>"
      ],
      "text/plain": [
       "20*m11111 + 9*m2111 + 2*m22 + 4*m221 + 2*m311 + m32 + m4"
      ]
     },
     "execution_count": 78,
     "metadata": {},
     "output_type": "execute_result"
    }
   ],
   "source": [
    "m([1,1])*s([2,1])+p([2,2])"
   ]
  },
  {
   "cell_type": "code",
   "execution_count": 79,
   "metadata": {
    "collapsed": false,
    "deletable": true,
    "editable": true
   },
   "outputs": [
    {
     "data": {
      "text/html": [
       "<html><script type=\"math/tex; mode=display\">\\newcommand{\\Bold}[1]{\\mathbf{#1}}\\frac{1}{6}p_{11111} - \\frac{1}{6}p_{2111} + p_{22} - \\frac{1}{6}p_{311} + \\frac{1}{6}p_{32}</script></html>"
      ],
      "text/plain": [
       "1/6*p11111 - 1/6*p2111 + p22 - 1/6*p311 + 1/6*p32"
      ]
     },
     "execution_count": 79,
     "metadata": {},
     "output_type": "execute_result"
    }
   ],
   "source": [
    "p([2,2])+m([1,1])*s([2,1])"
   ]
  },
  {
   "cell_type": "markdown",
   "metadata": {
    "deletable": true,
    "editable": true
   },
   "source": [
    "### Expanding a symmetric function into a polynomial on a given number of variables\n",
    "\n",
    "Up to this point, we have worked with \"abstract\" symmetric functions, i.e.: with no variables. To expand symmetric functions in a given number of variables $x_0, x_1, \\dots, x_{n-1}$, we use the following tools.\n",
    "\n",
    "By default, variables are $x_0, x_1, \\dots,x_{n-1}$, but one may use any other set (=alphabet):"
   ]
  },
  {
   "cell_type": "code",
   "execution_count": 80,
   "metadata": {
    "collapsed": false,
    "deletable": true,
    "editable": true
   },
   "outputs": [
    {
     "data": {
      "text/html": [
       "<html><script type=\"math/tex; mode=display\">\\newcommand{\\Bold}[1]{\\mathbf{#1}}x^{2} y + x y^{2} + x^{2} z + 2 x y z + y^{2} z + x z^{2} + y z^{2}</script></html>"
      ],
      "text/plain": [
       "x^2*y + x*y^2 + x^2*z + 2*x*y*z + y^2*z + x*z^2 + y*z^2"
      ]
     },
     "execution_count": 80,
     "metadata": {},
     "output_type": "execute_result"
    }
   ],
   "source": [
    "g = s[2,1]\n",
    "g.expand(3, alphabet =['x','y','z'])"
   ]
  },
  {
   "cell_type": "code",
   "execution_count": 81,
   "metadata": {
    "collapsed": false,
    "deletable": true,
    "editable": true
   },
   "outputs": [
    {
     "data": {
      "text/html": [
       "<html><script type=\"math/tex; mode=display\">\\newcommand{\\Bold}[1]{\\mathbf{#1}}x_{0}^{2} x_{1} + x_{0} x_{1}^{2} + x_{0}^{2} x_{2} + 2 x_{0} x_{1} x_{2} + x_{1}^{2} x_{2} + x_{0} x_{2}^{2} + x_{1} x_{2}^{2}</script></html>"
      ],
      "text/plain": [
       "x0^2*x1 + x0*x1^2 + x0^2*x2 + 2*x0*x1*x2 + x1^2*x2 + x0*x2^2 + x1*x2^2"
      ]
     },
     "execution_count": 81,
     "metadata": {},
     "output_type": "execute_result"
    }
   ],
   "source": [
    "n = 3\n",
    "g.expand(n)"
   ]
  },
  {
   "cell_type": "markdown",
   "metadata": {
    "deletable": true,
    "editable": true
   },
   "source": [
    "To handle lots variables, one may proceed as follows:"
   ]
  },
  {
   "cell_type": "code",
   "execution_count": 82,
   "metadata": {
    "collapsed": false,
    "deletable": true,
    "editable": true
   },
   "outputs": [
    {
     "data": {
      "text/html": [
       "<html><script type=\"math/tex; mode=display\">\\newcommand{\\Bold}[1]{\\mathbf{#1}}y_{0}^{2} + y_{1}^{2} + y_{2}^{2} + y_{3}^{2} + y_{4}^{2} + y_{5}^{2} + y_{6}^{2} + y_{7}^{2} + y_{8}^{2} + y_{9}^{2} + y_{10}^{2} + y_{11}^{2} + y_{12}^{2} + y_{13}^{2} + y_{14}^{2} + y_{15}^{2} + y_{16}^{2} + y_{17}^{2} + y_{18}^{2} + y_{19}^{2} + y_{20}^{2} + y_{21}^{2} + y_{22}^{2} + y_{23}^{2} + y_{24}^{2} + y_{25}^{2}</script></html>"
      ],
      "text/plain": [
       "y0^2 + y1^2 + y2^2 + y3^2 + y4^2 + y5^2 + y6^2 + y7^2 + y8^2 + y9^2 + y10^2 + y11^2 + y12^2 + y13^2 + y14^2 + y15^2 + y16^2 + y17^2 + y18^2 + y19^2 + y20^2 + y21^2 + y22^2 + y23^2 + y24^2 + y25^2"
      ]
     },
     "execution_count": 82,
     "metadata": {},
     "output_type": "execute_result"
    }
   ],
   "source": [
    "g = p[2]\n",
    "g.expand(26,alphabet=['y'+str(i) for i in range(26)])"
   ]
  },
  {
   "cell_type": "markdown",
   "metadata": {
    "deletable": true,
    "editable": true
   },
   "source": [
    "**Exercise**\n",
    "\n",
    "Let $e_k(n) = e_k(x_0,x_1, \\dots , x_{n-1})$ and similarly for the homogeneous functions. Then we have the following recursion relations for $n \\geq 1$ :\n",
    "\n",
    "$$e_k(n) = e_k(n-1) + x_ne_{k-1}(n-1), \\\\\n",
    "h_k(n) = h_k(n-1) + x_nh_{k-1}(n), \\\\\n",
    "e_k(0)=h_k(0) = \\delta_{k,0},$$\n",
    "\n",
    "where $\\delta_{k,0}$ is the Kronecker delta.\n",
    "\n",
    "Check these relations for $k=3$ and $2 \\leq n \\leq 7$.\n",
    "\n",
    "**Solution**"
   ]
  },
  {
   "cell_type": "code",
   "execution_count": 83,
   "metadata": {
    "collapsed": false,
    "deletable": true,
    "editable": true
   },
   "outputs": [
    {
     "name": "stdout",
     "output_type": "stream",
     "text": [
      "Defining x0, x1, x2, x3, x4, x5, x6\n"
     ]
    }
   ],
   "source": [
    "k=3\n",
    "R = PolynomialRing(QQ,'x',7)\n",
    "R.inject_variables()"
   ]
  },
  {
   "cell_type": "code",
   "execution_count": 84,
   "metadata": {
    "collapsed": false,
    "deletable": true,
    "editable": true
   },
   "outputs": [
    {
     "name": "stdout",
     "output_type": "stream",
     "text": [
      "('n =', 2, 'ok for e')\n",
      "('n =', 2, 'ok for h')\n",
      "('n =', 3, 'ok for e')\n",
      "('n =', 3, 'ok for h')\n",
      "('n =', 4, 'ok for e')\n",
      "('n =', 4, 'ok for h')\n",
      "('n =', 5, 'ok for e')\n",
      "('n =', 5, 'ok for h')\n",
      "('n =', 6, 'ok for e')\n",
      "('n =', 6, 'ok for h')\n",
      "('n =', 7, 'ok for e')\n",
      "('n =', 7, 'ok for h')\n"
     ]
    }
   ],
   "source": [
    "l = list(R.gens())\n",
    "for xn, n in zip(l[1:], range(2,8)) :\n",
    "    f1 = e([k]).expand(n)\n",
    "    g1 = h([k]).expand(n)\n",
    "    f2 = e([k]).expand(n-1,l[:n-1])+xn*(e([k-1]).expand(n-1,l[:n-1]))\n",
    "    g2 = h([k]).expand(n-1,l[:n-1])+xn*(h([k-1]).expand(n,l[:n]))\n",
    "    if f1 == f2:\n",
    "        print('n =', n,'ok for e')\n",
    "    else :\n",
    "        print('n =', n,'no for e')\n",
    "    if g1 == g2 :\n",
    "        print('n =', n,'ok for h')\n",
    "    else :\n",
    "        print('n =', n,'no for h')"
   ]
  },
  {
   "cell_type": "markdown",
   "metadata": {
    "deletable": true,
    "editable": true
   },
   "source": [
    "### Convert a symmetric polynomial into a symmetric function\n",
    "\n",
    "Conversely, a \"concrete\" symmetric polynomial, i.e.: explicitly expressed in the variables, maybe written as a formal symmetric function in any chosen basis."
   ]
  },
  {
   "cell_type": "code",
   "execution_count": 85,
   "metadata": {
    "collapsed": false,
    "deletable": true,
    "editable": true
   },
   "outputs": [
    {
     "name": "stdout",
     "output_type": "stream",
     "text": [
      "x0^2*x1 + x0*x1^2 + x0^2 + x1^2\n"
     ]
    }
   ],
   "source": [
    "pol1 = (p([2])+e([2,1])).expand(2)\n",
    "print(pol1)"
   ]
  },
  {
   "cell_type": "code",
   "execution_count": 86,
   "metadata": {
    "collapsed": false,
    "deletable": true,
    "editable": true
   },
   "outputs": [
    {
     "data": {
      "text/html": [
       "<html><script type=\"math/tex; mode=display\">\\newcommand{\\Bold}[1]{\\mathbf{#1}}m_{2} + m_{21}</script></html>"
      ],
      "text/plain": [
       "m2 + m21"
      ]
     },
     "execution_count": 86,
     "metadata": {},
     "output_type": "execute_result"
    }
   ],
   "source": [
    "m.from_polynomial(pol1)"
   ]
  },
  {
   "cell_type": "markdown",
   "metadata": {
    "deletable": true,
    "editable": true
   },
   "source": [
    "A more interesting use of this function is to convert a symmetric polynomial, written with a finite number of variables, into a symmetric function.\n",
    "\n",
    "The `pol` input of the function `from_polynomial(pol)` is assumed to lie in a polynomial ring over the same base field as that used for the symmetric functions, which thus has to be delared beforehand.\n",
    "\n",
    "Here, we will work with two variables ($x_0$ and $x_1$). We declare our polynomial and convert it into a symmetric function, for example in the monomial basis."
   ]
  },
  {
   "cell_type": "code",
   "execution_count": 87,
   "metadata": {
    "collapsed": false,
    "deletable": true,
    "editable": true
   },
   "outputs": [
    {
     "name": "stdout",
     "output_type": "stream",
     "text": [
      "Defining y0, y1, y2\n"
     ]
    }
   ],
   "source": [
    "n = 3\n",
    "R = PolynomialRing(QQ,'y',n)\n",
    "R.inject_variables()"
   ]
  },
  {
   "cell_type": "markdown",
   "metadata": {
    "deletable": true,
    "editable": true
   },
   "source": [
    "Here, we will work with three variables ($y_0, y_1$ and $y_2$). Finally, we can declare our polynomial and convert it into a symmetric function in the monomial basis for example."
   ]
  },
  {
   "cell_type": "code",
   "execution_count": 88,
   "metadata": {
    "collapsed": false,
    "deletable": true,
    "editable": true
   },
   "outputs": [
    {
     "data": {
      "text/html": [
       "<html><script type=\"math/tex; mode=display\">\\newcommand{\\Bold}[1]{\\mathbf{#1}}2m_{111} + m_{21}</script></html>"
      ],
      "text/plain": [
       "2*m111 + m21"
      ]
     },
     "execution_count": 88,
     "metadata": {},
     "output_type": "execute_result"
    }
   ],
   "source": [
    "pol2 = y0^2*y1 + y0*y1^2 + y0^2*y2 + 2*y0*y1*y2 + y1^2*y2 + y0*y2^2 + y1*y2^2\n",
    "m.from_polynomial(pol2)"
   ]
  },
  {
   "cell_type": "markdown",
   "metadata": {
    "deletable": true,
    "editable": true
   },
   "source": [
    "In the preceeding example, the base ring of polynomials is the same as the base ring of symmetric polynomials considered, as checked by the following."
   ]
  },
  {
   "cell_type": "code",
   "execution_count": 89,
   "metadata": {
    "collapsed": false,
    "deletable": true,
    "editable": true
   },
   "outputs": [
    {
     "name": "stdout",
     "output_type": "stream",
     "text": [
      "Rational Field\n"
     ]
    }
   ],
   "source": [
    "print(s.base_ring())"
   ]
  },
  {
   "cell_type": "code",
   "execution_count": 90,
   "metadata": {
    "collapsed": false,
    "deletable": true,
    "editable": true
   },
   "outputs": [
    {
     "name": "stdout",
     "output_type": "stream",
     "text": [
      "Rational Field\n"
     ]
    }
   ],
   "source": [
    "print(pol2.base_ring())"
   ]
  },
  {
   "cell_type": "markdown",
   "metadata": {
    "deletable": true,
    "editable": true
   },
   "source": [
    "Thus a concrete symmetric polynomial over $\\mathbb{Q}(q,t)$ may be transformed into an abstract symmetric function in any basis."
   ]
  },
  {
   "cell_type": "code",
   "execution_count": 91,
   "metadata": {
    "collapsed": false,
    "deletable": true,
    "editable": true
   },
   "outputs": [
    {
     "name": "stdout",
     "output_type": "stream",
     "text": [
      "Defining e as shorthand for Symmetric Functions over Fraction Field of Multivariate Polynomial Ring in q, t over Rational Field in the elementary basis\n",
      "Defining f as shorthand for Symmetric Functions over Fraction Field of Multivariate Polynomial Ring in q, t over Rational Field in the forgotten basis\n",
      "Defining h as shorthand for Symmetric Functions over Fraction Field of Multivariate Polynomial Ring in q, t over Rational Field in the homogeneous basis\n",
      "Defining m as shorthand for Symmetric Functions over Fraction Field of Multivariate Polynomial Ring in q, t over Rational Field in the monomial basis\n",
      "Defining p as shorthand for Symmetric Functions over Fraction Field of Multivariate Polynomial Ring in q, t over Rational Field in the powersum basis\n",
      "Defining s as shorthand for Symmetric Functions over Fraction Field of Multivariate Polynomial Ring in q, t over Rational Field in the Schur basis\n"
     ]
    }
   ],
   "source": [
    "Symqt.inject_shorthands()"
   ]
  },
  {
   "cell_type": "code",
   "execution_count": 92,
   "metadata": {
    "collapsed": false,
    "deletable": true,
    "editable": true
   },
   "outputs": [
    {
     "name": "stdout",
     "output_type": "stream",
     "text": [
      "Defining y0, y1, y2\n"
     ]
    }
   ],
   "source": [
    "R = PolynomialRing(QQ['q','t'],'y',3)\n",
    "R.inject_variables()"
   ]
  },
  {
   "cell_type": "code",
   "execution_count": 93,
   "metadata": {
    "collapsed": false,
    "deletable": true,
    "editable": true
   },
   "outputs": [
    {
     "data": {
      "text/html": [
       "<html><script type=\"math/tex; mode=display\">\\newcommand{\\Bold}[1]{\\mathbf{#1}}s_{} + \\left(q + t\\right)s_{1,1} + q ts_{1,1,1}</script></html>"
      ],
      "text/plain": [
       "s + (q+t)*s11 + q*t*s111"
      ]
     },
     "execution_count": 93,
     "metadata": {},
     "output_type": "execute_result"
    }
   ],
   "source": [
    "pol2 = 1+(y0*y1+y0*y2+y1*y2)*(q+t)+(y0*y1*y2)*(q*t)\n",
    "s.from_polynomial(pol2)"
   ]
  },
  {
   "cell_type": "markdown",
   "metadata": {
    "deletable": true,
    "editable": true
   },
   "source": [
    "### Changes of bases\n",
    "\n",
    "Many calculations on symmetric functions involve a change of (linear) basis.\n",
    "\n",
    "For example, here we compute $p_{22}+m_{11}s_{21}$ in the elementary basis."
   ]
  },
  {
   "cell_type": "code",
   "execution_count": 94,
   "metadata": {
    "collapsed": false,
    "deletable": true,
    "editable": true
   },
   "outputs": [
    {
     "data": {
      "text/html": [
       "<html><script type=\"math/tex; mode=display\">\\newcommand{\\Bold}[1]{\\mathbf{#1}}e_{1,1,1,1} - 4e_{2,1,1} + 4e_{2,2} + e_{2,2,1} - e_{3,2}</script></html>"
      ],
      "text/plain": [
       "e1111 - 4*e211 + 4*e22 + e221 - e32"
      ]
     },
     "execution_count": 94,
     "metadata": {},
     "output_type": "execute_result"
    }
   ],
   "source": [
    "e(p([2,2])+m([1,1])*s([2,1]))"
   ]
  },
  {
   "cell_type": "markdown",
   "metadata": {
    "deletable": true,
    "editable": true
   },
   "source": [
    "***Exercise:***\n",
    "\n",
    "> *Print all the Schur functions on partitions of size 5 and convert them into the elementary basis.*"
   ]
  },
  {
   "cell_type": "code",
   "execution_count": 95,
   "metadata": {
    "collapsed": false,
    "deletable": true,
    "editable": true
   },
   "outputs": [
    {
     "name": "stdout",
     "output_type": "stream",
     "text": [
      "s5\n",
      "e11111 - 4*e2111 + 3*e221 + 3*e311 - 2*e32 - 2*e41 + e5\n",
      "s41\n",
      "e2111 - 2*e221 - e311 + 2*e32 + e41 - e5\n",
      "s32\n",
      "e221 - e311 - e32 + e41\n",
      "s311\n",
      "e311 - e32 - e41 + e5\n",
      "s221\n",
      "e32 - e41\n",
      "s2111\n",
      "e41 - e5\n",
      "s11111\n",
      "e5\n"
     ]
    }
   ],
   "source": [
    "for mu in Partitions(5):\n",
    "    print(s(mu))\n",
    "    print(e(s(mu)))"
   ]
  },
  {
   "cell_type": "markdown",
   "metadata": {
    "deletable": true,
    "editable": true
   },
   "source": [
    "***Exercise:***\n",
    "\n",
    "> *Compute the sum of the homogeneous functions on partitions of size 4 in the power sum basis.*"
   ]
  },
  {
   "cell_type": "code",
   "execution_count": 96,
   "metadata": {
    "collapsed": false,
    "deletable": true,
    "editable": true
   },
   "outputs": [
    {
     "data": {
      "text/html": [
       "<html><script type=\"math/tex; mode=display\">\\newcommand{\\Bold}[1]{\\mathbf{#1}}\\frac{47}{24}p_{1,1,1,1} + \\frac{7}{4}p_{2,1,1} + \\frac{3}{8}p_{2,2} + \\frac{2}{3}p_{3,1} + \\frac{1}{4}p_{4}</script></html>"
      ],
      "text/plain": [
       "47/24*p1111 + 7/4*p211 + 3/8*p22 + 2/3*p31 + 1/4*p4"
      ]
     },
     "execution_count": 96,
     "metadata": {},
     "output_type": "execute_result"
    }
   ],
   "source": [
    "p(sum(h(mu) for mu in Partitions(4)))"
   ]
  },
  {
   "cell_type": "markdown",
   "metadata": {
    "deletable": true,
    "editable": true
   },
   "source": [
    "***Exercise:***\n",
    "\n",
    "> *It is well konwn that $h_n(X) = \\sum \\limits_{\\mu \\vdash n} \\dfrac{p_{\\mu}(x)}{z_{\\mu}}$. Verify this result for $n \\in \\{1,2,3,4\\}$*\n",
    ">\n",
    "> *Note that there exists a function `zee()` which takes a partition $\\mu$ and gives back the value of $z_{\\mu}$. To use this function, you should import it from* `sage.combinat.sf.sfa`."
   ]
  },
  {
   "cell_type": "code",
   "execution_count": 97,
   "metadata": {
    "collapsed": false,
    "deletable": true,
    "editable": true
   },
   "outputs": [
    {
     "data": {
      "text/html": [
       "<html><script type=\"math/tex; mode=display\">\\newcommand{\\Bold}[1]{\\mathbf{#1}}64</script></html>"
      ],
      "text/plain": [
       "64"
      ]
     },
     "execution_count": 97,
     "metadata": {},
     "output_type": "execute_result"
    }
   ],
   "source": [
    "from sage.combinat.sf.sfa import *\n",
    "zee([4,4,2,1])"
   ]
  },
  {
   "cell_type": "code",
   "execution_count": 98,
   "metadata": {
    "collapsed": false,
    "deletable": true,
    "editable": true
   },
   "outputs": [
    {
     "name": "stdout",
     "output_type": "stream",
     "text": [
      "p1\n",
      "p1\n",
      "1/2*p11 + 1/2*p2\n",
      "1/2*p11 + 1/2*p2\n",
      "1/6*p111 + 1/2*p21 + 1/3*p3\n",
      "1/6*p111 + 1/2*p21 + 1/3*p3\n",
      "1/24*p1111 + 1/4*p211 + 1/8*p22 + 1/3*p31 + 1/4*p4\n",
      "1/24*p1111 + 1/4*p211 + 1/8*p22 + 1/3*p31 + 1/4*p4\n"
     ]
    }
   ],
   "source": [
    "for n in range (1,5) :\n",
    "    print(p(h([n])))\n",
    "    print(sum(p(mu)/zee(mu) for mu in Partitions(n)))"
   ]
  },
  {
   "cell_type": "markdown",
   "metadata": {
    "deletable": true,
    "editable": true
   },
   "source": [
    "> *Note that there also exists a function `aut()` which is the same as `zee()` but doesn't have to be imported.*\n",
    "\n",
    "We can see that the terms of a calculation are always given in a precise order on the partitions. This order can be changed.\n",
    "\n",
    "First, the function `get_print_style()` applied to a basis gives us the order used on the partitions for this basis. Then, with `set_print_style()` we can set another printing order. The possible orders are :\n",
    "\n",
    "-   `lex` : lexicographic order.\n",
    "-   `length` : by length of the partitions, and for partitions of same length by lexicographic order.\n",
    "-   `maximal_part` : by the value of the biggest part of the partition."
   ]
  },
  {
   "cell_type": "code",
   "execution_count": 99,
   "metadata": {
    "collapsed": false,
    "deletable": true,
    "editable": true
   },
   "outputs": [
    {
     "data": {
      "text/html": [
       "<html><script type=\"math/tex; mode=display\">\\newcommand{\\Bold}[1]{\\mathbf{#1}}\\verb|lex|</script></html>"
      ],
      "text/plain": [
       "'lex'"
      ]
     },
     "execution_count": 99,
     "metadata": {},
     "output_type": "execute_result"
    }
   ],
   "source": [
    "s.get_print_style()"
   ]
  },
  {
   "cell_type": "code",
   "execution_count": 100,
   "metadata": {
    "collapsed": false,
    "deletable": true,
    "editable": true
   },
   "outputs": [
    {
     "data": {
      "text/html": [
       "<html><script type=\"math/tex; mode=display\">\\newcommand{\\Bold}[1]{\\mathbf{#1}}-s_{1,1,1,1,1,1} - s_{2,1,1,1,1} + s_{2,2,1,1} + s_{2,2,2} - s_{3,3} - s_{4,2} + s_{5,1} + s_{6}</script></html>"
      ],
      "text/plain": [
       "-s111111 - s21111 + s2211 + s222 - s33 - s42 + s51 + s6"
      ]
     },
     "execution_count": 100,
     "metadata": {},
     "output_type": "execute_result"
    }
   ],
   "source": [
    "s.set_print_style('lex')\n",
    "s(p[4,1,1])"
   ]
  },
  {
   "cell_type": "code",
   "execution_count": 101,
   "metadata": {
    "collapsed": false,
    "deletable": true,
    "editable": true
   },
   "outputs": [
    {
     "data": {
      "text/html": [
       "<html><script type=\"math/tex; mode=display\">\\newcommand{\\Bold}[1]{\\mathbf{#1}}s_{6} - s_{3,3} - s_{4,2} + s_{5,1} + s_{2,2,2} + s_{2,2,1,1} - s_{2,1,1,1,1} - s_{1,1,1,1,1,1}</script></html>"
      ],
      "text/plain": [
       "s6 - s33 - s42 + s51 + s222 + s2211 - s21111 - s111111"
      ]
     },
     "execution_count": 101,
     "metadata": {},
     "output_type": "execute_result"
    }
   ],
   "source": [
    "s.set_print_style('length')\n",
    "s(p[4,1,1])"
   ]
  },
  {
   "cell_type": "code",
   "execution_count": 102,
   "metadata": {
    "collapsed": false,
    "deletable": true,
    "editable": true
   },
   "outputs": [
    {
     "data": {
      "text/html": [
       "<html><script type=\"math/tex; mode=display\">\\newcommand{\\Bold}[1]{\\mathbf{#1}}\\verb|length|</script></html>"
      ],
      "text/plain": [
       "'length'"
      ]
     },
     "execution_count": 102,
     "metadata": {},
     "output_type": "execute_result"
    }
   ],
   "source": [
    "s.get_print_style()"
   ]
  },
  {
   "cell_type": "code",
   "execution_count": 103,
   "metadata": {
    "collapsed": false,
    "deletable": true,
    "editable": true
   },
   "outputs": [
    {
     "data": {
      "text/html": [
       "<html><script type=\"math/tex; mode=display\">\\newcommand{\\Bold}[1]{\\mathbf{#1}}-s_{1,1,1,1,1,1} + s_{2,2,2} - s_{2,1,1,1,1} + s_{2,2,1,1} - s_{3,3} - s_{4,2} + s_{5,1} + s_{6}</script></html>"
      ],
      "text/plain": [
       "-s111111 + s222 - s21111 + s2211 - s33 - s42 + s51 + s6"
      ]
     },
     "execution_count": 103,
     "metadata": {},
     "output_type": "execute_result"
    }
   ],
   "source": [
    "s.set_print_style('maximal_part')\n",
    "s(p[4,1,1])"
   ]
  },
  {
   "cell_type": "markdown",
   "metadata": {
    "deletable": true,
    "editable": true
   },
   "source": [
    "## More basic commands on symmetric functions\n",
    "\n",
    "The function `coefficient()` returns the coefficient associated to a given partition."
   ]
  },
  {
   "cell_type": "code",
   "execution_count": 104,
   "metadata": {
    "collapsed": false,
    "deletable": true,
    "editable": true
   },
   "outputs": [
    {
     "data": {
      "text/html": [
       "<html><script type=\"math/tex; mode=display\">\\newcommand{\\Bold}[1]{\\mathbf{#1}}e_{4,3,1,1,1} - 2e_{4,3,2,1} + e_{4,3,3} - e_{4,4,1,1} + e_{4,4,2} - e_{5,2,1,1,1} + 2e_{5,2,2,1} - e_{5,3,2} + e_{5,4,1} + e_{6,2,1,1} - e_{6,2,2} - e_{6,4} - e_{7,2,1} + e_{8,2}</script></html>"
      ],
      "text/plain": [
       "e43111 - 2*e4321 + e433 - e4411 + e442 - e52111 + 2*e5221 - e532 + e541 + e6211 - e622 - e64 - e721 + e82"
      ]
     },
     "execution_count": 104,
     "metadata": {},
     "output_type": "execute_result"
    }
   ],
   "source": [
    "f = s[5,2,2,1]\n",
    "e(f)"
   ]
  },
  {
   "cell_type": "code",
   "execution_count": 105,
   "metadata": {
    "collapsed": false,
    "deletable": true,
    "editable": true
   },
   "outputs": [
    {
     "data": {
      "text/html": [
       "<html><script type=\"math/tex; mode=display\">\\newcommand{\\Bold}[1]{\\mathbf{#1}}-2</script></html>"
      ],
      "text/plain": [
       "-2"
      ]
     },
     "execution_count": 105,
     "metadata": {},
     "output_type": "execute_result"
    }
   ],
   "source": [
    "e(f).coefficient([4,3,2,1])"
   ]
  },
  {
   "cell_type": "markdown",
   "metadata": {
    "deletable": true,
    "editable": true
   },
   "source": [
    "The function `degree()` gives the degree of a symmetric function."
   ]
  },
  {
   "cell_type": "code",
   "execution_count": 106,
   "metadata": {
    "collapsed": false,
    "deletable": true,
    "editable": true
   },
   "outputs": [
    {
     "data": {
      "text/html": [
       "<html><script type=\"math/tex; mode=display\">\\newcommand{\\Bold}[1]{\\mathbf{#1}}10</script></html>"
      ],
      "text/plain": [
       "10"
      ]
     },
     "execution_count": 106,
     "metadata": {},
     "output_type": "execute_result"
    }
   ],
   "source": [
    "f.degree()"
   ]
  },
  {
   "cell_type": "markdown",
   "metadata": {
    "deletable": true,
    "editable": true
   },
   "source": [
    "Finally, the function `support()` returns the list of partitions that appear in a given symmetric function. The result will depend on the basis of the function. In the following example, we also use the function `sorted()` to get an ordered list."
   ]
  },
  {
   "cell_type": "code",
   "execution_count": 107,
   "metadata": {
    "collapsed": false,
    "deletable": true,
    "editable": true
   },
   "outputs": [
    {
     "name": "stdout",
     "output_type": "stream",
     "text": [
      "[5221]\n"
     ]
    }
   ],
   "source": [
    "print(f.support())"
   ]
  },
  {
   "cell_type": "code",
   "execution_count": 108,
   "metadata": {
    "collapsed": false,
    "deletable": true,
    "editable": true
   },
   "outputs": [
    {
     "name": "stdout",
     "output_type": "stream",
     "text": [
      "[5221, 5311, 532, 541, 6211, 631, 64, 7111, 721, 811, 82]\n"
     ]
    }
   ],
   "source": [
    "print(sorted(h(f).support()))"
   ]
  },
  {
   "cell_type": "markdown",
   "metadata": {
    "deletable": true,
    "editable": true
   },
   "source": [
    "## Other well-known bases\n",
    "\n",
    "Other important bases are implemented in SAGE.\n",
    "\n",
    "-   The forgotten symmetric functions\n",
    "-   The Hall-littlewood basis\n",
    "-   The Jack basis\n",
    "-   The orthogonal basis\n",
    "-   The symplectic basis\n",
    "-   The Witt basis\n",
    "-   The zonal basis\n",
    "\n",
    "The well known Macdonald symmetric functions are also implemented in sage. For more details, you can consult the following sage reference : <http://doc.sagemath.org/html/en/reference/combinat/sage/combinat/sf/macdonald.html>\n",
    "\n",
    "Here are some examples involving the \"combinatorial\" Macdonald symmetric functions. These are eigenfunctions of the operator $\\nabla$. (See below for more informations about $\\nabla$.)"
   ]
  },
  {
   "cell_type": "code",
   "execution_count": 109,
   "metadata": {
    "collapsed": false,
    "deletable": true,
    "editable": true
   },
   "outputs": [
    {
     "name": "stdout",
     "output_type": "stream",
     "text": [
      "Defining e as shorthand for Symmetric Functions over Fraction Field of Multivariate Polynomial Ring in q, t over Rational Field in the elementary basis\n",
      "Defining f as shorthand for Symmetric Functions over Fraction Field of Multivariate Polynomial Ring in q, t over Rational Field in the forgotten basis\n",
      "Defining h as shorthand for Symmetric Functions over Fraction Field of Multivariate Polynomial Ring in q, t over Rational Field in the homogeneous basis\n",
      "Defining m as shorthand for Symmetric Functions over Fraction Field of Multivariate Polynomial Ring in q, t over Rational Field in the monomial basis\n",
      "Defining p as shorthand for Symmetric Functions over Fraction Field of Multivariate Polynomial Ring in q, t over Rational Field in the powersum basis\n",
      "Defining s as shorthand for Symmetric Functions over Fraction Field of Multivariate Polynomial Ring in q, t over Rational Field in the Schur basis\n"
     ]
    }
   ],
   "source": [
    "Symqt = SymmetricFunctions(FractionField(QQ['q','t']))\n",
    "Symqt.inject_shorthands()"
   ]
  },
  {
   "cell_type": "code",
   "execution_count": 110,
   "metadata": {
    "collapsed": true,
    "deletable": true,
    "editable": true
   },
   "outputs": [],
   "source": [
    "H = Symqt.macdonald().Ht()\n",
    "H.print_options(prefix=\"H\")"
   ]
  },
  {
   "cell_type": "code",
   "execution_count": 111,
   "metadata": {
    "collapsed": false,
    "deletable": true,
    "editable": true
   },
   "outputs": [
    {
     "data": {
      "text/html": [
       "<html><script type=\"math/tex; mode=display\">\\newcommand{\\Bold}[1]{\\mathbf{#1}}q ts_{1,1,1} + \\left(q + t\\right)s_{2,1} + s_{3}</script></html>"
      ],
      "text/plain": [
       "q*t*s111 + (q+t)*s21 + s3"
      ]
     },
     "execution_count": 111,
     "metadata": {},
     "output_type": "execute_result"
    }
   ],
   "source": [
    "s(H([2,1]))"
   ]
  },
  {
   "cell_type": "code",
   "execution_count": 112,
   "metadata": {
    "collapsed": false,
    "deletable": true,
    "editable": true
   },
   "outputs": [
    {
     "data": {
      "text/html": [
       "<html><script type=\"math/tex; mode=display\">\\newcommand{\\Bold}[1]{\\mathbf{#1}}\\left(\\frac{- q}{- q t^{2} + t^{3} + q^{2} -  q t}\\right)H_{1,1,1} + \\left(\\frac{q^{2} + q t + t^{2}}{- q^{2} t^{2} + q^{3} + t^{3} -  q t}\\right)H_{2,1} + \\left(\\frac{t}{- q^{3} + q^{2} t + q t -  t^{2}}\\right)H_{3}</script></html>"
      ],
      "text/plain": [
       "((-q)/(-q*t^2+t^3+q^2-q*t))*McdHt111 + ((q^2+q*t+t^2)/(-q^2*t^2+q^3+t^3-q*t))*McdHt21 + (t/(-q^3+q^2*t+q*t-t^2))*McdHt3"
      ]
     },
     "execution_count": 112,
     "metadata": {},
     "output_type": "execute_result"
    }
   ],
   "source": [
    "H(s[2,1])"
   ]
  },
  {
   "cell_type": "code",
   "execution_count": 113,
   "metadata": {
    "collapsed": false,
    "deletable": true,
    "editable": true
   },
   "outputs": [
    {
     "data": {
      "text/html": [
       "<html><script type=\"math/tex; mode=display\">\\newcommand{\\Bold}[1]{\\mathbf{#1}}\\left[q^{6}H_{4}, q^{3} tH_{3,1}, q^{2} t^{2}H_{2,2}, q t^{3}H_{2,1,1}, t^{6}H_{1,1,1,1}\\right]</script></html>"
      ],
      "text/plain": [
       "[q^6*McdHt4, q^3*t*McdHt31, q^2*t^2*McdHt22, q*t^3*McdHt211, t^6*McdHt1111]"
      ]
     },
     "execution_count": 113,
     "metadata": {},
     "output_type": "execute_result"
    }
   ],
   "source": [
    "[H(mu).nabla() for mu in Partitions(4)]"
   ]
  },
  {
   "cell_type": "markdown",
   "metadata": {
    "deletable": true,
    "editable": true
   },
   "source": [
    "## Scalar Products\n",
    "\n",
    "The Hall scalar product is the standard scalar product on the algebra of symmetric functions. It makes the Schur functions into an orthonormal basis. The value of the scalar product between $p_{\\mu}$ and $p_{\\lambda}$ is given by $z_{\\mu}$ if $\\mu = \\lambda$ or zero otherwise.\n",
    "\n",
    "Thus, we get"
   ]
  },
  {
   "cell_type": "code",
   "execution_count": 114,
   "metadata": {
    "collapsed": false,
    "deletable": true,
    "editable": true
   },
   "outputs": [
    {
     "data": {
      "text/html": [
       "<html><script type=\"math/tex; mode=display\">\\newcommand{\\Bold}[1]{\\mathbf{#1}}8</script></html>"
      ],
      "text/plain": [
       "8"
      ]
     },
     "execution_count": 114,
     "metadata": {},
     "output_type": "execute_result"
    }
   ],
   "source": [
    "p([2,2,1]).scalar(p([2,2,1]))"
   ]
  },
  {
   "cell_type": "markdown",
   "metadata": {
    "deletable": true,
    "editable": true
   },
   "source": [
    "One may specify an optional argument which is a function on partitions giving the value for the scalar product between $p_{\\mu}$ and $p_{\\mu}$. Power sums remain orthogonal for the resulting scalar product. By default, this value is $z_{\\mu}$, but other interesting cases include:\n",
    "\n",
    "$$\\langle p_{\\mu},p_{\\mu}\\rangle_{q,t} = z_\\mu\\,\\prod_i\\frac{1-q^{\\mu_i}}{1-t^{\\mu_i}}.$$\n",
    "\n",
    "This is already refined as `scalar_qt()`."
   ]
  },
  {
   "cell_type": "code",
   "execution_count": 115,
   "metadata": {
    "collapsed": false,
    "deletable": true,
    "editable": true
   },
   "outputs": [
    {
     "data": {
      "text/html": [
       "<html><script type=\"math/tex; mode=display\">\\newcommand{\\Bold}[1]{\\mathbf{#1}}\\left(8\\right) \\cdot (t - 1)^{-3} \\cdot (t + 1)^{-2} \\cdot (q + 1)^{2} \\cdot (q - 1)^{3}</script></html>"
      ],
      "text/plain": [
       "(8) * (t - 1)^-3 * (t + 1)^-2 * (q + 1)^2 * (q - 1)^3"
      ]
     },
     "execution_count": 115,
     "metadata": {},
     "output_type": "execute_result"
    }
   ],
   "source": [
    "factor(p([2,2,1]).scalar_qt(p[2,2,1]))"
   ]
  },
  {
   "cell_type": "markdown",
   "metadata": {
    "deletable": true,
    "editable": true
   },
   "source": [
    "## Some interesting operators on symmetric functions\n",
    "\n",
    "Operators on symmetric functions may be found in SAGE. Among these, the **nabla operator** is characterized as having the combinatorial Macdonald symmetric functions $H_{\\mu}=H_{\\mu}(\\mathbf{x};q,t)$ as eigenfunctions:\n",
    "\n",
    "$$\\nabla H_{\\mu} = t^{n(\\mu)} q^{n(\\mu')} H_{\\mu},$$\n",
    "\n",
    "where $\\mu$ is a partition, $\\mu'$ its conjugate, and $n(\\mu)$ is set to be equal to $\\sum_i (i-1)\\mu_i$. This operator $\\nabla$ is thus defined over symmetric functions with coefficients in the fraction field $\\mathbb{Q}[q,t]$, as is declared above.\n",
    "\n",
    "It has been shown by Haiman that $\\nabla(e_n)$ is the Frobenius transform of the bigraded character of the $\\mathbb{S}_n$-module of diagonal harmonic polynomials. Recall that the Frobernius transform encodes irreducible as Schur functions."
   ]
  },
  {
   "cell_type": "code",
   "execution_count": 116,
   "metadata": {
    "collapsed": false,
    "deletable": true,
    "editable": true
   },
   "outputs": [
    {
     "data": {
      "text/html": [
       "<html><script type=\"math/tex; mode=display\">\\newcommand{\\Bold}[1]{\\mathbf{#1}}\\left(q^{3} + q^{2} t + q t^{2} + t^{3} + q t\\right)s_{1,1,1} + \\left(q^{2} + q t + t^{2} + q + t\\right)s_{2,1} + s_{3}</script></html>"
      ],
      "text/plain": [
       "(q^3+q^2*t+q*t^2+t^3+q*t)*s111 + (q^2+q*t+t^2+q+t)*s21 + s3"
      ]
     },
     "execution_count": 116,
     "metadata": {},
     "output_type": "execute_result"
    }
   ],
   "source": [
    "s(e[3].nabla())"
   ]
  },
  {
   "cell_type": "markdown",
   "metadata": {
    "deletable": true,
    "editable": true
   },
   "source": [
    "The global dimension of this module is $(n+1)^{n-1}$, and the dimension of its alternating component (see exercise below) is the Catalan number $C_n=\\frac{1}{n+1}\\binom{2n}{n}$. And there are many other interesting properties of the bigraded version."
   ]
  },
  {
   "cell_type": "code",
   "execution_count": 117,
   "metadata": {
    "collapsed": false,
    "deletable": true,
    "editable": true
   },
   "outputs": [
    {
     "data": {
      "text/html": [
       "<html><script type=\"math/tex; mode=display\">\\newcommand{\\Bold}[1]{\\mathbf{#1}}q^{3} + q^{2} t + q t^{2} + t^{3} + 2 q^{2} + 3 q t + 2 t^{2} + 2 q + 2 t + 1</script></html>"
      ],
      "text/plain": [
       "q^3 + q^2*t + q*t^2 + t^3 + 2*q^2 + 3*q*t + 2*t^2 + 2*q + 2*t + 1"
      ]
     },
     "execution_count": 117,
     "metadata": {},
     "output_type": "execute_result"
    }
   ],
   "source": [
    "Hilb_qt=s(e[3].nabla()).scalar(p[1]^3); Hilb_qt"
   ]
  },
  {
   "cell_type": "code",
   "execution_count": 118,
   "metadata": {
    "collapsed": false,
    "deletable": true,
    "editable": true
   },
   "outputs": [
    {
     "data": {
      "text/html": [
       "<html><script type=\"math/tex; mode=display\">\\newcommand{\\Bold}[1]{\\mathbf{#1}}16</script></html>"
      ],
      "text/plain": [
       "16"
      ]
     },
     "execution_count": 118,
     "metadata": {},
     "output_type": "execute_result"
    }
   ],
   "source": [
    "Hilb_qt.substitute({q:1,t:1})"
   ]
  },
  {
   "cell_type": "markdown",
   "metadata": {
    "deletable": true,
    "editable": true
   },
   "source": [
    "There are also interesting conjectures on the effect of $\\nabla$ on Schur functions."
   ]
  },
  {
   "cell_type": "code",
   "execution_count": 119,
   "metadata": {
    "collapsed": false,
    "deletable": true,
    "editable": true
   },
   "outputs": [
    {
     "data": {
      "text/html": [
       "<html><script type=\"math/tex; mode=display\">\\newcommand{\\Bold}[1]{\\mathbf{#1}}\\left(q^{6} t^{3} + q^{5} t^{4} + q^{4} t^{5} + q^{3} t^{6}\\right)s_{1,1,1,1,1} + \\left(q^{5} t^{2} + 2 q^{4} t^{3} + 2 q^{3} t^{4} + q^{2} t^{5}\\right)s_{2,2,1} + \\left(q^{6} t^{2} + 2 q^{5} t^{3} + 2 q^{4} t^{4} + 2 q^{3} t^{5} + q^{2} t^{6} + q^{4} t^{3} + q^{3} t^{4}\\right)s_{2,1,1,1} + \\left(q^{4} t^{2} + q^{3} t^{3} + q^{2} t^{4}\\right)s_{3,2} + \\left(q^{5} t^{2} + q^{4} t^{3} + q^{3} t^{4} + q^{2} t^{5} + q^{4} t^{2} + 2 q^{3} t^{3} + q^{2} t^{4}\\right)s_{3,1,1} + \\left(q^{3} t^{2} + q^{2} t^{3}\\right)s_{4,1}</script></html>"
      ],
      "text/plain": [
       "(q^6*t^3+q^5*t^4+q^4*t^5+q^3*t^6)*s11111 + (q^5*t^2+2*q^4*t^3+2*q^3*t^4+q^2*t^5)*s221 + (q^6*t^2+2*q^5*t^3+2*q^4*t^4+2*q^3*t^5+q^2*t^6+q^4*t^3+q^3*t^4)*s2111 + (q^4*t^2+q^3*t^3+q^2*t^4)*s32 + (q^5*t^2+q^4*t^3+q^3*t^4+q^2*t^5+q^4*t^2+2*q^3*t^3+q^2*t^4)*s311 + (q^3*t^2+q^2*t^3)*s41"
      ]
     },
     "execution_count": 119,
     "metadata": {},
     "output_type": "execute_result"
    }
   ],
   "source": [
    "(-s([2,2,1])).nabla()"
   ]
  },
  {
   "cell_type": "markdown",
   "metadata": {
    "deletable": true,
    "editable": true
   },
   "source": [
    "***Exercise:***\n",
    "\n",
    "> We have the following relation between $\\nabla (e_n)$ and the q,t-Catalan numbers :\n",
    ">\n",
    "> $$C_n(q,t) = \\langle \\nabla e_n , e_n \\rangle.$$\n",
    ">\n",
    "> *Check this relation for $1 \\leq n \\leq 5$*\n",
    ">\n",
    "> *Note that the n-th q,t-Catalan number can be computed by using the command `qt_catalan_number(n)` which has to be imported from* `sage.combinat.q_analogues` if it hasn't already been done.\\*"
   ]
  },
  {
   "cell_type": "code",
   "execution_count": null,
   "metadata": {
    "collapsed": false,
    "deletable": true,
    "editable": true
   },
   "outputs": [
    {
     "data": {
      "text/plain": [
       "q^10 + q^9*t + q^8*t^2 + q^7*t^3 + q^6*t^4 + q^5*t^5 + q^4*t^6 + q^3*t^7 + q^2*t^8 + q*t^9 + t^10 + q^8*t + q^7*t^2 + q^6*t^3 + q^5*t^4 + q^4*t^5 + q^3*t^6 + q^2*t^7 + q*t^8 + q^7*t + 2*q^6*t^2 + 2*q^5*t^3 + 2*q^4*t^4 + 2*q^3*t^5 + 2*q^2*t^6 + q*t^7 + q^6*t + q^5*t^2 + 2*q^4*t^3 + 2*q^3*t^4 + q^2*t^5 + q*t^6 + q^4*t^2 + q^3*t^3 + q^2*t^4"
      ]
     },
     "execution_count": 1,
     "metadata": {},
     "output_type": "execute_result"
    }
   ],
   "source": [
    "from sage.combinat.q_analogues import *\n",
    "n=5\n",
    "qt_catalan_number(n)"
   ]
  },
  {
   "cell_type": "code",
   "execution_count": null,
   "metadata": {
    "collapsed": false,
    "deletable": true,
    "editable": true
   },
   "outputs": [
    {
     "data": {
      "text/plain": [
       "True\n",
       "True\n",
       "True\n",
       "True\n",
       "True"
      ]
     },
     "execution_count": 1,
     "metadata": {},
     "output_type": "execute_result"
    }
   ],
   "source": [
    "for n in range (1,6) :\n",
    "    print(e([n]).nabla().scalar(e([n])) == qt_catalan_number(n))"
   ]
  },
  {
   "cell_type": "markdown",
   "metadata": {
    "deletable": true,
    "editable": true
   },
   "source": [
    "## Plethysm\n",
    "\n",
    "As its name strongly suggests, the `plethysm()` function computes the **plethysm** $f\\circ g$, of two symmetric functions $f$ and $g$. Recall that this is the operation characterized by the properties\n",
    "\n",
    "-   $(f_1+f_2)\\circ g =(f_1\\circ g)+(f_2\\circ g)$,\n",
    "-   $(f_1\\cdot f_2)\\circ g =(f_1\\circ g)\\cdot (f_2\\circ g)$,\n",
    "-   $p_k\\circ(g_1+g_2) =(p_k\\circ g_1)+(p_k\\circ g_2)$,\n",
    "-   $p_k\\circ (g_1\\cdot g_2) =(p_k\\circ g_1)+(p_k\\circ g_2)$,\n",
    "-   $p_k\\circ p_n =p_{kn}$,\n",
    "-   $p_k\\circ x =x^k$, if $x$ is a **variable**\n",
    "-   $p_k\\circ c =c$, if $c$ is a **constant**\n",
    "\n",
    "One may specify a list of SAGE-variables to be treated as **variables** in a plethysm, using the option `include=[x1,x2,...,xk]`, and/or a list of SAGE-variables to be considered as **constants**, using the option `exclude=[c1,c2,...,ck]`. Here are some examples."
   ]
  },
  {
   "cell_type": "code",
   "execution_count": null,
   "metadata": {
    "collapsed": false,
    "deletable": true,
    "editable": true
   },
   "outputs": [
    {
     "data": {
      "text/plain": [
       "1/36*p33332222 + 1/12*p4333322 + 1/12*p6332222 + 1/18*p633332 + 1/4*p643322 + 1/6*p66332 + 1/18*p932222 + 1/6*p94322 + 1/9*p9632"
      ]
     },
     "execution_count": 1,
     "metadata": {},
     "output_type": "execute_result"
    }
   ],
   "source": [
    "p([3,2]).plethysm(h([3,1]))"
   ]
  },
  {
   "cell_type": "code",
   "execution_count": null,
   "metadata": {
    "collapsed": false,
    "deletable": true,
    "editable": true
   },
   "outputs": [
    {
     "data": {
      "text/plain": [
       "p2 + 1/3*t^2*p222 + (-1/3*t^2)*p6"
      ]
     },
     "execution_count": 1,
     "metadata": {},
     "output_type": "execute_result"
    }
   ],
   "source": [
    "g = p([1]) + t*s([2,1])\n",
    "print(p([2]).plethysm(g,include=[t]))"
   ]
  },
  {
   "cell_type": "code",
   "execution_count": null,
   "metadata": {
    "collapsed": false,
    "deletable": true,
    "editable": true
   },
   "outputs": [
    {
     "data": {
      "text/plain": [
       "p2 + 1/3*t*p222 + (-1/3*t)*p6"
      ]
     },
     "execution_count": 1,
     "metadata": {},
     "output_type": "execute_result"
    }
   ],
   "source": [
    "print(p([2]).plethysm(g,exclude=[t]))"
   ]
  },
  {
   "cell_type": "markdown",
   "metadata": {
    "deletable": true,
    "editable": true
   },
   "source": [
    "It is costumary to also write $f[g]$ for $f\\circ g$ in mathematical texts, but SAGE uses the shorthand notation $f(g)$ for better compatibility with python. For instance, the plethysm $s_4\\circ s_2$, may also be computed as"
   ]
  },
  {
   "cell_type": "code",
   "execution_count": null,
   "metadata": {
    "collapsed": false,
    "deletable": true,
    "editable": true
   },
   "outputs": [
    {
     "data": {
      "text/plain": [
       "s2222 + s422 + s44 + s62 + s8"
      ]
     },
     "execution_count": 1,
     "metadata": {},
     "output_type": "execute_result"
    }
   ],
   "source": [
    "s[4](s[2])"
   ]
  },
  {
   "cell_type": "markdown",
   "metadata": {
    "deletable": true,
    "editable": true
   },
   "source": [
    "To have nice expressions for plethystic substitutions, one may set aliases for the symmetric function on the empty partition (i.e. $s_0, m_0, \\dots$, all equal to the constant 1), and the symmetric function (unique up to a scalar) of degree 1."
   ]
  },
  {
   "cell_type": "code",
   "execution_count": null,
   "metadata": {
    "collapsed": true,
    "deletable": true,
    "editable": true
   },
   "outputs": [],
   "source": [
    "One = s([])\n",
    "X = s[1]"
   ]
  },
  {
   "cell_type": "code",
   "execution_count": null,
   "metadata": {
    "collapsed": false,
    "deletable": true,
    "editable": true
   },
   "outputs": [
    {
     "data": {
      "text/plain": [
       "(q^12+q^11+2*q^10+3*q^9+4*q^8+4*q^7+5*q^6+4*q^5+4*q^4+3*q^3+2*q^2+q+1)*s"
      ]
     },
     "execution_count": 1,
     "metadata": {},
     "output_type": "execute_result"
    }
   ],
   "source": [
    "s[3](s[4](One*(1+q)))"
   ]
  },
  {
   "cell_type": "markdown",
   "metadata": {
    "deletable": true,
    "editable": true
   },
   "source": [
    "One should compare this with"
   ]
  },
  {
   "cell_type": "code",
   "execution_count": null,
   "metadata": {
    "collapsed": false,
    "deletable": true,
    "editable": true
   },
   "outputs": [
    {
     "data": {
      "text/plain": [
       "q^12 + q^11 + 2*q^10 + 3*q^9 + 4*q^8 + 4*q^7 + 5*q^6 + 4*q^5 + 4*q^4 + 3*q^3 + 2*q^2 + q + 1"
      ]
     },
     "execution_count": 1,
     "metadata": {},
     "output_type": "execute_result"
    }
   ],
   "source": [
    "q_binomial(7,3)"
   ]
  },
  {
   "cell_type": "code",
   "execution_count": null,
   "metadata": {
    "collapsed": false,
    "deletable": true,
    "editable": true
   },
   "outputs": [
    {
     "data": {
      "text/plain": [
       "q^2*s22 + (q^3+q^2+q)*s31 + (q^4+q^3+q^2+q+1)*s4"
      ]
     },
     "execution_count": 1,
     "metadata": {},
     "output_type": "execute_result"
    }
   ],
   "source": [
    "s[4](X*(1+q))"
   ]
  },
  {
   "cell_type": "code",
   "execution_count": null,
   "metadata": {
    "collapsed": false,
    "deletable": true,
    "editable": true
   },
   "outputs": [
    {
     "data": {
      "text/plain": [
       "((q-1)^-4*(q+1)^-2*q^6*(q^2+1)^-1*(q^2+q+1)^-1)*s1111 + ((q-1)^-4*(q+1)^-2*q^2*(q^2+q+1)^-1)*s22 + ((q-1)^-4*(q+1)^-2*q^3*(q^2+1)^-1)*s211 + ((q-1)^-4*(q+1)^-2*q*(q^2+1)^-1)*s31 + ((q-1)^-4*(q+1)^-2*(q^2+1)^-1*(q^2+q+1)^-1)*s4"
      ]
     },
     "execution_count": 1,
     "metadata": {},
     "output_type": "execute_result"
    }
   ],
   "source": [
    "s[4](X/(1-q)).map_coefficients(factor)"
   ]
  },
  {
   "cell_type": "code",
   "execution_count": null,
   "metadata": {
    "collapsed": false,
    "deletable": true,
    "editable": true
   },
   "outputs": [
    {
     "data": {
      "text/plain": [
       "s444 + s642 + s741 + s822 + s93"
      ]
     },
     "execution_count": 1,
     "metadata": {},
     "output_type": "execute_result"
    }
   ],
   "source": [
    "s[3](s[4])-s[2](s[6])"
   ]
  },
  {
   "cell_type": "markdown",
   "metadata": {
    "deletable": true,
    "editable": true
   },
   "source": [
    "Suggests that we have the following positive coefficient polynomial"
   ]
  },
  {
   "cell_type": "code",
   "execution_count": null,
   "metadata": {
    "collapsed": false,
    "deletable": true,
    "editable": true
   },
   "outputs": [
    {
     "data": {
      "text/plain": [
       "q^9 + q^8 + q^7 + q^6 + q^5 + q^4 + q^3"
      ]
     },
     "execution_count": 1,
     "metadata": {},
     "output_type": "execute_result"
    }
   ],
   "source": [
    "q_binomial(7,3)-q_binomial(8,2)"
   ]
  },
  {
   "cell_type": "markdown",
   "metadata": {
    "deletable": true,
    "editable": true
   },
   "source": [
    "## Schur Positivity\n",
    "\n",
    "When computing with symmetric functions, one often wants to check a given symmetric function is Schur positive or not. In our current setup, this means that coefficients polynomials in $\\mathbb{N}[q,t]$. The following function returns `True` if the given symmetric function is Schur positive and `False` if not."
   ]
  },
  {
   "cell_type": "code",
   "execution_count": null,
   "metadata": {
    "collapsed": false,
    "deletable": true,
    "editable": true
   },
   "outputs": [
    {
     "data": {
      "text/plain": [
       "True"
      ]
     },
     "execution_count": 1,
     "metadata": {},
     "output_type": "execute_result"
    }
   ],
   "source": [
    "f = s([4,1])+s([3,2])\n",
    "print(f.is_schur_positive())"
   ]
  },
  {
   "cell_type": "code",
   "execution_count": null,
   "metadata": {
    "collapsed": false,
    "deletable": true,
    "editable": true
   },
   "outputs": [
    {
     "data": {
      "text/plain": [
       "False"
      ]
     },
     "execution_count": 1,
     "metadata": {},
     "output_type": "execute_result"
    }
   ],
   "source": [
    "g = s([4,1])-s([3,2])\n",
    "print(g.is_schur_positive())"
   ]
  },
  {
   "cell_type": "markdown",
   "metadata": {
    "deletable": true,
    "editable": true
   },
   "source": [
    "For example, we can verify the well-known Schur positivity of product of Schur functions."
   ]
  },
  {
   "cell_type": "code",
   "execution_count": null,
   "metadata": {
    "collapsed": false,
    "deletable": true,
    "editable": true
   },
   "outputs": [
    {
     "data": {
      "text/plain": [
       "The product of s2 and s3 is Schur positive.\n",
       "The product of s2 and s21 is Schur positive.\n",
       "The product of s2 and s111 is Schur positive.\n",
       "The product of s11 and s3 is Schur positive.\n",
       "The product of s11 and s21 is Schur positive.\n",
       "The product of s11 and s111 is Schur positive."
      ]
     },
     "execution_count": 1,
     "metadata": {},
     "output_type": "execute_result"
    }
   ],
   "source": [
    "for mu in Partitions(2) :\n",
    "    for nu in Partitions(3) :\n",
    "        if (s(mu)*s(nu)).is_schur_positive() :\n",
    "            print('The product of ', s(mu),' and ',s(nu),' is Schur positive.')\n",
    "        else :\n",
    "            print('The product of ', s(mu),' and ',s(nu),'is not Schur positive.')"
   ]
  },
  {
   "cell_type": "markdown",
   "metadata": {
    "deletable": true,
    "editable": true
   },
   "source": [
    "***Exercise:***\n",
    "\n",
    "> *Its representation theoretic signification implies that $\\nabla (e_n)$ is Schur positive. Verify this for $1 \\leq n \\leq 6$.*"
   ]
  },
  {
   "cell_type": "code",
   "execution_count": null,
   "metadata": {
    "collapsed": false,
    "deletable": true,
    "editable": true
   },
   "outputs": [
    {
     "data": {
      "text/plain": [
       "True\n",
       "True\n",
       "True\n",
       "True\n",
       "True\n",
       "True"
      ]
     },
     "execution_count": 1,
     "metadata": {},
     "output_type": "execute_result"
    }
   ],
   "source": [
    "e = Symqt.e()\n",
    "for n in range(1,7) :\n",
    "    print(e([n]).nabla().is_schur_positive())"
   ]
  },
  {
   "cell_type": "markdown",
   "metadata": {
    "deletable": true,
    "editable": true
   },
   "source": [
    "Schur positivity is a rare phenomena in general, but symmetric functions that come from representation theory are Schur positive. One can show that the probability that a degree $n$ monomial positive is Schur positive is equal to\n",
    "\n",
    "$$\\prod_{\\mu\\vdash n}\\frac{1}{k_\\mu},\\qquad {\\rm where}\\qquad k_\\mu:=\\sum_{\\nu\\vdash n} K_{\\mu,\\nu},$$\n",
    "\n",
    "with $K_{\\mu,\\nu}$ the **Kostka numbers**. Recall that these occur in the expansion of the Schur functions in terms of the monomial functions:\n",
    "\n",
    "$$s_\\mu=\\sum_\\nu K_{\\mu,\\nu}\\, m_\\nu.$$\n",
    "\n",
    "For instance, we have"
   ]
  },
  {
   "cell_type": "code",
   "execution_count": null,
   "metadata": {
    "collapsed": false,
    "deletable": true,
    "editable": true
   },
   "outputs": [
    {
     "data": {
      "text/plain": [
       "5*m11111 + 3*m2111 + 2*m221 + m311 + m32"
      ]
     },
     "execution_count": 1,
     "metadata": {},
     "output_type": "execute_result"
    }
   ],
   "source": [
    "m(s[3,2])"
   ]
  },
  {
   "cell_type": "markdown",
   "metadata": {
    "deletable": true,
    "editable": true
   },
   "source": [
    "hence defining"
   ]
  },
  {
   "cell_type": "code",
   "execution_count": null,
   "metadata": {
    "collapsed": true,
    "deletable": true,
    "editable": true
   },
   "outputs": [],
   "source": [
    "def K(mu,nu):\n",
    "    return s(mu).scalar(h(nu))"
   ]
  },
  {
   "cell_type": "markdown",
   "metadata": {
    "deletable": true,
    "editable": true
   },
   "source": [
    "so that the above expression is indeed seen to be"
   ]
  },
  {
   "cell_type": "code",
   "execution_count": null,
   "metadata": {
    "collapsed": false,
    "deletable": true,
    "editable": true
   },
   "outputs": [
    {
     "data": {
      "text/plain": [
       "5*m11111 + 3*m2111 + 2*m221 + m311 + m32"
      ]
     },
     "execution_count": 1,
     "metadata": {},
     "output_type": "execute_result"
    }
   ],
   "source": [
    "add(K([3,2],nu)*m(nu) for nu in Partitions(5))"
   ]
  },
  {
   "cell_type": "markdown",
   "metadata": {
    "deletable": true,
    "editable": true
   },
   "source": [
    "Now, we set"
   ]
  },
  {
   "cell_type": "code",
   "execution_count": null,
   "metadata": {
    "collapsed": true,
    "deletable": true,
    "editable": true
   },
   "outputs": [],
   "source": [
    "def k(mu):\n",
    "    n=add(j for j in mu)\n",
    "    return add(K(mu,nu) for nu in Partitions(n))"
   ]
  },
  {
   "cell_type": "markdown",
   "metadata": {
    "deletable": true,
    "editable": true
   },
   "source": [
    "so that the above probability is calculated by the function"
   ]
  },
  {
   "cell_type": "code",
   "execution_count": null,
   "metadata": {
    "collapsed": true,
    "deletable": true,
    "editable": true
   },
   "outputs": [],
   "source": [
    "def prob_Schur_positive(n): return 1/mul(k(mu) for mu in Partitions(n))"
   ]
  },
  {
   "cell_type": "markdown",
   "metadata": {
    "deletable": true,
    "editable": true
   },
   "source": [
    "One can then illustrate how very rare Schur-positivity is, as a function of the degree:"
   ]
  },
  {
   "cell_type": "code",
   "execution_count": null,
   "metadata": {
    "collapsed": false,
    "deletable": true,
    "editable": true
   },
   "outputs": [
    {
     "data": {
      "text/plain": [
       "[1, 1/2, 1/9, 1/560, 1/480480, 1/1027458432000, 1/2465474364698304960000]"
      ]
     },
     "execution_count": 1,
     "metadata": {},
     "output_type": "execute_result"
    }
   ],
   "source": [
    "[prob_Schur_positive(n) for n in range(1,8)]"
   ]
  },
  {
   "cell_type": "markdown",
   "metadata": {
    "deletable": true,
    "editable": true
   },
   "source": [
    "## Hopf structure and important identities\n",
    "\n",
    "Many important identities between symmetric functions can be linked to \"the\" Hopf algebra structure on the ring of symmetric function. In part, this means that we have a **coproduct** on symmetric functions that may be described in either of the two forms:\n",
    "\n",
    "$$\\Delta(g) = \\sum_{k+j=n}\\sum_{\\mu\\vdash k,\\ \\nu\\vdash j} a_{\\mu,\\nu}\\, s_\\mu\\otimes s_\\nu$$\n",
    "\n",
    "$$g(\\mathbf{x}+\\mathbf{y})= \\sum_{k+j=n}\\sum_{\\mu\\vdash k,\\ \\nu\\vdash j} a_{\\mu,\\nu}\\, s_\\mu(\\mathbf{x}) s_\\nu(\\mathbf{y})$$\n",
    "\n",
    "For instance, we have"
   ]
  },
  {
   "cell_type": "code",
   "execution_count": null,
   "metadata": {
    "collapsed": false,
    "deletable": true,
    "editable": true
   },
   "outputs": [
    {
     "data": {
      "text/plain": [
       "s # s321 + s1 # s221 + s1 # s311 + s1 # s32 + s11 # s211 + s11 # s22 + s11 # s31 + s111 # s21 + s2 # s211 + s2 # s22 + s2 # s31 + s21 # s111 + 2*s21 # s21 + s21 # s3 + s211 # s11 + s211 # s2 + s22 # s11 + s22 # s2 + s221 # s1 + s3 # s21 + s31 # s11 + s31 # s2 + s311 # s1 + s32 # s1 + s321 # s"
      ]
     },
     "execution_count": 1,
     "metadata": {},
     "output_type": "execute_result"
    }
   ],
   "source": [
    "s[3,2,1].coproduct()"
   ]
  },
  {
   "cell_type": "markdown",
   "metadata": {
    "deletable": true,
    "editable": true
   },
   "source": [
    "**Skew Schur fonctions** arise when one considers the effect of coproduct on Schur functions themselves\n",
    "\n",
    "$$\\Delta(s_\\lambda) = \\sum_{\\mu\\subseteq \\lambda} s_{\\lambda/\\mu}\\otimes s_\\mu.$$\n",
    "\n",
    "Skew Schur functions are also implemented in SAGE. For instance, we have the skew Schur $s_{321/2}$."
   ]
  },
  {
   "cell_type": "code",
   "execution_count": null,
   "metadata": {
    "collapsed": false,
    "deletable": true,
    "editable": true
   },
   "outputs": [
    {
     "data": {
      "text/plain": [
       "s211 + s22 + s31"
      ]
     },
     "execution_count": 1,
     "metadata": {},
     "output_type": "execute_result"
    }
   ],
   "source": [
    "s[3,2,1].skew_by(s[2])"
   ]
  },
  {
   "cell_type": "markdown",
   "metadata": {
    "deletable": true,
    "editable": true
   },
   "source": [
    "Thus we get the same result as above."
   ]
  },
  {
   "cell_type": "code",
   "execution_count": null,
   "metadata": {
    "collapsed": false,
    "deletable": true,
    "editable": true
   },
   "outputs": [
    {
     "data": {
      "text/plain": [
       "s # s321 + s1 # s221 + s1 # s311 + s1 # s32 + s11 # s211 + s11 # s22 + s11 # s31 + s111 # s21 + s2 # s211 + s2 # s22 + s2 # s31 + s21 # s111 + 2*s21 # s21 + s21 # s3 + s211 # s11 + s211 # s2 + s22 # s11 + s22 # s2 + s221 # s1 + s3 # s21 + s31 # s11 + s31 # s2 + s311 # s1 + s32 # s1 + s321 # s"
      ]
     },
     "execution_count": 1,
     "metadata": {},
     "output_type": "execute_result"
    }
   ],
   "source": [
    "add(tensor([s[3,2,1].skew_by(s(mu)),s(mu)]) for k in range(7) for mu in Partitions(k))"
   ]
  },
  {
   "cell_type": "markdown",
   "metadata": {
    "deletable": true,
    "editable": true
   },
   "source": [
    "In particular, we get\n",
    "\n",
    "$$\\Delta(h_n) = \\sum_{k+j=n} h_k\\otimes h_j.$$"
   ]
  },
  {
   "cell_type": "code",
   "execution_count": null,
   "metadata": {
    "collapsed": false,
    "deletable": true,
    "editable": true
   },
   "outputs": [
    {
     "data": {
      "text/plain": [
       "h # h4 + h1 # h3 + h2 # h2 + h3 # h1 + h4 # h"
      ]
     },
     "execution_count": 1,
     "metadata": {},
     "output_type": "execute_result"
    }
   ],
   "source": [
    "h[4].coproduct()"
   ]
  },
  {
   "cell_type": "markdown",
   "metadata": {
    "deletable": true,
    "editable": true
   },
   "source": [
    "## Cauchy kernel formula\n",
    "\n",
    "The Cauchy kernel is the expression\n",
    "\n",
    "$$\\sum_{n\\geq 0} h_n(\\mathbf{x}\\mathbf{y})=\\prod_{i,j}\\frac{1}{1-x_iy_j}$$\n",
    "\n",
    "written here using plethystic notation. Its degree $n$ homogeneous component plays a crucial role in the description of \"dual bases\" with respect to the scalar product. We have\n",
    "\n",
    "$$h_n(\\mathbf{x}\\mathbf{y})=\\sum_{\\mu\\vdash n} F_\\mu\\otimes G_\\mu\n",
    " \\qquad {\\rm iff}\\qquad\n",
    " \\langle F_\\mu,G_\\lambda\\rangle=\\delta_{\\mu\\lambda}, \\qquad\n",
    " (\\delta_{\\mu \\lambda}:\\ \\hbox{Kronecker \"delta\"})`$$\n",
    "\n",
    "where one \"thinks\" $\\mathbf{x}=s_1\\otimes \\mathbb{1}$ and $\\mathbf{y}= \\mathbb{1}\\otimes s_1$. One says that $\\{F_\\mu\\}_\\mu$ and $\\{G_\\lambda\\}_\\lambda$ are **dual bases**. Schur functions are self dual, the dual of the $h_{\\mu}$ are the $m_\\mu$, that of the $p_\\mu$ are the $p_{\\mu}/z_{\\mu}$. The \"forgotten\" symmetric function $f_{\\mu}$ appear as the dual of the $e_{\\mu}$."
   ]
  },
  {
   "cell_type": "code",
   "execution_count": null,
   "metadata": {
    "collapsed": false,
    "deletable": true,
    "editable": true
   },
   "outputs": [
    {
     "data": {
      "text/plain": [
       "s1111 # s1111 + s211 # s211 + s22 # s22 + s31 # s31 + s4 # s4 "
      ]
     },
     "execution_count": 1,
     "metadata": {},
     "output_type": "execute_result"
    }
   ],
   "source": [
    "h4xy=add(tensor([s(mu),s(mu)]) for mu in Partitions(4)); h4xy"
   ]
  },
  {
   "cell_type": "code",
   "execution_count": null,
   "metadata": {
    "collapsed": false,
    "deletable": true,
    "editable": true
   },
   "outputs": [
    {
     "data": {
      "text/plain": [
       "h1111 # m1111 + h211 # m211 + h22 # m22 + h31 # m31 + h4 # m4"
      ]
     },
     "execution_count": 1,
     "metadata": {},
     "output_type": "execute_result"
    }
   ],
   "source": [
    "tensor([h,m])(h4xy)"
   ]
  },
  {
   "cell_type": "code",
   "execution_count": null,
   "metadata": {
    "collapsed": false,
    "deletable": true,
    "editable": true
   },
   "outputs": [
    {
     "data": {
      "text/plain": [
       "e1111 # f1111 + e211 # f211 + e22 # f22 + e31 # f31 + e4 # f4"
      ]
     },
     "execution_count": 1,
     "metadata": {},
     "output_type": "execute_result"
    }
   ],
   "source": [
    "f = Symqt.f()\n",
    "tensor([e,f])(h4xy)"
   ]
  },
  {
   "cell_type": "code",
   "execution_count": null,
   "metadata": {
    "collapsed": false,
    "deletable": true,
    "editable": true
   },
   "outputs": [
    {
     "data": {
      "text/plain": [
       "1/24*p1111 # p1111 + 1/4*p211 # p211 + 1/8*p22 # p22 + 1/3*p31 # p31 + 1/4*p4 # p4"
      ]
     },
     "execution_count": 1,
     "metadata": {},
     "output_type": "execute_result"
    }
   ],
   "source": [
    "tensor([p,p])(h4xy)"
   ]
  }
 ],
 "metadata": {
  "kernelspec": {
   "display_name": "SageMath 8.1.beta3",
   "language": "",
   "name": "sagemath"
  },
  "language_info": {
   "codemirror_mode": {
    "name": "ipython",
    "version": 2
   },
   "file_extension": ".py",
   "mimetype": "text/x-python",
   "name": "python",
   "nbconvert_exporter": "python",
   "pygments_lexer": "ipython2",
   "version": "2.7.13"
  }
 },
 "nbformat": 4,
 "nbformat_minor": 2
}
