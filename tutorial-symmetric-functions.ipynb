{
 "cells": [
  {
   "cell_type": "markdown",
   "metadata": {
    "deletable": true,
    "editable": true
   },
   "source": [
    "$$\n",
    "\\def\\CC{\\bf C}\n",
    "\\def\\QQ{\\bf Q}\n",
    "\\def\\RR{\\bf R}\n",
    "\\def\\ZZ{\\bf Z}\n",
    "\\def\\NN{\\bf N}\n",
    "$$\n",
    "# Symmetric Functions (polynomials) Tutorial\n",
    "\n",
    "**Caveat:** in this tutorial, the term symmetric \"functions\" will mostly stand for \"abstract\" symmetric polynomials, in which variables are not made explicit. Indeed for most practical calculations variables need not appear. Moreover, one may show that this does not cause any trouble in the calculations.\n",
    "\n",
    "$\\def\\QQ{\\mathbb{QQ}}$\n",
    "\n",
    "## Display customization\n",
    "\n",
    "To have our outputs printed in latex, we will use the following command which can be commented:"
   ]
  },
  {
   "cell_type": "code",
   "execution_count": 1,
   "metadata": {
    "collapsed": true,
    "deletable": true,
    "editable": true
   },
   "outputs": [],
   "source": [
    "%display latex           # not tested"
   ]
  },
  {
   "cell_type": "markdown",
   "metadata": {
    "deletable": true,
    "editable": true
   },
   "source": [
    "Once this is done, to get the usual output one may use `print()` :"
   ]
  },
  {
   "cell_type": "code",
   "execution_count": 2,
   "metadata": {
    "collapsed": false,
    "deletable": true,
    "editable": true
   },
   "outputs": [
    {
     "name": "stdout",
     "output_type": "stream",
     "text": [
      "2*x^5 + x^2\n"
     ]
    }
   ],
   "source": [
    "print(2*x^5+x^2)"
   ]
  },
  {
   "cell_type": "markdown",
   "metadata": {
    "deletable": true,
    "editable": true
   },
   "source": [
    "If you don't want to latex outputs in all your worksheet but only for specific outputs, you can also use the command `show()` :"
   ]
  },
  {
   "cell_type": "code",
   "execution_count": 3,
   "metadata": {
    "collapsed": false,
    "deletable": true,
    "editable": true
   },
   "outputs": [
    {
     "name": "stdout",
     "output_type": "stream",
     "text": [
      "2*x^5 + x^2\n"
     ]
    }
   ],
   "source": [
    "print(2*x^5+x^2)"
   ]
  },
  {
   "cell_type": "code",
   "execution_count": 4,
   "metadata": {
    "collapsed": false,
    "deletable": true,
    "editable": true
   },
   "outputs": [
    {
     "data": {
      "text/html": [
       "<html><script type=\"math/tex; mode=display\">\\newcommand{\\Bold}[1]{\\mathbf{#1}}2 \\, x^{5} + x^{2}</script></html>"
      ],
      "text/plain": [
       "2*x^5 + x^2"
      ]
     },
     "metadata": {},
     "output_type": "display_data"
    }
   ],
   "source": [
    "show(2*x^5+x^2)"
   ]
  },
  {
   "cell_type": "markdown",
   "metadata": {
    "deletable": true,
    "editable": true
   },
   "source": [
    "## For the impatient\n",
    "\n",
    "Before going into details with symmetric functions in sage, here is a quick example of what we can do in sage.\n",
    "\n",
    "We recall that the **complete homogeneous** symmetric functions $h_d$ are defined in terms of the **power sum** symmetric functions $p_{\\mu}$ by the formula :\n",
    "\n",
    "$$h_d = \\sum \\limits_{\\mu \\vdash d} \\dfrac{1}{z_{\\mu}} p_{\\mu}$$\n",
    "\n",
    "where $z_\\mu$ is the number of \"automorphisms\" of a permutation having cycle structure $\\mu$.\n",
    "\n",
    "Here is how to obtain both sides of this equality in the ring of symmetric function \"$\\mathrm{Sym}$\" over $\\mathbb{Q}$ :"
   ]
  },
  {
   "cell_type": "code",
   "execution_count": 5,
   "metadata": {
    "collapsed": false,
    "deletable": true,
    "editable": true
   },
   "outputs": [
    {
     "name": "stdout",
     "output_type": "stream",
     "text": [
      "Defining e as shorthand for Symmetric Functions over Rational Field in the elementary basis\n",
      "Defining f as shorthand for Symmetric Functions over Rational Field in the forgotten basis\n",
      "Defining h as shorthand for Symmetric Functions over Rational Field in the homogeneous basis\n",
      "Defining m as shorthand for Symmetric Functions over Rational Field in the monomial basis\n",
      "Defining p as shorthand for Symmetric Functions over Rational Field in the powersum basis\n",
      "Defining s as shorthand for Symmetric Functions over Rational Field in the Schur basis\n"
     ]
    }
   ],
   "source": [
    "Sym = SymmetricFunctions(QQ)\n",
    "Sym.inject_shorthands()"
   ]
  },
  {
   "cell_type": "code",
   "execution_count": 6,
   "metadata": {
    "collapsed": false,
    "deletable": true,
    "editable": true
   },
   "outputs": [
    {
     "data": {
      "text/html": [
       "<html><script type=\"math/tex; mode=display\">\\newcommand{\\Bold}[1]{\\mathbf{#1}}\\frac{1}{720}p_{1,1,1,1,1,1} + \\frac{1}{48}p_{2,1,1,1,1} + \\frac{1}{16}p_{2,2,1,1} + \\frac{1}{48}p_{2,2,2} + \\frac{1}{18}p_{3,1,1,1} + \\frac{1}{6}p_{3,2,1} + \\frac{1}{18}p_{3,3} + \\frac{1}{8}p_{4,1,1} + \\frac{1}{8}p_{4,2} + \\frac{1}{5}p_{5,1} + \\frac{1}{6}p_{6}</script></html>"
      ],
      "text/plain": [
       "1/720*p[1, 1, 1, 1, 1, 1] + 1/48*p[2, 1, 1, 1, 1] + 1/16*p[2, 2, 1, 1] + 1/48*p[2, 2, 2] + 1/18*p[3, 1, 1, 1] + 1/6*p[3, 2, 1] + 1/18*p[3, 3] + 1/8*p[4, 1, 1] + 1/8*p[4, 2] + 1/5*p[5, 1] + 1/6*p[6]"
      ]
     },
     "execution_count": 6,
     "metadata": {},
     "output_type": "execute_result"
    }
   ],
   "source": [
    "p(h[6])"
   ]
  },
  {
   "cell_type": "code",
   "execution_count": 7,
   "metadata": {
    "collapsed": false,
    "deletable": true,
    "editable": true
   },
   "outputs": [
    {
     "data": {
      "text/html": [
       "<html><script type=\"math/tex; mode=display\">\\newcommand{\\Bold}[1]{\\mathbf{#1}}\\frac{1}{720}p_{1,1,1,1,1,1} + \\frac{1}{48}p_{2,1,1,1,1} + \\frac{1}{16}p_{2,2,1,1} + \\frac{1}{48}p_{2,2,2} + \\frac{1}{18}p_{3,1,1,1} + \\frac{1}{6}p_{3,2,1} + \\frac{1}{18}p_{3,3} + \\frac{1}{8}p_{4,1,1} + \\frac{1}{8}p_{4,2} + \\frac{1}{5}p_{5,1} + \\frac{1}{6}p_{6}</script></html>"
      ],
      "text/plain": [
       "1/720*p[1, 1, 1, 1, 1, 1] + 1/48*p[2, 1, 1, 1, 1] + 1/16*p[2, 2, 1, 1] + 1/48*p[2, 2, 2] + 1/18*p[3, 1, 1, 1] + 1/6*p[3, 2, 1] + 1/18*p[3, 3] + 1/8*p[4, 1, 1] + 1/8*p[4, 2] + 1/5*p[5, 1] + 1/6*p[6]"
      ]
     },
     "execution_count": 7,
     "metadata": {},
     "output_type": "execute_result"
    }
   ],
   "source": [
    "sum((1/Partition(i).aut())*p(i) for i in Partitions(6).list())"
   ]
  },
  {
   "cell_type": "markdown",
   "metadata": {
    "deletable": true,
    "editable": true
   },
   "source": [
    "## Classical bases of symmetric functions\n",
    "\n",
    "The algebra of symmetric functions, with coefficients in a given ring (here the ring $\\QQ$ of rational numbers), is declared as follows:"
   ]
  },
  {
   "cell_type": "code",
   "execution_count": 8,
   "metadata": {
    "collapsed": true,
    "deletable": true,
    "editable": true
   },
   "outputs": [],
   "source": [
    "Sym = SymmetricFunctions(QQ)"
   ]
  },
  {
   "cell_type": "markdown",
   "metadata": {
    "deletable": true,
    "editable": true
   },
   "source": [
    "Another often used coefficient ring is the fraction field $\\mathbb{Q}(q,t)$ of rational expressions in $q$, $t$ over $\\mathbb{Q}[q,t]$. Thus, declaring first $\\mathbb{Q}(q,t)$ (and \"injecting\" variables $q$ and $t$ to make them available), one may introduce the ring of symmetric functions over $\\mathbb{Q}[q,t]$ as follows. The `Symqt.inject_shorthands()` command makes the \"usual\" short names (as in Macdonald book) available (with Sage &lt; 8.0, it will display a warning message you can ignore.):"
   ]
  },
  {
   "cell_type": "code",
   "execution_count": 9,
   "metadata": {
    "collapsed": false,
    "deletable": true,
    "editable": true
   },
   "outputs": [
    {
     "name": "stdout",
     "output_type": "stream",
     "text": [
      "Defining q, t\n"
     ]
    }
   ],
   "source": [
    "F = QQ['q','t'].fraction_field()\n",
    "F.inject_variables()"
   ]
  },
  {
   "cell_type": "code",
   "execution_count": 10,
   "metadata": {
    "collapsed": true,
    "deletable": true,
    "editable": true
   },
   "outputs": [],
   "source": [
    "Symqt = SymmetricFunctions(F)"
   ]
  },
  {
   "cell_type": "markdown",
   "metadata": {
    "deletable": true,
    "editable": true
   },
   "source": [
    "We can also declare each basis one by one. They can all be called by their full name (e.g. `monomial()` for the monomial basis) or by the letter we usually use for them (e.g. `m()` for the monomial basis).\n",
    "\n",
    "Usual classical bases are available:\n",
    "\n",
    "-   The **power sum** symmetric functions $p(\\mu)$ : `power()` or `p()`\n",
    "-   The **(complete)homogeneous** symmetric functions $h(\\mu)$ : `homogeneous()` or `complete()` or `h()`\n",
    "-   The **elementary** symmetric functions $e(\\mu)$ : `elementary()` or `e()`\n",
    "-   The **Schur** functions $s(\\mu)$ : schur() or s()\n",
    "-   The **forgotten** symmetric functions $f(\\mu)$ : `forgotten()` or `f()` *(This basis is not in the shorthands with Sage &lt; 8.0.)*"
   ]
  },
  {
   "cell_type": "code",
   "execution_count": 11,
   "metadata": {
    "collapsed": false,
    "deletable": true,
    "editable": true
   },
   "outputs": [
    {
     "data": {
      "text/html": [
       "<html><script type=\"math/tex; mode=display\">\\newcommand{\\Bold}[1]{\\mathbf{#1}}\\verb|Symmetric|\\phantom{\\verb!x!}\\verb|Functions|\\phantom{\\verb!x!}\\verb|over|\\phantom{\\verb!x!}\\verb|Rational|\\phantom{\\verb!x!}\\verb|Field|\\phantom{\\verb!x!}\\verb|in|\\phantom{\\verb!x!}\\verb|the|\\phantom{\\verb!x!}\\verb|monomial|\\phantom{\\verb!x!}\\verb|basis|</script></html>"
      ],
      "text/plain": [
       "Symmetric Functions over Rational Field in the monomial basis"
      ]
     },
     "execution_count": 11,
     "metadata": {},
     "output_type": "execute_result"
    }
   ],
   "source": [
    "Sym.monomial()"
   ]
  },
  {
   "cell_type": "code",
   "execution_count": 12,
   "metadata": {
    "collapsed": false,
    "deletable": true,
    "editable": true
   },
   "outputs": [
    {
     "data": {
      "text/html": [
       "<html><script type=\"math/tex; mode=display\">\\newcommand{\\Bold}[1]{\\mathbf{#1}}\\verb|Symmetric|\\phantom{\\verb!x!}\\verb|Functions|\\phantom{\\verb!x!}\\verb|over|\\phantom{\\verb!x!}\\verb|Rational|\\phantom{\\verb!x!}\\verb|Field|\\phantom{\\verb!x!}\\verb|in|\\phantom{\\verb!x!}\\verb|the|\\phantom{\\verb!x!}\\verb|monomial|\\phantom{\\verb!x!}\\verb|basis|</script></html>"
      ],
      "text/plain": [
       "Symmetric Functions over Rational Field in the monomial basis"
      ]
     },
     "execution_count": 12,
     "metadata": {},
     "output_type": "execute_result"
    }
   ],
   "source": [
    "m = Sym.m(); m"
   ]
  },
  {
   "cell_type": "markdown",
   "metadata": {
    "deletable": true,
    "editable": true
   },
   "source": [
    "Now that we have acces to all the bases we need, we can start to manipulate them. Symmetric functions are indexed by partitions $\\mu$, with integers considered as partitions having size one (don't forget the brackets!):"
   ]
  },
  {
   "cell_type": "code",
   "execution_count": 13,
   "metadata": {
    "collapsed": false,
    "deletable": true,
    "editable": true
   },
   "outputs": [
    {
     "data": {
      "text/html": [
       "<html><script type=\"math/tex; mode=display\">\\newcommand{\\Bold}[1]{\\mathbf{#1}}p_{2,1}</script></html>"
      ],
      "text/plain": [
       "p[2, 1]"
      ]
     },
     "execution_count": 13,
     "metadata": {},
     "output_type": "execute_result"
    }
   ],
   "source": [
    "p[2,1]"
   ]
  },
  {
   "cell_type": "markdown",
   "metadata": {
    "deletable": true,
    "editable": true
   },
   "source": [
    "This is in fact a shorthand for:"
   ]
  },
  {
   "cell_type": "code",
   "execution_count": 14,
   "metadata": {
    "collapsed": false,
    "deletable": true,
    "editable": true
   },
   "outputs": [
    {
     "data": {
      "text/html": [
       "<html><script type=\"math/tex; mode=display\">\\newcommand{\\Bold}[1]{\\mathbf{#1}}p_{2,1}</script></html>"
      ],
      "text/plain": [
       "p[2, 1]"
      ]
     },
     "execution_count": 14,
     "metadata": {},
     "output_type": "execute_result"
    }
   ],
   "source": [
    "p.basis()[Partition([2,1])]"
   ]
  },
  {
   "cell_type": "markdown",
   "metadata": {
    "deletable": true,
    "editable": true
   },
   "source": [
    "In the special case of the empty partition, due to a limitation in Python syntax, one cannot use:"
   ]
  },
  {
   "cell_type": "code",
   "execution_count": 15,
   "metadata": {
    "collapsed": false,
    "deletable": true,
    "editable": true
   },
   "outputs": [
    {
     "ename": "SyntaxError",
     "evalue": "invalid syntax (<ipython-input-15-6716b4a4ec80>, line 1)",
     "output_type": "error",
     "traceback": [
      "\u001b[1;36m  File \u001b[1;32m\"<ipython-input-15-6716b4a4ec80>\"\u001b[1;36m, line \u001b[1;32m1\u001b[0m\n\u001b[1;33m    p[]       # todo: not implemented\u001b[0m\n\u001b[1;37m      ^\u001b[0m\n\u001b[1;31mSyntaxError\u001b[0m\u001b[1;31m:\u001b[0m invalid syntax\n"
     ]
    }
   ],
   "source": [
    "p[]       # todo: not implemented"
   ]
  },
  {
   "cell_type": "markdown",
   "metadata": {
    "deletable": true,
    "editable": true
   },
   "source": [
    "Please use instead:"
   ]
  },
  {
   "cell_type": "code",
   "execution_count": 16,
   "metadata": {
    "collapsed": false,
    "deletable": true,
    "editable": true
   },
   "outputs": [
    {
     "data": {
      "text/html": [
       "<html><script type=\"math/tex; mode=display\">\\newcommand{\\Bold}[1]{\\mathbf{#1}}p_{}</script></html>"
      ],
      "text/plain": [
       "p[]"
      ]
     },
     "execution_count": 16,
     "metadata": {},
     "output_type": "execute_result"
    }
   ],
   "source": [
    "p[[]]"
   ]
  },
  {
   "cell_type": "markdown",
   "metadata": {
    "deletable": true,
    "editable": true
   },
   "source": [
    "But the following doesn't:"
   ]
  },
  {
   "cell_type": "code",
   "execution_count": 17,
   "metadata": {
    "collapsed": false,
    "deletable": true,
    "editable": true
   },
   "outputs": [
    {
     "data": {
      "text/html": [
       "<html><script type=\"math/tex; mode=display\">\\newcommand{\\Bold}[1]{\\mathbf{#1}}2m_{}</script></html>"
      ],
      "text/plain": [
       "2*m[]"
      ]
     },
     "execution_count": 17,
     "metadata": {},
     "output_type": "execute_result"
    }
   ],
   "source": [
    "m(2)"
   ]
  },
  {
   "cell_type": "markdown",
   "metadata": {
    "deletable": true,
    "editable": true
   },
   "source": [
    "For a more compact output, one may optionally use the following customization (which could be integrated in Sage pending popular request). Note that parts of size larger than 9 are followed by a \"dot\":"
   ]
  },
  {
   "cell_type": "code",
   "execution_count": 18,
   "metadata": {
    "collapsed": true,
    "deletable": true,
    "editable": true
   },
   "outputs": [],
   "source": [
    "def mystr(i):\n",
    "    s = str(i)\n",
    "    if i >= 10:\n",
    "        s = s+\".\"\n",
    "    return s\n",
    "def compact(mu):\n",
    "    return (''.join(mystr(i) for i in mu))\n",
    "Partition._latex_= compact\n",
    "Partition._repr_= compact"
   ]
  },
  {
   "cell_type": "code",
   "execution_count": 19,
   "metadata": {
    "collapsed": true,
    "deletable": true,
    "editable": true
   },
   "outputs": [],
   "source": [
    "s._latex_term = lambda mu: \"1\" if mu==[] else \"s_{%s}\"%(latex(mu))\n",
    "p._latex_term = lambda mu: \"1\" if mu==[] else \"p_{%s}\"%(latex(mu))\n",
    "h._latex_term = lambda mu: \"1\" if mu==[] else \"h_{%s}\"%(latex(mu))\n",
    "e._latex_term = lambda mu: \"1\" if mu==[] else \"e_{%s}\"%(latex(mu))\n",
    "m._latex_term = lambda mu: \"1\" if mu==[] else \"m_{%s}\"%(latex(mu))"
   ]
  },
  {
   "cell_type": "code",
   "execution_count": 20,
   "metadata": {
    "collapsed": false,
    "deletable": true,
    "editable": true
   },
   "outputs": [
    {
     "data": {
      "text/html": [
       "<html><script type=\"math/tex; mode=display\">\\newcommand{\\Bold}[1]{\\mathbf{#1}}s_{101.14.13.11}</script></html>"
      ],
      "text/plain": [
       "s101.14.13.11"
      ]
     },
     "execution_count": 20,
     "metadata": {},
     "output_type": "execute_result"
    }
   ],
   "source": [
    "s[101,14,13,1,1]"
   ]
  },
  {
   "cell_type": "code",
   "execution_count": 21,
   "metadata": {
    "collapsed": false,
    "deletable": true,
    "editable": true
   },
   "outputs": [
    {
     "data": {
      "text/html": [
       "<html><script type=\"math/tex; mode=display\">\\newcommand{\\Bold}[1]{\\mathbf{#1}}s_{101.14.13.11.}</script></html>"
      ],
      "text/plain": [
       "s101.14.13.11."
      ]
     },
     "execution_count": 21,
     "metadata": {},
     "output_type": "execute_result"
    }
   ],
   "source": [
    "s[101,14,13,11]"
   ]
  },
  {
   "cell_type": "markdown",
   "metadata": {
    "deletable": true,
    "editable": true
   },
   "source": [
    "Note that for the multiplicative bases (ie: $e$, $h$ and $p$), products are replaced by the corresponding partition indexed expression:"
   ]
  },
  {
   "cell_type": "code",
   "execution_count": 22,
   "metadata": {
    "collapsed": false,
    "deletable": true,
    "editable": true
   },
   "outputs": [
    {
     "data": {
      "text/html": [
       "<html><script type=\"math/tex; mode=display\">\\newcommand{\\Bold}[1]{\\mathbf{#1}}p_{52211}</script></html>"
      ],
      "text/plain": [
       "p52211"
      ]
     },
     "execution_count": 22,
     "metadata": {},
     "output_type": "execute_result"
    }
   ],
   "source": [
    "p([2,1,1])*p([5,2])"
   ]
  },
  {
   "cell_type": "markdown",
   "metadata": {
    "deletable": true,
    "editable": true
   },
   "source": [
    "For the non-multiplicative bases, such as the Schur functions, multiplication are expanded as linear combinations in the same (linear) basis:"
   ]
  },
  {
   "cell_type": "code",
   "execution_count": 23,
   "metadata": {
    "collapsed": false,
    "deletable": true,
    "editable": true
   },
   "outputs": [
    {
     "data": {
      "text/html": [
       "<html><script type=\"math/tex; mode=display\">\\newcommand{\\Bold}[1]{\\mathbf{#1}}s_{55111} + s_{64111} + 2s_{6511} + s_{661} + s_{73111} + 2s_{7411} + s_{751} + s_{82111} + 2s_{8311} + s_{841} + s_{91111} + 2s_{9211} + s_{931} + 2s_{10.111} + s_{10.21} + s_{11.11}</script></html>"
      ],
      "text/plain": [
       "s55111 + s64111 + 2*s6511 + s661 + s73111 + 2*s7411 + s751 + s82111 + 2*s8311 + s841 + s91111 + 2*s9211 + s931 + 2*s10.111 + s10.21 + s11.11"
      ]
     },
     "execution_count": 23,
     "metadata": {},
     "output_type": "execute_result"
    }
   ],
   "source": [
    "s([5])^2*s([1,1,1])"
   ]
  },
  {
   "cell_type": "code",
   "execution_count": 24,
   "metadata": {
    "collapsed": false,
    "deletable": true,
    "editable": true
   },
   "outputs": [
    {
     "data": {
      "text/html": [
       "<html><script type=\"math/tex; mode=display\">\\newcommand{\\Bold}[1]{\\mathbf{#1}}m_{3221} + 2m_{332} + m_{521} + m_{53}</script></html>"
      ],
      "text/plain": [
       "m3221 + 2*m332 + m521 + m53"
      ]
     },
     "execution_count": 24,
     "metadata": {},
     "output_type": "execute_result"
    }
   ],
   "source": [
    "m([3,1])*m([2,2])"
   ]
  },
  {
   "cell_type": "markdown",
   "metadata": {
    "deletable": true,
    "editable": true
   },
   "source": [
    "These calculations are relatively fast as illustrated in the following, showing only the length of the output rather than printing it out in all its glory:"
   ]
  },
  {
   "cell_type": "code",
   "execution_count": 25,
   "metadata": {
    "collapsed": false,
    "deletable": true,
    "editable": true
   },
   "outputs": [
    {
     "data": {
      "text/html": [
       "<html><script type=\"math/tex; mode=display\">\\newcommand{\\Bold}[1]{\\mathbf{#1}}2986</script></html>"
      ],
      "text/plain": [
       "2986"
      ]
     },
     "execution_count": 25,
     "metadata": {},
     "output_type": "execute_result"
    }
   ],
   "source": [
    "len(s[10,5,5,3]*s[12,5,2])"
   ]
  },
  {
   "cell_type": "markdown",
   "metadata": {
    "deletable": true,
    "editable": true
   },
   "source": [
    "When we mix different bases, the result will be expressed in one of the bases, usually the first basis encountered in the expression:"
   ]
  },
  {
   "cell_type": "code",
   "execution_count": 26,
   "metadata": {
    "collapsed": false,
    "deletable": true,
    "editable": true
   },
   "outputs": [
    {
     "data": {
      "text/html": [
       "<html><script type=\"math/tex; mode=display\">\\newcommand{\\Bold}[1]{\\mathbf{#1}}s_{1111} - s_{211} + s_{2111} + 2s_{22} + s_{221} - s_{31} + s_{311} + s_{32} + s_{4}</script></html>"
      ],
      "text/plain": [
       "s1111 - s211 + s2111 + 2*s22 + s221 - s31 + s311 + s32 + s4"
      ]
     },
     "execution_count": 26,
     "metadata": {},
     "output_type": "execute_result"
    }
   ],
   "source": [
    "s([2,1])*m([1,1])+p([2,2])"
   ]
  },
  {
   "cell_type": "code",
   "execution_count": 27,
   "metadata": {
    "collapsed": false,
    "deletable": true,
    "editable": true
   },
   "outputs": [
    {
     "data": {
      "text/html": [
       "<html><script type=\"math/tex; mode=display\">\\newcommand{\\Bold}[1]{\\mathbf{#1}}20m_{11111} + 9m_{2111} + 2m_{22} + 4m_{221} + 2m_{311} + m_{32} + m_{4}</script></html>"
      ],
      "text/plain": [
       "20*m11111 + 9*m2111 + 2*m22 + 4*m221 + 2*m311 + m32 + m4"
      ]
     },
     "execution_count": 27,
     "metadata": {},
     "output_type": "execute_result"
    }
   ],
   "source": [
    "m([1,1])*s([2,1])+p([2,2])"
   ]
  },
  {
   "cell_type": "code",
   "execution_count": 28,
   "metadata": {
    "collapsed": false,
    "deletable": true,
    "editable": true
   },
   "outputs": [
    {
     "data": {
      "text/html": [
       "<html><script type=\"math/tex; mode=display\">\\newcommand{\\Bold}[1]{\\mathbf{#1}}\\frac{1}{6}p_{11111} - \\frac{1}{6}p_{2111} + p_{22} - \\frac{1}{6}p_{311} + \\frac{1}{6}p_{32}</script></html>"
      ],
      "text/plain": [
       "1/6*p11111 - 1/6*p2111 + p22 - 1/6*p311 + 1/6*p32"
      ]
     },
     "execution_count": 28,
     "metadata": {},
     "output_type": "execute_result"
    }
   ],
   "source": [
    "p([2,2])+m([1,1])*s([2,1])"
   ]
  },
  {
   "cell_type": "markdown",
   "metadata": {
    "deletable": true,
    "editable": true
   },
   "source": [
    "### Expanding a symmetric function into a polynomial on a given number of variables\n",
    "\n",
    "Up to this point, we have worked with \"abstract\" symmetric functions, i.e.: with no variables. To expand symmetric functions in a given number of variables $x_0, x_1, \\dots, x_{n-1}$, we use the following tools.\n",
    "\n",
    "By default, variables are $x_0, x_1, \\dots,x_{n-1}$, but one may use any other set (=alphabet):"
   ]
  },
  {
   "cell_type": "code",
   "execution_count": 29,
   "metadata": {
    "collapsed": false,
    "deletable": true,
    "editable": true
   },
   "outputs": [
    {
     "data": {
      "text/html": [
       "<html><script type=\"math/tex; mode=display\">\\newcommand{\\Bold}[1]{\\mathbf{#1}}x^{2} y + x y^{2} + x^{2} z + 2 x y z + y^{2} z + x z^{2} + y z^{2}</script></html>"
      ],
      "text/plain": [
       "x^2*y + x*y^2 + x^2*z + 2*x*y*z + y^2*z + x*z^2 + y*z^2"
      ]
     },
     "execution_count": 29,
     "metadata": {},
     "output_type": "execute_result"
    }
   ],
   "source": [
    "g = s[2,1]\n",
    "g.expand(3, alphabet =['x','y','z'])"
   ]
  },
  {
   "cell_type": "code",
   "execution_count": 30,
   "metadata": {
    "collapsed": false,
    "deletable": true,
    "editable": true
   },
   "outputs": [
    {
     "data": {
      "text/html": [
       "<html><script type=\"math/tex; mode=display\">\\newcommand{\\Bold}[1]{\\mathbf{#1}}x_{0}^{2} x_{1} + x_{0} x_{1}^{2} + x_{0}^{2} x_{2} + 2 x_{0} x_{1} x_{2} + x_{1}^{2} x_{2} + x_{0} x_{2}^{2} + x_{1} x_{2}^{2}</script></html>"
      ],
      "text/plain": [
       "x0^2*x1 + x0*x1^2 + x0^2*x2 + 2*x0*x1*x2 + x1^2*x2 + x0*x2^2 + x1*x2^2"
      ]
     },
     "execution_count": 30,
     "metadata": {},
     "output_type": "execute_result"
    }
   ],
   "source": [
    "n = 3\n",
    "g.expand(n)"
   ]
  },
  {
   "cell_type": "markdown",
   "metadata": {
    "deletable": true,
    "editable": true
   },
   "source": [
    "To handle lots variables, one may proceed as follows:"
   ]
  },
  {
   "cell_type": "code",
   "execution_count": 31,
   "metadata": {
    "collapsed": false,
    "deletable": true,
    "editable": true
   },
   "outputs": [
    {
     "data": {
      "text/html": [
       "<html><script type=\"math/tex; mode=display\">\\newcommand{\\Bold}[1]{\\mathbf{#1}}y_{0}^{2} + y_{1}^{2} + y_{2}^{2} + y_{3}^{2} + y_{4}^{2} + y_{5}^{2} + y_{6}^{2} + y_{7}^{2} + y_{8}^{2} + y_{9}^{2} + y_{10}^{2} + y_{11}^{2} + y_{12}^{2} + y_{13}^{2} + y_{14}^{2} + y_{15}^{2} + y_{16}^{2} + y_{17}^{2} + y_{18}^{2} + y_{19}^{2} + y_{20}^{2} + y_{21}^{2} + y_{22}^{2} + y_{23}^{2} + y_{24}^{2} + y_{25}^{2}</script></html>"
      ],
      "text/plain": [
       "y0^2 + y1^2 + y2^2 + y3^2 + y4^2 + y5^2 + y6^2 + y7^2 + y8^2 + y9^2 + y10^2 + y11^2 + y12^2 + y13^2 + y14^2 + y15^2 + y16^2 + y17^2 + y18^2 + y19^2 + y20^2 + y21^2 + y22^2 + y23^2 + y24^2 + y25^2"
      ]
     },
     "execution_count": 31,
     "metadata": {},
     "output_type": "execute_result"
    }
   ],
   "source": [
    "g = p[2]\n",
    "g.expand(26,alphabet=['y'+str(i) for i in range(26)])"
   ]
  },
  {
   "cell_type": "markdown",
   "metadata": {
    "deletable": true,
    "editable": true
   },
   "source": [
    "**Exercise**\n",
    "\n",
    "Let $e_k(n) = e_k(x_0,x_1, \\dots , x_{n-1})$ and similarly for the homogeneous functions. Then we have the following recursion relations for $n \\geq 1$ :\n",
    "\n",
    "$$e_k(n) = e_k(n-1) + x_ne_{k-1}(n-1), \\\\\n",
    "h_k(n) = h_k(n-1) + x_nh_{k-1}(n), \\\\\n",
    "e_k(0)=h_k(0) = \\delta_{k,0},$$\n",
    "\n",
    "where $\\delta_{k,0}$ is the Kronecker delta.\n",
    "\n",
    "Check these relations for $k=3$ and $2 \\leq n \\leq 7$.\n",
    "\n",
    "**Solution**"
   ]
  },
  {
   "cell_type": "code",
   "execution_count": 32,
   "metadata": {
    "collapsed": false,
    "deletable": true,
    "editable": true
   },
   "outputs": [
    {
     "name": "stdout",
     "output_type": "stream",
     "text": [
      "Defining x0, x1, x2, x3, x4, x5, x6\n"
     ]
    }
   ],
   "source": [
    "k=3\n",
    "R = PolynomialRing(QQ,'x',7)\n",
    "R.inject_variables()"
   ]
  },
  {
   "cell_type": "code",
   "execution_count": 33,
   "metadata": {
    "collapsed": false,
    "deletable": true,
    "editable": true
   },
   "outputs": [
    {
     "name": "stdout",
     "output_type": "stream",
     "text": [
      "('n =', 2, 'ok for e')\n",
      "('n =', 2, 'ok for h')\n",
      "('n =', 3, 'ok for e')\n",
      "('n =', 3, 'ok for h')\n",
      "('n =', 4, 'ok for e')\n",
      "('n =', 4, 'ok for h')\n",
      "('n =', 5, 'ok for e')\n",
      "('n =', 5, 'ok for h')\n",
      "('n =', 6, 'ok for e')\n",
      "('n =', 6, 'ok for h')\n",
      "('n =', 7, 'ok for e')\n",
      "('n =', 7, 'ok for h')\n"
     ]
    }
   ],
   "source": [
    "l = list(R.gens())\n",
    "for xn, n in zip(l[1:], range(2,8)) :\n",
    "    f1 = e([k]).expand(n)\n",
    "    g1 = h([k]).expand(n)\n",
    "    f2 = e([k]).expand(n-1,l[:n-1])+xn*(e([k-1]).expand(n-1,l[:n-1]))\n",
    "    g2 = h([k]).expand(n-1,l[:n-1])+xn*(h([k-1]).expand(n,l[:n]))\n",
    "    if f1 == f2:\n",
    "        print('n =', n,'ok for e')\n",
    "    else :\n",
    "        print('n =', n,'no for e')\n",
    "    if g1 == g2 :\n",
    "        print('n =', n,'ok for h')\n",
    "    else :\n",
    "        print('n =', n,'no for h')"
   ]
  },
  {
   "cell_type": "markdown",
   "metadata": {
    "deletable": true,
    "editable": true
   },
   "source": [
    "### Convert a symmetric polynomial into a symmetric function\n",
    "\n",
    "Conversely, a \"concrete\" symmetric polynomial, i.e.: explicitly expressed in the variables, maybe written as a formal symmetric function in any chosen basis."
   ]
  },
  {
   "cell_type": "code",
   "execution_count": 34,
   "metadata": {
    "collapsed": false,
    "deletable": true,
    "editable": true
   },
   "outputs": [
    {
     "name": "stdout",
     "output_type": "stream",
     "text": [
      "x0^2*x1 + x0*x1^2 + x0^2 + x1^2\n"
     ]
    }
   ],
   "source": [
    "pol1 = (p([2])+e([2,1])).expand(2)\n",
    "print(pol1)"
   ]
  },
  {
   "cell_type": "code",
   "execution_count": 35,
   "metadata": {
    "collapsed": false,
    "deletable": true,
    "editable": true
   },
   "outputs": [
    {
     "data": {
      "text/html": [
       "<html><script type=\"math/tex; mode=display\">\\newcommand{\\Bold}[1]{\\mathbf{#1}}m_{2} + m_{21}</script></html>"
      ],
      "text/plain": [
       "m2 + m21"
      ]
     },
     "execution_count": 35,
     "metadata": {},
     "output_type": "execute_result"
    }
   ],
   "source": [
    "m.from_polynomial(pol1)"
   ]
  },
  {
   "cell_type": "markdown",
   "metadata": {
    "deletable": true,
    "editable": true
   },
   "source": [
    "A more interesting use of this function is to convert a symmetric polynomial, written with a finite number of variables, into a symmetric function.\n",
    "\n",
    "The `pol` input of the function `from_polynomial(pol)` is assumed to lie in a polynomial ring over the same base field as that used for the symmetric functions, which thus has to be delared beforehand.\n",
    "\n",
    "Here, we will work with two variables ($x_0$ and $x_1$). We declare our polynomial and convert it into a symmetric function, for example in the monomial basis."
   ]
  },
  {
   "cell_type": "code",
   "execution_count": 36,
   "metadata": {
    "collapsed": false,
    "deletable": true,
    "editable": true
   },
   "outputs": [
    {
     "name": "stdout",
     "output_type": "stream",
     "text": [
      "Defining y0, y1, y2\n"
     ]
    }
   ],
   "source": [
    "n = 3\n",
    "R = PolynomialRing(QQ,'y',n)\n",
    "R.inject_variables()"
   ]
  },
  {
   "cell_type": "markdown",
   "metadata": {
    "deletable": true,
    "editable": true
   },
   "source": [
    "Here, we will work with three variables ($y_0, y_1$ and $y_2$). Finally, we can declare our polynomial and convert it into a symmetric function in the monomial basis for example."
   ]
  },
  {
   "cell_type": "code",
   "execution_count": 37,
   "metadata": {
    "collapsed": false,
    "deletable": true,
    "editable": true
   },
   "outputs": [
    {
     "data": {
      "text/html": [
       "<html><script type=\"math/tex; mode=display\">\\newcommand{\\Bold}[1]{\\mathbf{#1}}2m_{111} + m_{21}</script></html>"
      ],
      "text/plain": [
       "2*m111 + m21"
      ]
     },
     "execution_count": 37,
     "metadata": {},
     "output_type": "execute_result"
    }
   ],
   "source": [
    "pol2 = y0^2*y1 + y0*y1^2 + y0^2*y2 + 2*y0*y1*y2 + y1^2*y2 + y0*y2^2 + y1*y2^2\n",
    "m.from_polynomial(pol2)"
   ]
  },
  {
   "cell_type": "markdown",
   "metadata": {
    "deletable": true,
    "editable": true
   },
   "source": [
    "In the preceeding example, the base ring of polynomials is the same as the base ring of symmetric polynomials considered, as checked by the following."
   ]
  },
  {
   "cell_type": "code",
   "execution_count": 38,
   "metadata": {
    "collapsed": false,
    "deletable": true,
    "editable": true
   },
   "outputs": [
    {
     "name": "stdout",
     "output_type": "stream",
     "text": [
      "Rational Field\n"
     ]
    }
   ],
   "source": [
    "print(s.base_ring())"
   ]
  },
  {
   "cell_type": "code",
   "execution_count": 39,
   "metadata": {
    "collapsed": false,
    "deletable": true,
    "editable": true
   },
   "outputs": [
    {
     "name": "stdout",
     "output_type": "stream",
     "text": [
      "Rational Field\n"
     ]
    }
   ],
   "source": [
    "print(pol2.base_ring())"
   ]
  },
  {
   "cell_type": "markdown",
   "metadata": {
    "deletable": true,
    "editable": true
   },
   "source": [
    "Thus a concrete symmetric polynomial over $\\mathbb{Q}(q,t)$ may be transformed into an abstract symmetric function in any basis."
   ]
  },
  {
   "cell_type": "code",
   "execution_count": 40,
   "metadata": {
    "collapsed": false,
    "deletable": true,
    "editable": true
   },
   "outputs": [
    {
     "name": "stdout",
     "output_type": "stream",
     "text": [
      "Defining e as shorthand for Symmetric Functions over Fraction Field of Multivariate Polynomial Ring in q, t over Rational Field in the elementary basis\n",
      "Defining f as shorthand for Symmetric Functions over Fraction Field of Multivariate Polynomial Ring in q, t over Rational Field in the forgotten basis\n",
      "Defining h as shorthand for Symmetric Functions over Fraction Field of Multivariate Polynomial Ring in q, t over Rational Field in the homogeneous basis\n",
      "Defining m as shorthand for Symmetric Functions over Fraction Field of Multivariate Polynomial Ring in q, t over Rational Field in the monomial basis\n",
      "Defining p as shorthand for Symmetric Functions over Fraction Field of Multivariate Polynomial Ring in q, t over Rational Field in the powersum basis\n",
      "Defining s as shorthand for Symmetric Functions over Fraction Field of Multivariate Polynomial Ring in q, t over Rational Field in the Schur basis\n"
     ]
    }
   ],
   "source": [
    "Symqt.inject_shorthands()"
   ]
  },
  {
   "cell_type": "code",
   "execution_count": 41,
   "metadata": {
    "collapsed": false,
    "deletable": true,
    "editable": true
   },
   "outputs": [
    {
     "name": "stdout",
     "output_type": "stream",
     "text": [
      "Defining y0, y1, y2\n"
     ]
    }
   ],
   "source": [
    "R = PolynomialRing(QQ['q','t'],'y',3)\n",
    "R.inject_variables()"
   ]
  },
  {
   "cell_type": "code",
   "execution_count": 42,
   "metadata": {
    "collapsed": false,
    "deletable": true,
    "editable": true
   },
   "outputs": [
    {
     "data": {
      "text/html": [
       "<html><script type=\"math/tex; mode=display\">\\newcommand{\\Bold}[1]{\\mathbf{#1}}s_{} + \\left(q + t\\right)s_{1,1} + q ts_{1,1,1}</script></html>"
      ],
      "text/plain": [
       "s + (q+t)*s11 + q*t*s111"
      ]
     },
     "execution_count": 42,
     "metadata": {},
     "output_type": "execute_result"
    }
   ],
   "source": [
    "pol2 = 1+(y0*y1+y0*y2+y1*y2)*(q+t)+(y0*y1*y2)*(q*t)\n",
    "s.from_polynomial(pol2)"
   ]
  },
  {
   "cell_type": "markdown",
   "metadata": {
    "deletable": true,
    "editable": true
   },
   "source": [
    "### Changes of bases\n",
    "\n",
    "Many calculations on symmetric functions involve a change of (linear) basis.\n",
    "\n",
    "For example, here we compute $p_{22}+m_{11}s_{21}$ in the elementary basis."
   ]
  },
  {
   "cell_type": "code",
   "execution_count": 43,
   "metadata": {
    "collapsed": false,
    "deletable": true,
    "editable": true
   },
   "outputs": [
    {
     "data": {
      "text/html": [
       "<html><script type=\"math/tex; mode=display\">\\newcommand{\\Bold}[1]{\\mathbf{#1}}e_{1,1,1,1} - 4e_{2,1,1} + 4e_{2,2} + e_{2,2,1} - e_{3,2}</script></html>"
      ],
      "text/plain": [
       "e1111 - 4*e211 + 4*e22 + e221 - e32"
      ]
     },
     "execution_count": 43,
     "metadata": {},
     "output_type": "execute_result"
    }
   ],
   "source": [
    "e(p([2,2])+m([1,1])*s([2,1]))"
   ]
  },
  {
   "cell_type": "markdown",
   "metadata": {
    "deletable": true,
    "editable": true
   },
   "source": [
    "**Exercise**\n",
    "\n",
    "*Print all the Schur functions on partitions of size 5 and convert them into the elementary basis.*\n",
    "\n",
    "**Solution**"
   ]
  },
  {
   "cell_type": "code",
   "execution_count": 44,
   "metadata": {
    "collapsed": false,
    "deletable": true,
    "editable": true
   },
   "outputs": [
    {
     "name": "stdout",
     "output_type": "stream",
     "text": [
      "s5\n",
      "e11111 - 4*e2111 + 3*e221 + 3*e311 - 2*e32 - 2*e41 + e5\n",
      "s41\n",
      "e2111 - 2*e221 - e311 + 2*e32 + e41 - e5\n",
      "s32\n",
      "e221 - e311 - e32 + e41\n",
      "s311\n",
      "e311 - e32 - e41 + e5\n",
      "s221\n",
      "e32 - e41\n",
      "s2111\n",
      "e41 - e5\n",
      "s11111\n",
      "e5\n"
     ]
    }
   ],
   "source": [
    "for mu in Partitions(5):\n",
    "    print(s(mu))\n",
    "    print(e(s(mu)))"
   ]
  },
  {
   "cell_type": "markdown",
   "metadata": {
    "deletable": true,
    "editable": true
   },
   "source": [
    "**Exercise**\n",
    "\n",
    "*Compute the sum of the homogeneous functions on partitions of size 4 in the power sum basis.*\n",
    "\n",
    "**Solution**"
   ]
  },
  {
   "cell_type": "code",
   "execution_count": 45,
   "metadata": {
    "collapsed": false,
    "deletable": true,
    "editable": true
   },
   "outputs": [
    {
     "data": {
      "text/html": [
       "<html><script type=\"math/tex; mode=display\">\\newcommand{\\Bold}[1]{\\mathbf{#1}}\\frac{47}{24}p_{1,1,1,1} + \\frac{7}{4}p_{2,1,1} + \\frac{3}{8}p_{2,2} + \\frac{2}{3}p_{3,1} + \\frac{1}{4}p_{4}</script></html>"
      ],
      "text/plain": [
       "47/24*p1111 + 7/4*p211 + 3/8*p22 + 2/3*p31 + 1/4*p4"
      ]
     },
     "execution_count": 45,
     "metadata": {},
     "output_type": "execute_result"
    }
   ],
   "source": [
    "p(sum(h(mu) for mu in Partitions(4)))"
   ]
  },
  {
   "cell_type": "markdown",
   "metadata": {
    "deletable": true,
    "editable": true
   },
   "source": [
    "**Exercise**\n",
    "\n",
    "*It is well konwn that $h_n(X) = \\sum \\limits_{\\mu \\vdash n} \\dfrac{p_{\\mu}(x)}{z_{\\mu}}$. Verify this result for $n \\in \\{1,2,3,4\\}$*\n",
    "\n",
    "*Note that there exists a function `zee()` which takes a partition $\\mu$ and gives back the value of $z_{\\mu}$. To use this function, you should import it from* `sage.combinat.sf.sfa`."
   ]
  },
  {
   "cell_type": "code",
   "execution_count": 46,
   "metadata": {
    "collapsed": false,
    "deletable": true,
    "editable": true
   },
   "outputs": [
    {
     "data": {
      "text/html": [
       "<html><script type=\"math/tex; mode=display\">\\newcommand{\\Bold}[1]{\\mathbf{#1}}64</script></html>"
      ],
      "text/plain": [
       "64"
      ]
     },
     "execution_count": 46,
     "metadata": {},
     "output_type": "execute_result"
    }
   ],
   "source": [
    "from sage.combinat.sf.sfa import *\n",
    "zee([4,4,2,1])"
   ]
  },
  {
   "cell_type": "markdown",
   "metadata": {
    "deletable": true,
    "editable": true
   },
   "source": [
    "**Solution**"
   ]
  },
  {
   "cell_type": "code",
   "execution_count": 47,
   "metadata": {
    "collapsed": false,
    "deletable": true,
    "editable": true
   },
   "outputs": [
    {
     "name": "stdout",
     "output_type": "stream",
     "text": [
      "p1\n",
      "p1\n",
      "1/2*p11 + 1/2*p2\n",
      "1/2*p11 + 1/2*p2\n",
      "1/6*p111 + 1/2*p21 + 1/3*p3\n",
      "1/6*p111 + 1/2*p21 + 1/3*p3\n",
      "1/24*p1111 + 1/4*p211 + 1/8*p22 + 1/3*p31 + 1/4*p4\n",
      "1/24*p1111 + 1/4*p211 + 1/8*p22 + 1/3*p31 + 1/4*p4\n"
     ]
    }
   ],
   "source": [
    "for n in range (1,5) :\n",
    "    print(p(h([n])))\n",
    "    print(sum(p(mu)/zee(mu) for mu in Partitions(n)))"
   ]
  },
  {
   "cell_type": "markdown",
   "metadata": {
    "deletable": true,
    "editable": true
   },
   "source": [
    "> *Note that there also exists a function `aut()` which is the same as `zee()` but doesn't have to be imported.*\n",
    "\n",
    "We can see that the terms of a calculation are always given in a precise order on the partitions. This order can be changed.\n",
    "\n",
    "First, the function `get_print_style()` applied to a basis gives us the order used on the partitions for this basis. Then, with `set_print_style()` we can set another printing order. The possible orders are :\n",
    "\n",
    "-   `lex` : lexicographic order.\n",
    "-   `length` : by length of the partitions, and for partitions of same length by lexicographic order.\n",
    "-   `maximal_part` : by the value of the biggest part of the partition."
   ]
  },
  {
   "cell_type": "code",
   "execution_count": 48,
   "metadata": {
    "collapsed": false,
    "deletable": true,
    "editable": true
   },
   "outputs": [
    {
     "data": {
      "text/html": [
       "<html><script type=\"math/tex; mode=display\">\\newcommand{\\Bold}[1]{\\mathbf{#1}}\\verb|lex|</script></html>"
      ],
      "text/plain": [
       "'lex'"
      ]
     },
     "execution_count": 48,
     "metadata": {},
     "output_type": "execute_result"
    }
   ],
   "source": [
    "s.get_print_style()"
   ]
  },
  {
   "cell_type": "code",
   "execution_count": 49,
   "metadata": {
    "collapsed": false,
    "deletable": true,
    "editable": true
   },
   "outputs": [
    {
     "data": {
      "text/html": [
       "<html><script type=\"math/tex; mode=display\">\\newcommand{\\Bold}[1]{\\mathbf{#1}}-s_{1,1,1,1,1,1} - s_{2,1,1,1,1} + s_{2,2,1,1} + s_{2,2,2} - s_{3,3} - s_{4,2} + s_{5,1} + s_{6}</script></html>"
      ],
      "text/plain": [
       "-s111111 - s21111 + s2211 + s222 - s33 - s42 + s51 + s6"
      ]
     },
     "execution_count": 49,
     "metadata": {},
     "output_type": "execute_result"
    }
   ],
   "source": [
    "s.set_print_style('lex')\n",
    "s(p[4,1,1])"
   ]
  },
  {
   "cell_type": "code",
   "execution_count": 50,
   "metadata": {
    "collapsed": false,
    "deletable": true,
    "editable": true
   },
   "outputs": [
    {
     "data": {
      "text/html": [
       "<html><script type=\"math/tex; mode=display\">\\newcommand{\\Bold}[1]{\\mathbf{#1}}s_{6} - s_{3,3} - s_{4,2} + s_{5,1} + s_{2,2,2} + s_{2,2,1,1} - s_{2,1,1,1,1} - s_{1,1,1,1,1,1}</script></html>"
      ],
      "text/plain": [
       "s6 - s33 - s42 + s51 + s222 + s2211 - s21111 - s111111"
      ]
     },
     "execution_count": 50,
     "metadata": {},
     "output_type": "execute_result"
    }
   ],
   "source": [
    "s.set_print_style('length')\n",
    "s(p[4,1,1])"
   ]
  },
  {
   "cell_type": "code",
   "execution_count": 51,
   "metadata": {
    "collapsed": false,
    "deletable": true,
    "editable": true
   },
   "outputs": [
    {
     "data": {
      "text/html": [
       "<html><script type=\"math/tex; mode=display\">\\newcommand{\\Bold}[1]{\\mathbf{#1}}\\verb|length|</script></html>"
      ],
      "text/plain": [
       "'length'"
      ]
     },
     "execution_count": 51,
     "metadata": {},
     "output_type": "execute_result"
    }
   ],
   "source": [
    "s.get_print_style()"
   ]
  },
  {
   "cell_type": "code",
   "execution_count": 52,
   "metadata": {
    "collapsed": false,
    "deletable": true,
    "editable": true
   },
   "outputs": [
    {
     "data": {
      "text/html": [
       "<html><script type=\"math/tex; mode=display\">\\newcommand{\\Bold}[1]{\\mathbf{#1}}-s_{1,1,1,1,1,1} + s_{2,2,2} - s_{2,1,1,1,1} + s_{2,2,1,1} - s_{3,3} - s_{4,2} + s_{5,1} + s_{6}</script></html>"
      ],
      "text/plain": [
       "-s111111 + s222 - s21111 + s2211 - s33 - s42 + s51 + s6"
      ]
     },
     "execution_count": 52,
     "metadata": {},
     "output_type": "execute_result"
    }
   ],
   "source": [
    "s.set_print_style('maximal_part')\n",
    "s(p[4,1,1])"
   ]
  },
  {
   "cell_type": "markdown",
   "metadata": {
    "deletable": true,
    "editable": true
   },
   "source": [
    "## More basic commands on symmetric functions\n",
    "\n",
    "The function `coefficient()` returns the coefficient associated to a given partition."
   ]
  },
  {
   "cell_type": "code",
   "execution_count": 53,
   "metadata": {
    "collapsed": false,
    "deletable": true,
    "editable": true
   },
   "outputs": [
    {
     "data": {
      "text/html": [
       "<html><script type=\"math/tex; mode=display\">\\newcommand{\\Bold}[1]{\\mathbf{#1}}e_{4,3,1,1,1} - 2e_{4,3,2,1} + e_{4,3,3} - e_{4,4,1,1} + e_{4,4,2} - e_{5,2,1,1,1} + 2e_{5,2,2,1} - e_{5,3,2} + e_{5,4,1} + e_{6,2,1,1} - e_{6,2,2} - e_{6,4} - e_{7,2,1} + e_{8,2}</script></html>"
      ],
      "text/plain": [
       "e43111 - 2*e4321 + e433 - e4411 + e442 - e52111 + 2*e5221 - e532 + e541 + e6211 - e622 - e64 - e721 + e82"
      ]
     },
     "execution_count": 53,
     "metadata": {},
     "output_type": "execute_result"
    }
   ],
   "source": [
    "f = s[5,2,2,1]\n",
    "e(f)"
   ]
  },
  {
   "cell_type": "code",
   "execution_count": 54,
   "metadata": {
    "collapsed": false,
    "deletable": true,
    "editable": true
   },
   "outputs": [
    {
     "data": {
      "text/html": [
       "<html><script type=\"math/tex; mode=display\">\\newcommand{\\Bold}[1]{\\mathbf{#1}}-2</script></html>"
      ],
      "text/plain": [
       "-2"
      ]
     },
     "execution_count": 54,
     "metadata": {},
     "output_type": "execute_result"
    }
   ],
   "source": [
    "e(f).coefficient([4,3,2,1])"
   ]
  },
  {
   "cell_type": "markdown",
   "metadata": {
    "deletable": true,
    "editable": true
   },
   "source": [
    "The function `degree()` gives the degree of a symmetric function."
   ]
  },
  {
   "cell_type": "code",
   "execution_count": 55,
   "metadata": {
    "collapsed": false,
    "deletable": true,
    "editable": true
   },
   "outputs": [
    {
     "data": {
      "text/html": [
       "<html><script type=\"math/tex; mode=display\">\\newcommand{\\Bold}[1]{\\mathbf{#1}}10</script></html>"
      ],
      "text/plain": [
       "10"
      ]
     },
     "execution_count": 55,
     "metadata": {},
     "output_type": "execute_result"
    }
   ],
   "source": [
    "f.degree()"
   ]
  },
  {
   "cell_type": "markdown",
   "metadata": {
    "deletable": true,
    "editable": true
   },
   "source": [
    "Finally, the function `support()` returns the list of partitions that appear in a given symmetric function. The result will depend on the basis of the function. In the following example, we also use the function `sorted()` to get an ordered list."
   ]
  },
  {
   "cell_type": "code",
   "execution_count": 56,
   "metadata": {
    "collapsed": false,
    "deletable": true,
    "editable": true
   },
   "outputs": [
    {
     "name": "stdout",
     "output_type": "stream",
     "text": [
      "[5221]\n"
     ]
    }
   ],
   "source": [
    "print(f.support())"
   ]
  },
  {
   "cell_type": "code",
   "execution_count": 57,
   "metadata": {
    "collapsed": false,
    "deletable": true,
    "editable": true
   },
   "outputs": [
    {
     "name": "stdout",
     "output_type": "stream",
     "text": [
      "[5221, 5311, 532, 541, 6211, 631, 64, 7111, 721, 811, 82]\n"
     ]
    }
   ],
   "source": [
    "print(sorted(h(f).support()))"
   ]
  },
  {
   "cell_type": "markdown",
   "metadata": {
    "deletable": true,
    "editable": true
   },
   "source": [
    "## Other well-known bases\n",
    "\n",
    "Other important bases are implemented in SAGE.\n",
    "\n",
    "-   The forgotten symmetric functions\n",
    "-   The Hall-littlewood basis\n",
    "-   The Jack basis\n",
    "-   The orthogonal basis\n",
    "-   The symplectic basis\n",
    "-   The Witt basis\n",
    "-   The zonal basis\n",
    "\n",
    "The well known Macdonald symmetric functions are also implemented in sage. For more details, you can consult the following sage reference : <http://doc.sagemath.org/html/en/reference/combinat/sage/combinat/sf/macdonald.html>\n",
    "\n",
    "Here are some examples involving the \"combinatorial\" Macdonald symmetric functions. These are eigenfunctions of the operator $\\nabla$. (See below for more informations about $\\nabla$.)"
   ]
  },
  {
   "cell_type": "code",
   "execution_count": 58,
   "metadata": {
    "collapsed": false,
    "deletable": true,
    "editable": true
   },
   "outputs": [
    {
     "name": "stdout",
     "output_type": "stream",
     "text": [
      "Defining e as shorthand for Symmetric Functions over Fraction Field of Multivariate Polynomial Ring in q, t over Rational Field in the elementary basis\n",
      "Defining f as shorthand for Symmetric Functions over Fraction Field of Multivariate Polynomial Ring in q, t over Rational Field in the forgotten basis\n",
      "Defining h as shorthand for Symmetric Functions over Fraction Field of Multivariate Polynomial Ring in q, t over Rational Field in the homogeneous basis\n",
      "Defining m as shorthand for Symmetric Functions over Fraction Field of Multivariate Polynomial Ring in q, t over Rational Field in the monomial basis\n",
      "Defining p as shorthand for Symmetric Functions over Fraction Field of Multivariate Polynomial Ring in q, t over Rational Field in the powersum basis\n",
      "Defining s as shorthand for Symmetric Functions over Fraction Field of Multivariate Polynomial Ring in q, t over Rational Field in the Schur basis\n"
     ]
    }
   ],
   "source": [
    "Symqt = SymmetricFunctions(FractionField(QQ['q','t']))\n",
    "Symqt.inject_shorthands()"
   ]
  },
  {
   "cell_type": "code",
   "execution_count": 59,
   "metadata": {
    "collapsed": true,
    "deletable": true,
    "editable": true
   },
   "outputs": [],
   "source": [
    "H = Symqt.macdonald().Ht()\n",
    "H.print_options(prefix=\"H\")"
   ]
  },
  {
   "cell_type": "code",
   "execution_count": 60,
   "metadata": {
    "collapsed": false,
    "deletable": true,
    "editable": true
   },
   "outputs": [
    {
     "data": {
      "text/html": [
       "<html><script type=\"math/tex; mode=display\">\\newcommand{\\Bold}[1]{\\mathbf{#1}}q ts_{1,1,1} + \\left(q + t\\right)s_{2,1} + s_{3}</script></html>"
      ],
      "text/plain": [
       "q*t*s111 + (q+t)*s21 + s3"
      ]
     },
     "execution_count": 60,
     "metadata": {},
     "output_type": "execute_result"
    }
   ],
   "source": [
    "s(H([2,1]))"
   ]
  },
  {
   "cell_type": "code",
   "execution_count": 61,
   "metadata": {
    "collapsed": false,
    "deletable": true,
    "editable": true
   },
   "outputs": [
    {
     "data": {
      "text/html": [
       "<html><script type=\"math/tex; mode=display\">\\newcommand{\\Bold}[1]{\\mathbf{#1}}\\left(\\frac{- q}{- q t^{2} + t^{3} + q^{2} -  q t}\\right)H_{1,1,1} + \\left(\\frac{q^{2} + q t + t^{2}}{- q^{2} t^{2} + q^{3} + t^{3} -  q t}\\right)H_{2,1} + \\left(\\frac{t}{- q^{3} + q^{2} t + q t -  t^{2}}\\right)H_{3}</script></html>"
      ],
      "text/plain": [
       "((-q)/(-q*t^2+t^3+q^2-q*t))*McdHt111 + ((q^2+q*t+t^2)/(-q^2*t^2+q^3+t^3-q*t))*McdHt21 + (t/(-q^3+q^2*t+q*t-t^2))*McdHt3"
      ]
     },
     "execution_count": 61,
     "metadata": {},
     "output_type": "execute_result"
    }
   ],
   "source": [
    "H(s[2,1])"
   ]
  },
  {
   "cell_type": "code",
   "execution_count": 62,
   "metadata": {
    "collapsed": false,
    "deletable": true,
    "editable": true
   },
   "outputs": [
    {
     "data": {
      "text/html": [
       "<html><script type=\"math/tex; mode=display\">\\newcommand{\\Bold}[1]{\\mathbf{#1}}\\left[q^{6}H_{4}, q^{3} tH_{3,1}, q^{2} t^{2}H_{2,2}, q t^{3}H_{2,1,1}, t^{6}H_{1,1,1,1}\\right]</script></html>"
      ],
      "text/plain": [
       "[q^6*McdHt4, q^3*t*McdHt31, q^2*t^2*McdHt22, q*t^3*McdHt211, t^6*McdHt1111]"
      ]
     },
     "execution_count": 62,
     "metadata": {},
     "output_type": "execute_result"
    }
   ],
   "source": [
    "[H(mu).nabla() for mu in Partitions(4)]"
   ]
  },
  {
   "cell_type": "markdown",
   "metadata": {
    "deletable": true,
    "editable": true
   },
   "source": [
    "## Scalar Products\n",
    "\n",
    "The Hall scalar product is the standard scalar product on the algebra of symmetric functions. It makes the Schur functions into an orthonormal basis. The value of the scalar product between $p_{\\mu}$ and $p_{\\lambda}$ is given by $z_{\\mu}$ if $\\mu = \\lambda$ or zero otherwise.\n",
    "\n",
    "Thus, we get"
   ]
  },
  {
   "cell_type": "code",
   "execution_count": 63,
   "metadata": {
    "collapsed": false,
    "deletable": true,
    "editable": true
   },
   "outputs": [
    {
     "data": {
      "text/html": [
       "<html><script type=\"math/tex; mode=display\">\\newcommand{\\Bold}[1]{\\mathbf{#1}}8</script></html>"
      ],
      "text/plain": [
       "8"
      ]
     },
     "execution_count": 63,
     "metadata": {},
     "output_type": "execute_result"
    }
   ],
   "source": [
    "p([2,2,1]).scalar(p([2,2,1]))"
   ]
  },
  {
   "cell_type": "markdown",
   "metadata": {
    "deletable": true,
    "editable": true
   },
   "source": [
    "One may specify an optional argument which is a function on partitions giving the value for the scalar product between $p_{\\mu}$ and $p_{\\mu}$. Power sums remain orthogonal for the resulting scalar product. By default, this value is $z_{\\mu}$, but other interesting cases include:\n",
    "\n",
    "$$\\langle p_{\\mu},p_{\\mu}\\rangle_{q,t} = z_\\mu\\,\\prod_i\\frac{1-q^{\\mu_i}}{1-t^{\\mu_i}}.$$\n",
    "\n",
    "This is already refined as `scalar_qt()`."
   ]
  },
  {
   "cell_type": "code",
   "execution_count": 64,
   "metadata": {
    "collapsed": false,
    "deletable": true,
    "editable": true
   },
   "outputs": [
    {
     "data": {
      "text/html": [
       "<html><script type=\"math/tex; mode=display\">\\newcommand{\\Bold}[1]{\\mathbf{#1}}\\left(8\\right) \\cdot (t - 1)^{-3} \\cdot (t + 1)^{-2} \\cdot (q + 1)^{2} \\cdot (q - 1)^{3}</script></html>"
      ],
      "text/plain": [
       "(8) * (t - 1)^-3 * (t + 1)^-2 * (q + 1)^2 * (q - 1)^3"
      ]
     },
     "execution_count": 64,
     "metadata": {},
     "output_type": "execute_result"
    }
   ],
   "source": [
    "factor(p([2,2,1]).scalar_qt(p[2,2,1]))"
   ]
  },
  {
   "cell_type": "markdown",
   "metadata": {
    "deletable": true,
    "editable": true
   },
   "source": [
    "## Some interesting operators on symmetric functions\n",
    "\n",
    "Operators on symmetric functions may be found in SAGE. Among these, the **nabla operator** is characterized as having the combinatorial Macdonald symmetric functions $H_{\\mu}=H_{\\mu}(\\mathbf{x};q,t)$ as eigenfunctions:\n",
    "\n",
    "$$\\nabla H_{\\mu} = t^{n(\\mu)} q^{n(\\mu')} H_{\\mu},$$\n",
    "\n",
    "where $\\mu$ is a partition, $\\mu'$ its conjugate, and $n(\\mu)$ is set to be equal to $\\sum_i (i-1)\\mu_i$. This operator $\\nabla$ is thus defined over symmetric functions with coefficients in the fraction field $\\mathbb{Q}[q,t]$, as is declared above.\n",
    "\n",
    "It has been shown by Haiman that $\\nabla(e_n)$ is the Frobenius transform of the bigraded character of the $\\mathbb{S}_n$-module of diagonal harmonic polynomials. Recall that the Frobernius transform encodes irreducible as Schur functions."
   ]
  },
  {
   "cell_type": "code",
   "execution_count": 65,
   "metadata": {
    "collapsed": false,
    "deletable": true,
    "editable": true
   },
   "outputs": [
    {
     "data": {
      "text/html": [
       "<html><script type=\"math/tex; mode=display\">\\newcommand{\\Bold}[1]{\\mathbf{#1}}\\left(q^{3} + q^{2} t + q t^{2} + t^{3} + q t\\right)s_{1,1,1} + \\left(q^{2} + q t + t^{2} + q + t\\right)s_{2,1} + s_{3}</script></html>"
      ],
      "text/plain": [
       "(q^3+q^2*t+q*t^2+t^3+q*t)*s111 + (q^2+q*t+t^2+q+t)*s21 + s3"
      ]
     },
     "execution_count": 65,
     "metadata": {},
     "output_type": "execute_result"
    }
   ],
   "source": [
    "s(e[3].nabla())"
   ]
  },
  {
   "cell_type": "markdown",
   "metadata": {
    "deletable": true,
    "editable": true
   },
   "source": [
    "The global dimension of this module is $(n+1)^{n-1}$, and the dimension of its alternating component (see exercise below) is the Catalan number $C_n=\\frac{1}{n+1}\\binom{2n}{n}$. And there are many other interesting properties of the bigraded version."
   ]
  },
  {
   "cell_type": "code",
   "execution_count": 66,
   "metadata": {
    "collapsed": false,
    "deletable": true,
    "editable": true
   },
   "outputs": [
    {
     "data": {
      "text/html": [
       "<html><script type=\"math/tex; mode=display\">\\newcommand{\\Bold}[1]{\\mathbf{#1}}q^{3} + q^{2} t + q t^{2} + t^{3} + 2 q^{2} + 3 q t + 2 t^{2} + 2 q + 2 t + 1</script></html>"
      ],
      "text/plain": [
       "q^3 + q^2*t + q*t^2 + t^3 + 2*q^2 + 3*q*t + 2*t^2 + 2*q + 2*t + 1"
      ]
     },
     "execution_count": 66,
     "metadata": {},
     "output_type": "execute_result"
    }
   ],
   "source": [
    "Hilb_qt=s(e[3].nabla()).scalar(p[1]^3); Hilb_qt"
   ]
  },
  {
   "cell_type": "code",
   "execution_count": 67,
   "metadata": {
    "collapsed": false,
    "deletable": true,
    "editable": true
   },
   "outputs": [
    {
     "data": {
      "text/html": [
       "<html><script type=\"math/tex; mode=display\">\\newcommand{\\Bold}[1]{\\mathbf{#1}}16</script></html>"
      ],
      "text/plain": [
       "16"
      ]
     },
     "execution_count": 67,
     "metadata": {},
     "output_type": "execute_result"
    }
   ],
   "source": [
    "Hilb_qt.substitute({q:1,t:1})"
   ]
  },
  {
   "cell_type": "markdown",
   "metadata": {
    "deletable": true,
    "editable": true
   },
   "source": [
    "There are also interesting conjectures on the effect of $\\nabla$ on Schur functions."
   ]
  },
  {
   "cell_type": "code",
   "execution_count": 68,
   "metadata": {
    "collapsed": false,
    "deletable": true,
    "editable": true
   },
   "outputs": [
    {
     "data": {
      "text/html": [
       "<html><script type=\"math/tex; mode=display\">\\newcommand{\\Bold}[1]{\\mathbf{#1}}\\left(q^{6} t^{3} + q^{5} t^{4} + q^{4} t^{5} + q^{3} t^{6}\\right)s_{1,1,1,1,1} + \\left(q^{5} t^{2} + 2 q^{4} t^{3} + 2 q^{3} t^{4} + q^{2} t^{5}\\right)s_{2,2,1} + \\left(q^{6} t^{2} + 2 q^{5} t^{3} + 2 q^{4} t^{4} + 2 q^{3} t^{5} + q^{2} t^{6} + q^{4} t^{3} + q^{3} t^{4}\\right)s_{2,1,1,1} + \\left(q^{4} t^{2} + q^{3} t^{3} + q^{2} t^{4}\\right)s_{3,2} + \\left(q^{5} t^{2} + q^{4} t^{3} + q^{3} t^{4} + q^{2} t^{5} + q^{4} t^{2} + 2 q^{3} t^{3} + q^{2} t^{4}\\right)s_{3,1,1} + \\left(q^{3} t^{2} + q^{2} t^{3}\\right)s_{4,1}</script></html>"
      ],
      "text/plain": [
       "(q^6*t^3+q^5*t^4+q^4*t^5+q^3*t^6)*s11111 + (q^5*t^2+2*q^4*t^3+2*q^3*t^4+q^2*t^5)*s221 + (q^6*t^2+2*q^5*t^3+2*q^4*t^4+2*q^3*t^5+q^2*t^6+q^4*t^3+q^3*t^4)*s2111 + (q^4*t^2+q^3*t^3+q^2*t^4)*s32 + (q^5*t^2+q^4*t^3+q^3*t^4+q^2*t^5+q^4*t^2+2*q^3*t^3+q^2*t^4)*s311 + (q^3*t^2+q^2*t^3)*s41"
      ]
     },
     "execution_count": 68,
     "metadata": {},
     "output_type": "execute_result"
    }
   ],
   "source": [
    "(-s([2,2,1])).nabla()"
   ]
  },
  {
   "cell_type": "markdown",
   "metadata": {
    "deletable": true,
    "editable": true
   },
   "source": [
    "**Exercise**\n",
    "\n",
    "We have the following relation between $\\nabla (e_n)$ and the q,t-Catalan numbers :\n",
    "\n",
    "$$C_n(q,t) = \\langle \\nabla e_n , e_n \\rangle.$$\n",
    "\n",
    "*Check this relation for $1 \\leq n \\leq 5$*\n",
    "\n",
    "*Note that the n-th q,t-Catalan number can be computed by using the command `qt_catalan_number(n)` which has to be imported from* `sage.combinat.q_analogues` if it hasn't already been done.\\*"
   ]
  },
  {
   "cell_type": "code",
   "execution_count": 69,
   "metadata": {
    "collapsed": false,
    "deletable": true,
    "editable": true
   },
   "outputs": [
    {
     "data": {
      "text/html": [
       "<html><script type=\"math/tex; mode=display\">\\newcommand{\\Bold}[1]{\\mathbf{#1}}q^{10} + q^{9} t + q^{8} t^{2} + q^{7} t^{3} + q^{6} t^{4} + q^{5} t^{5} + q^{4} t^{6} + q^{3} t^{7} + q^{2} t^{8} + q t^{9} + t^{10} + q^{8} t + q^{7} t^{2} + q^{6} t^{3} + q^{5} t^{4} + q^{4} t^{5} + q^{3} t^{6} + q^{2} t^{7} + q t^{8} + q^{7} t + 2 q^{6} t^{2} + 2 q^{5} t^{3} + 2 q^{4} t^{4} + 2 q^{3} t^{5} + 2 q^{2} t^{6} + q t^{7} + q^{6} t + q^{5} t^{2} + 2 q^{4} t^{3} + 2 q^{3} t^{4} + q^{2} t^{5} + q t^{6} + q^{4} t^{2} + q^{3} t^{3} + q^{2} t^{4}</script></html>"
      ],
      "text/plain": [
       "q^10 + q^9*t + q^8*t^2 + q^7*t^3 + q^6*t^4 + q^5*t^5 + q^4*t^6 + q^3*t^7 + q^2*t^8 + q*t^9 + t^10 + q^8*t + q^7*t^2 + q^6*t^3 + q^5*t^4 + q^4*t^5 + q^3*t^6 + q^2*t^7 + q*t^8 + q^7*t + 2*q^6*t^2 + 2*q^5*t^3 + 2*q^4*t^4 + 2*q^3*t^5 + 2*q^2*t^6 + q*t^7 + q^6*t + q^5*t^2 + 2*q^4*t^3 + 2*q^3*t^4 + q^2*t^5 + q*t^6 + q^4*t^2 + q^3*t^3 + q^2*t^4"
      ]
     },
     "execution_count": 69,
     "metadata": {},
     "output_type": "execute_result"
    }
   ],
   "source": [
    "from sage.combinat.q_analogues import *\n",
    "n=5\n",
    "qt_catalan_number(n)"
   ]
  },
  {
   "cell_type": "markdown",
   "metadata": {
    "deletable": true,
    "editable": true
   },
   "source": [
    "**Solution**"
   ]
  },
  {
   "cell_type": "code",
   "execution_count": 70,
   "metadata": {
    "collapsed": false,
    "deletable": true,
    "editable": true
   },
   "outputs": [
    {
     "name": "stdout",
     "output_type": "stream",
     "text": [
      "True\n",
      "True\n",
      "True\n",
      "True\n",
      "True\n"
     ]
    }
   ],
   "source": [
    "for n in range (1,6) :\n",
    "    print(e([n]).nabla().scalar(e([n])) == qt_catalan_number(n))"
   ]
  },
  {
   "cell_type": "markdown",
   "metadata": {
    "deletable": true,
    "editable": true
   },
   "source": [
    "## Plethysm\n",
    "\n",
    "As its name strongly suggests, the `plethysm()` function computes the **plethysm** $f\\circ g$, of two symmetric functions $f$ and $g$. Recall that this is the operation characterized by the properties - $(f_1+f_2)\\circ g =(f_1\\circ g)+(f_2\\circ g)$, - $(f_1\\cdot f_2)\\circ g =(f_1\\circ g)\\cdot (f_2\\circ g)$, - $p_k\\circ(g_1+g_2) =(p_k\\circ g_1)+(p_k\\circ g_2)$, - $p_k\\circ (g_1\\cdot g_2) =(p_k\\circ g_1)+(p_k\\circ g_2)$, - $p_k\\circ p_n =p_{kn}$, - $p_k\\circ x =x^k$, if $x$ is a **variable** - $p_k\\circ c =c$, if $c$ is a **constant**\n",
    "\n",
    "One may specify a list of SAGE-variables to be treated as **variables** in a plethysm, using the option `include=[x1,x2,...,xk]`, and/or a list of SAGE-variables to be considered as **constants**, using the option `exclude=[c1,c2,...,ck]`. Here are some examples."
   ]
  },
  {
   "cell_type": "code",
   "execution_count": 71,
   "metadata": {
    "collapsed": false,
    "deletable": true,
    "editable": true
   },
   "outputs": [
    {
     "data": {
      "text/html": [
       "<html><script type=\"math/tex; mode=display\">\\newcommand{\\Bold}[1]{\\mathbf{#1}}\\frac{1}{36}p_{3,3,3,3,2,2,2,2} + \\frac{1}{12}p_{4,3,3,3,3,2,2} + \\frac{1}{12}p_{6,3,3,2,2,2,2} + \\frac{1}{18}p_{6,3,3,3,3,2} + \\frac{1}{4}p_{6,4,3,3,2,2} + \\frac{1}{6}p_{6,6,3,3,2} + \\frac{1}{18}p_{9,3,2,2,2,2} + \\frac{1}{6}p_{9,4,3,2,2} + \\frac{1}{9}p_{9,6,3,2}</script></html>"
      ],
      "text/plain": [
       "1/36*p33332222 + 1/12*p4333322 + 1/12*p6332222 + 1/18*p633332 + 1/4*p643322 + 1/6*p66332 + 1/18*p932222 + 1/6*p94322 + 1/9*p9632"
      ]
     },
     "execution_count": 71,
     "metadata": {},
     "output_type": "execute_result"
    }
   ],
   "source": [
    "p([3,2]).plethysm(h([3,1]))"
   ]
  },
  {
   "cell_type": "code",
   "execution_count": 72,
   "metadata": {
    "collapsed": false,
    "deletable": true,
    "editable": true
   },
   "outputs": [
    {
     "name": "stdout",
     "output_type": "stream",
     "text": [
      "p2 + 1/3*t^2*p222 + (-1/3*t^2)*p6\n"
     ]
    }
   ],
   "source": [
    "g = p([1]) + t*s([2,1])\n",
    "print(p([2]).plethysm(g,include=[t]))"
   ]
  },
  {
   "cell_type": "code",
   "execution_count": 73,
   "metadata": {
    "collapsed": false,
    "deletable": true,
    "editable": true
   },
   "outputs": [
    {
     "name": "stdout",
     "output_type": "stream",
     "text": [
      "p2 + 1/3*t*p222 + (-1/3*t)*p6\n"
     ]
    }
   ],
   "source": [
    "print(p([2]).plethysm(g,exclude=[t]))"
   ]
  },
  {
   "cell_type": "markdown",
   "metadata": {
    "deletable": true,
    "editable": true
   },
   "source": [
    "It is costumary to also write $f[g]$ for $f\\circ g$ in mathematical texts, but SAGE uses the shorthand notation $f(g)$ for better compatibility with python. For instance, the plethysm $s_4\\circ s_2$, may also be computed as"
   ]
  },
  {
   "cell_type": "code",
   "execution_count": 74,
   "metadata": {
    "collapsed": false,
    "deletable": true,
    "editable": true
   },
   "outputs": [
    {
     "data": {
      "text/html": [
       "<html><script type=\"math/tex; mode=display\">\\newcommand{\\Bold}[1]{\\mathbf{#1}}s_{2,2,2,2} + s_{4,2,2} + s_{4,4} + s_{6,2} + s_{8}</script></html>"
      ],
      "text/plain": [
       "s2222 + s422 + s44 + s62 + s8"
      ]
     },
     "execution_count": 74,
     "metadata": {},
     "output_type": "execute_result"
    }
   ],
   "source": [
    "s[4](s[2])"
   ]
  },
  {
   "cell_type": "markdown",
   "metadata": {
    "deletable": true,
    "editable": true
   },
   "source": [
    "To have nice expressions for plethystic substitutions, one may set aliases for the symmetric function on the empty partition (i.e. $s_0, m_0, \\dots$, all equal to the constant 1), and the symmetric function (unique up to a scalar) of degree 1."
   ]
  },
  {
   "cell_type": "code",
   "execution_count": 75,
   "metadata": {
    "collapsed": true,
    "deletable": true,
    "editable": true
   },
   "outputs": [],
   "source": [
    "One = s([])\n",
    "X = s[1]"
   ]
  },
  {
   "cell_type": "code",
   "execution_count": 76,
   "metadata": {
    "collapsed": false,
    "deletable": true,
    "editable": true
   },
   "outputs": [
    {
     "data": {
      "text/html": [
       "<html><script type=\"math/tex; mode=display\">\\newcommand{\\Bold}[1]{\\mathbf{#1}}\\left(q^{12} + q^{11} + 2 q^{10} + 3 q^{9} + 4 q^{8} + 4 q^{7} + 5 q^{6} + 4 q^{5} + 4 q^{4} + 3 q^{3} + 2 q^{2} + q + 1\\right)s_{}</script></html>"
      ],
      "text/plain": [
       "(q^12+q^11+2*q^10+3*q^9+4*q^8+4*q^7+5*q^6+4*q^5+4*q^4+3*q^3+2*q^2+q+1)*s"
      ]
     },
     "execution_count": 76,
     "metadata": {},
     "output_type": "execute_result"
    }
   ],
   "source": [
    "s[3](s[4](One*(1+q)))"
   ]
  },
  {
   "cell_type": "markdown",
   "metadata": {
    "deletable": true,
    "editable": true
   },
   "source": [
    "One should compare this with"
   ]
  },
  {
   "cell_type": "code",
   "execution_count": 77,
   "metadata": {
    "collapsed": false,
    "deletable": true,
    "editable": true
   },
   "outputs": [
    {
     "data": {
      "text/html": [
       "<html><script type=\"math/tex; mode=display\">\\newcommand{\\Bold}[1]{\\mathbf{#1}}q^{12} + q^{11} + 2q^{10} + 3q^{9} + 4q^{8} + 4q^{7} + 5q^{6} + 4q^{5} + 4q^{4} + 3q^{3} + 2q^{2} + q + 1</script></html>"
      ],
      "text/plain": [
       "q^12 + q^11 + 2*q^10 + 3*q^9 + 4*q^8 + 4*q^7 + 5*q^6 + 4*q^5 + 4*q^4 + 3*q^3 + 2*q^2 + q + 1"
      ]
     },
     "execution_count": 77,
     "metadata": {},
     "output_type": "execute_result"
    }
   ],
   "source": [
    "q_binomial(7,3)"
   ]
  },
  {
   "cell_type": "code",
   "execution_count": 78,
   "metadata": {
    "collapsed": false,
    "deletable": true,
    "editable": true
   },
   "outputs": [
    {
     "data": {
      "text/html": [
       "<html><script type=\"math/tex; mode=display\">\\newcommand{\\Bold}[1]{\\mathbf{#1}}q^{2}s_{2,2} + \\left(q^{3} + q^{2} + q\\right)s_{3,1} + \\left(q^{4} + q^{3} + q^{2} + q + 1\\right)s_{4}</script></html>"
      ],
      "text/plain": [
       "q^2*s22 + (q^3+q^2+q)*s31 + (q^4+q^3+q^2+q+1)*s4"
      ]
     },
     "execution_count": 78,
     "metadata": {},
     "output_type": "execute_result"
    }
   ],
   "source": [
    "s[4](X*(1+q))"
   ]
  },
  {
   "cell_type": "code",
   "execution_count": 79,
   "metadata": {
    "collapsed": false,
    "deletable": true,
    "editable": true
   },
   "outputs": [
    {
     "data": {
      "text/html": [
       "<html><script type=\"math/tex; mode=display\">\\newcommand{\\Bold}[1]{\\mathbf{#1}}\\left((q - 1)^{-4} \\cdot (q + 1)^{-2} \\cdot q^{6} \\cdot (q^{2} + 1)^{-1} \\cdot (q^{2} + q + 1)^{-1}\\right)s_{1,1,1,1} + \\left((q - 1)^{-4} \\cdot (q + 1)^{-2} \\cdot q^{2} \\cdot (q^{2} + q + 1)^{-1}\\right)s_{2,2} + \\left((q - 1)^{-4} \\cdot (q + 1)^{-2} \\cdot q^{3} \\cdot (q^{2} + 1)^{-1}\\right)s_{2,1,1} + \\left((q - 1)^{-4} \\cdot (q + 1)^{-2} \\cdot q \\cdot (q^{2} + 1)^{-1}\\right)s_{3,1} + \\left((q - 1)^{-4} \\cdot (q + 1)^{-2} \\cdot (q^{2} + 1)^{-1} \\cdot (q^{2} + q + 1)^{-1}\\right)s_{4}</script></html>"
      ],
      "text/plain": [
       "((q-1)^-4*(q+1)^-2*q^6*(q^2+1)^-1*(q^2+q+1)^-1)*s1111 + ((q-1)^-4*(q+1)^-2*q^2*(q^2+q+1)^-1)*s22 + ((q-1)^-4*(q+1)^-2*q^3*(q^2+1)^-1)*s211 + ((q-1)^-4*(q+1)^-2*q*(q^2+1)^-1)*s31 + ((q-1)^-4*(q+1)^-2*(q^2+1)^-1*(q^2+q+1)^-1)*s4"
      ]
     },
     "execution_count": 79,
     "metadata": {},
     "output_type": "execute_result"
    }
   ],
   "source": [
    "s[4](X/(1-q)).map_coefficients(factor)"
   ]
  },
  {
   "cell_type": "code",
   "execution_count": 80,
   "metadata": {
    "collapsed": false,
    "deletable": true,
    "editable": true
   },
   "outputs": [
    {
     "data": {
      "text/html": [
       "<html><script type=\"math/tex; mode=display\">\\newcommand{\\Bold}[1]{\\mathbf{#1}}s_{4,4,4} + s_{6,4,2} + s_{7,4,1} + s_{8,2,2} + s_{9,3}</script></html>"
      ],
      "text/plain": [
       "s444 + s642 + s741 + s822 + s93"
      ]
     },
     "execution_count": 80,
     "metadata": {},
     "output_type": "execute_result"
    }
   ],
   "source": [
    "s[3](s[4])-s[2](s[6])"
   ]
  },
  {
   "cell_type": "markdown",
   "metadata": {
    "deletable": true,
    "editable": true
   },
   "source": [
    "Suggests that we have the following positive coefficient polynomial"
   ]
  },
  {
   "cell_type": "code",
   "execution_count": 81,
   "metadata": {
    "collapsed": false,
    "deletable": true,
    "editable": true
   },
   "outputs": [
    {
     "data": {
      "text/html": [
       "<html><script type=\"math/tex; mode=display\">\\newcommand{\\Bold}[1]{\\mathbf{#1}}q^{9} + q^{8} + q^{7} + q^{6} + q^{5} + q^{4} + q^{3}</script></html>"
      ],
      "text/plain": [
       "q^9 + q^8 + q^7 + q^6 + q^5 + q^4 + q^3"
      ]
     },
     "execution_count": 81,
     "metadata": {},
     "output_type": "execute_result"
    }
   ],
   "source": [
    "q_binomial(7,3)-q_binomial(8,2)"
   ]
  },
  {
   "cell_type": "markdown",
   "metadata": {
    "deletable": true,
    "editable": true
   },
   "source": [
    "## Schur Positivity\n",
    "\n",
    "When computing with symmetric functions, one often wants to check a given symmetric function is Schur positive or not. In our current setup, this means that coefficients polynomials in $\\mathbb{N}[q,t]$. The following function returns `True` if the given symmetric function is Schur positive and `False` if not."
   ]
  },
  {
   "cell_type": "code",
   "execution_count": 82,
   "metadata": {
    "collapsed": false,
    "deletable": true,
    "editable": true
   },
   "outputs": [
    {
     "name": "stdout",
     "output_type": "stream",
     "text": [
      "True\n"
     ]
    }
   ],
   "source": [
    "f = s([4,1])+s([3,2])\n",
    "print(f.is_schur_positive())"
   ]
  },
  {
   "cell_type": "code",
   "execution_count": 83,
   "metadata": {
    "collapsed": false,
    "deletable": true,
    "editable": true
   },
   "outputs": [
    {
     "name": "stdout",
     "output_type": "stream",
     "text": [
      "False\n"
     ]
    }
   ],
   "source": [
    "g = s([4,1])-s([3,2])\n",
    "print(g.is_schur_positive())"
   ]
  },
  {
   "cell_type": "markdown",
   "metadata": {
    "deletable": true,
    "editable": true
   },
   "source": [
    "For example, we can verify the well-known Schur positivity of product of Schur functions."
   ]
  },
  {
   "cell_type": "code",
   "execution_count": 84,
   "metadata": {
    "collapsed": false,
    "deletable": true,
    "editable": true
   },
   "outputs": [
    {
     "name": "stdout",
     "output_type": "stream",
     "text": [
      "('The product of ', s2, ' and ', s3, ' is Schur positive.')\n",
      "('The product of ', s2, ' and ', s21, ' is Schur positive.')\n",
      "('The product of ', s2, ' and ', s111, ' is Schur positive.')\n",
      "('The product of ', s11, ' and ', s3, ' is Schur positive.')\n",
      "('The product of ', s11, ' and ', s21, ' is Schur positive.')\n",
      "('The product of ', s11, ' and ', s111, ' is Schur positive.')\n"
     ]
    }
   ],
   "source": [
    "for mu in Partitions(2) :\n",
    "    for nu in Partitions(3) :\n",
    "        if (s(mu)*s(nu)).is_schur_positive() :\n",
    "            print('The product of ', s(mu),' and ',s(nu),' is Schur positive.')\n",
    "        else :\n",
    "            print('The product of ', s(mu),' and ',s(nu),'is not Schur positive.')"
   ]
  },
  {
   "cell_type": "markdown",
   "metadata": {
    "deletable": true,
    "editable": true
   },
   "source": [
    "**Exercise**\n",
    "\n",
    "*Its representation theoretic signification implies that $\\nabla (e_n)$ is Schur positive. Verify this for $1 \\leq n \\leq 6$.*\n",
    "\n",
    "**Solution**"
   ]
  },
  {
   "cell_type": "code",
   "execution_count": 85,
   "metadata": {
    "collapsed": false,
    "deletable": true,
    "editable": true
   },
   "outputs": [
    {
     "name": "stdout",
     "output_type": "stream",
     "text": [
      "True\n",
      "True\n",
      "True\n",
      "True\n",
      "True\n",
      "True\n"
     ]
    }
   ],
   "source": [
    "e = Symqt.e()\n",
    "for n in range(1,7) :\n",
    "    print(e([n]).nabla().is_schur_positive())"
   ]
  },
  {
   "cell_type": "markdown",
   "metadata": {
    "deletable": true,
    "editable": true
   },
   "source": [
    "Schur positivity is a rare phenomena in general, but symmetric functions that come from representation theory are Schur positive. One can show that the probability that a degree $n$ monomial positive is Schur positive is equal to\n",
    "\n",
    "$$\\prod_{\\mu\\vdash n}\\frac{1}{k_\\mu},\\qquad {\\rm where}\\qquad k_\\mu:=\\sum_{\\nu\\vdash n} K_{\\mu,\\nu},$$\n",
    "\n",
    "with $K_{\\mu,\\nu}$ the **Kostka numbers**. Recall that these occur in the expansion of the Schur functions in terms of the monomial functions:\n",
    "\n",
    "$$s_\\mu=\\sum_\\nu K_{\\mu,\\nu}\\, m_\\nu.$$\n",
    "\n",
    "For instance, we have"
   ]
  },
  {
   "cell_type": "code",
   "execution_count": 86,
   "metadata": {
    "collapsed": false,
    "deletable": true,
    "editable": true
   },
   "outputs": [
    {
     "data": {
      "text/html": [
       "<html><script type=\"math/tex; mode=display\">\\newcommand{\\Bold}[1]{\\mathbf{#1}}5m_{1,1,1,1,1} + 3m_{2,1,1,1} + 2m_{2,2,1} + m_{3,1,1} + m_{3,2}</script></html>"
      ],
      "text/plain": [
       "5*m11111 + 3*m2111 + 2*m221 + m311 + m32"
      ]
     },
     "execution_count": 86,
     "metadata": {},
     "output_type": "execute_result"
    }
   ],
   "source": [
    "m(s[3,2])"
   ]
  },
  {
   "cell_type": "markdown",
   "metadata": {
    "deletable": true,
    "editable": true
   },
   "source": [
    "hence defining"
   ]
  },
  {
   "cell_type": "code",
   "execution_count": 87,
   "metadata": {
    "collapsed": true,
    "deletable": true,
    "editable": true
   },
   "outputs": [],
   "source": [
    "def K(mu,nu):\n",
    "    return s(mu).scalar(h(nu))"
   ]
  },
  {
   "cell_type": "markdown",
   "metadata": {
    "deletable": true,
    "editable": true
   },
   "source": [
    "so that the above expression is indeed seen to be"
   ]
  },
  {
   "cell_type": "code",
   "execution_count": 88,
   "metadata": {
    "collapsed": false,
    "deletable": true,
    "editable": true
   },
   "outputs": [
    {
     "data": {
      "text/html": [
       "<html><script type=\"math/tex; mode=display\">\\newcommand{\\Bold}[1]{\\mathbf{#1}}5m_{1,1,1,1,1} + 3m_{2,1,1,1} + 2m_{2,2,1} + m_{3,1,1} + m_{3,2}</script></html>"
      ],
      "text/plain": [
       "5*m11111 + 3*m2111 + 2*m221 + m311 + m32"
      ]
     },
     "execution_count": 88,
     "metadata": {},
     "output_type": "execute_result"
    }
   ],
   "source": [
    "add(K([3,2],nu)*m(nu) for nu in Partitions(5))"
   ]
  },
  {
   "cell_type": "markdown",
   "metadata": {
    "deletable": true,
    "editable": true
   },
   "source": [
    "Now, we set"
   ]
  },
  {
   "cell_type": "code",
   "execution_count": 89,
   "metadata": {
    "collapsed": true,
    "deletable": true,
    "editable": true
   },
   "outputs": [],
   "source": [
    "def k(mu):\n",
    "    n=add(j for j in mu)\n",
    "    return add(K(mu,nu) for nu in Partitions(n))"
   ]
  },
  {
   "cell_type": "markdown",
   "metadata": {
    "deletable": true,
    "editable": true
   },
   "source": [
    "so that the above probability is calculated by the function"
   ]
  },
  {
   "cell_type": "code",
   "execution_count": 90,
   "metadata": {
    "collapsed": true,
    "deletable": true,
    "editable": true
   },
   "outputs": [],
   "source": [
    "def prob_Schur_positive(n): return 1/mul(k(mu) for mu in Partitions(n))"
   ]
  },
  {
   "cell_type": "markdown",
   "metadata": {
    "deletable": true,
    "editable": true
   },
   "source": [
    "One can then illustrate how very rare Schur-positivity is, as a function of the degree:"
   ]
  },
  {
   "cell_type": "code",
   "execution_count": 91,
   "metadata": {
    "collapsed": false,
    "deletable": true,
    "editable": true
   },
   "outputs": [
    {
     "data": {
      "text/html": [
       "<html><script type=\"math/tex; mode=display\">\\newcommand{\\Bold}[1]{\\mathbf{#1}}\\left[1, \\frac{1}{2}, \\frac{1}{9}, \\frac{1}{560}, \\frac{1}{480480}, \\frac{1}{1027458432000}, \\frac{1}{2465474364698304960000}\\right]</script></html>"
      ],
      "text/plain": [
       "[1, 1/2, 1/9, 1/560, 1/480480, 1/1027458432000, 1/2465474364698304960000]"
      ]
     },
     "execution_count": 91,
     "metadata": {},
     "output_type": "execute_result"
    }
   ],
   "source": [
    "[prob_Schur_positive(n) for n in range(1,8)]"
   ]
  },
  {
   "cell_type": "markdown",
   "metadata": {
    "deletable": true,
    "editable": true
   },
   "source": [
    "The first part of this tutorial was meant to present general use of symmetric functions in Sage. Here are now more specific applications.\n",
    "\n",
    "Sage knows certain categorical information about this algebra."
   ]
  },
  {
   "cell_type": "code",
   "execution_count": 92,
   "metadata": {
    "collapsed": false,
    "deletable": true,
    "editable": true
   },
   "outputs": [
    {
     "data": {
      "text/html": [
       "<html><script type=\"math/tex; mode=display\">\\newcommand{\\Bold}[1]{\\mathbf{#1}}\\mathbf{JoinCategory}</script></html>"
      ],
      "text/plain": [
       "Join of Category of hopf algebras over Rational Field and Category of graded algebras over Rational Field and Category of monoids with realizations and Category of coalgebras over Rational Field with realizations"
      ]
     },
     "execution_count": 92,
     "metadata": {},
     "output_type": "execute_result"
    }
   ],
   "source": [
    "Sym.category()"
   ]
  },
  {
   "cell_type": "markdown",
   "metadata": {
    "deletable": true,
    "editable": true
   },
   "source": [
    "Let us explore the other operations of $p$. We can ask for the mathematical properties of $p$."
   ]
  },
  {
   "cell_type": "code",
   "execution_count": 93,
   "metadata": {
    "collapsed": false,
    "deletable": true,
    "editable": true
   },
   "outputs": [
    {
     "data": {
      "text/html": [
       "<html><script type=\"math/tex; mode=display\">\\newcommand{\\Bold}[1]{\\mathbf{#1}}\\left[\\mathbf{GradedSymmetricFunctionsBases}_{\\verb|Symmetric|\\phantom{\\verb!x!}\\verb|Functions|\\phantom{\\verb!x!}\\verb|over|\\phantom{\\verb!x!}\\verb|Fraction|\\phantom{\\verb!x!}\\verb|Field|\\phantom{\\verb!x!}\\verb|of|\\phantom{\\verb!x!}\\verb|Multivariate|\\phantom{\\verb!x!}\\verb|Polynomial|\\phantom{\\verb!x!}\\verb|Ring|\\phantom{\\verb!x!}\\verb|in|\\phantom{\\verb!x!}\\verb|q,|\\phantom{\\verb!x!}\\verb|t|\\phantom{\\verb!x!}\\verb|over|\\phantom{\\verb!x!}\\verb|Rational|\\phantom{\\verb!x!}\\verb|Field|}, \\mathbf{FilteredSymmetricFunctionsBases}_{\\verb|Symmetric|\\phantom{\\verb!x!}\\verb|Functions|\\phantom{\\verb!x!}\\verb|over|\\phantom{\\verb!x!}\\verb|Fraction|\\phantom{\\verb!x!}\\verb|Field|\\phantom{\\verb!x!}\\verb|of|\\phantom{\\verb!x!}\\verb|Multivariate|\\phantom{\\verb!x!}\\verb|Polynomial|\\phantom{\\verb!x!}\\verb|Ring|\\phantom{\\verb!x!}\\verb|in|\\phantom{\\verb!x!}\\verb|q,|\\phantom{\\verb!x!}\\verb|t|\\phantom{\\verb!x!}\\verb|over|\\phantom{\\verb!x!}\\verb|Rational|\\phantom{\\verb!x!}\\verb|Field|}, \\mathbf{SymmetricFunctionsBases}_{\\verb|Symmetric|\\phantom{\\verb!x!}\\verb|Functions|\\phantom{\\verb!x!}\\verb|over|\\phantom{\\verb!x!}\\verb|Fraction|\\phantom{\\verb!x!}\\verb|Field|\\phantom{\\verb!x!}\\verb|of|\\phantom{\\verb!x!}\\verb|Multivariate|\\phantom{\\verb!x!}\\verb|Polynomial|\\phantom{\\verb!x!}\\verb|Ring|\\phantom{\\verb!x!}\\verb|in|\\phantom{\\verb!x!}\\verb|q,|\\phantom{\\verb!x!}\\verb|t|\\phantom{\\verb!x!}\\verb|over|\\phantom{\\verb!x!}\\verb|Rational|\\phantom{\\verb!x!}\\verb|Field|}, \\mathbf{GradedHopfAlgebrasWithBasis}(\\mathbf{HopfAlgebrasWithBasis}_{\\mathrm{Frac}(\\Bold{Q}[q, t])}), \\mathbf{HopfAlgebrasWithBasis}_{\\mathrm{Frac}(\\Bold{Q}[q, t])}, \\mathbf{Realizations}(\\mathbf{HopfAlgebras}_{\\mathrm{Frac}(\\Bold{Q}[q, t])}), \\mathbf{HopfAlgebras}_{\\mathrm{Frac}(\\Bold{Q}[q, t])}, \\mathbf{GradedAlgebrasWithBasis}(\\mathbf{AlgebrasWithBasis}_{\\mathrm{Frac}(\\Bold{Q}[q, t])}), \\mathbf{FilteredAlgebrasWithBasis}(\\mathbf{AlgebrasWithBasis}_{\\mathrm{Frac}(\\Bold{Q}[q, t])}), \\mathbf{BialgebrasWithBasis}_{\\mathrm{Frac}(\\Bold{Q}[q, t])}, \\mathbf{AlgebrasWithBasis}_{\\mathrm{Frac}(\\Bold{Q}[q, t])}, \\mathbf{GradedAlgebras}(\\mathbf{Algebras}_{\\mathrm{Frac}(\\Bold{Q}[q, t])}), \\mathbf{CommutativeAlgebras}_{\\mathrm{Frac}(\\Bold{Q}[q, t])}, \\mathbf{FilteredAlgebras}(\\mathbf{Algebras}_{\\mathrm{Frac}(\\Bold{Q}[q, t])}), \\mathbf{Bialgebras}_{\\mathrm{Frac}(\\Bold{Q}[q, t])}, \\mathbf{Algebras}_{\\mathrm{Frac}(\\Bold{Q}[q, t])}, \\mathbf{CommutativeRings}, \\mathbf{Rings}, \\mathbf{AssociativeAlgebras}_{\\mathrm{Frac}(\\Bold{Q}[q, t])}, \\mathbf{Rngs}, \\mathbf{Semirings}, \\mathbf{Associative}, \\mathbf{WithBasis}_{\\mathrm{Frac}(\\Bold{Q}[q, t])}, \\mathbf{WithBasis}_{\\mathrm{Frac}(\\Bold{Q}[q, t])}, \\mathbf{UnitalAlgebras}_{\\mathrm{Frac}(\\Bold{Q}[q, t])}, \\mathbf{MagmaticAlgebras}_{\\mathrm{Frac}(\\Bold{Q}[q, t])}, \\mathbf{AdditiveUnital}, \\mathbf{AdditiveCommutative}, \\mathbf{AdditiveAssociative}, \\mathbf{DistributiveMagmasAndAdditiveMagmas}, \\mathbf{MagmasAndAdditiveMagmas}, \\mathbf{Commutative}, \\mathbf{Monoids}, \\mathbf{Semigroups}, \\mathbf{Realizations}(\\mathbf{Unital}), \\mathbf{Realizations}(\\mathbf{Magmas}), \\mathbf{Commutative}, \\mathbf{Unital}, \\mathbf{Magmas}, \\mathbf{GradedModulesWithBasis}(\\mathbf{ModulesWithBasis}_{\\mathrm{Frac}(\\Bold{Q}[q, t])}), \\mathbf{FilteredModulesWithBasis}(\\mathbf{ModulesWithBasis}_{\\mathrm{Frac}(\\Bold{Q}[q, t])}), \\mathbf{CoalgebrasWithBasis}_{\\mathrm{Frac}(\\Bold{Q}[q, t])}, \\mathbf{WithBasis}_{\\mathrm{Frac}(\\Bold{Q}[q, t])}, \\mathbf{ModulesWithBasis}_{\\mathrm{Frac}(\\Bold{Q}[q, t])}, \\mathbf{GradedModules}(\\mathbf{Modules}_{\\mathrm{Frac}(\\Bold{Q}[q, t])}), \\mathbf{Realizations}(\\mathbf{Coalgebras}_{\\mathrm{Frac}(\\Bold{Q}[q, t])}), \\mathbf{FilteredModules}(\\mathbf{Modules}_{\\mathrm{Frac}(\\Bold{Q}[q, t])}), \\mathbf{Coalgebras}_{\\mathrm{Frac}(\\Bold{Q}[q, t])}, \\mathbf{VectorSpaces}_{\\mathrm{Frac}(\\Bold{Q}[q, t])}, \\mathbf{Modules}_{\\mathrm{Frac}(\\Bold{Q}[q, t])}, {\\mathbf{Bimodules}}_{\\mathrm{Frac}(\\Bold{Q}[q, t]), \\mathrm{Frac}(\\Bold{Q}[q, t])}, \\mathbf{RightModules}_{\\mathrm{Frac}(\\Bold{Q}[q, t])}, \\mathbf{LeftModules}_{\\mathrm{Frac}(\\Bold{Q}[q, t])}, \\mathbf{CommutativeAdditiveGroups}, \\mathbf{AdditiveGroups}, \\mathbf{AdditiveInverse}, \\mathbf{CommutativeAdditiveMonoids}, \\mathbf{AdditiveMonoids}, \\mathbf{AdditiveUnital}, \\mathbf{CommutativeAdditiveSemigroups}, \\mathbf{AdditiveCommutative}, \\mathbf{AdditiveSemigroups}, \\mathbf{AdditiveMagmas}, \\mathbf{Realizations}_{\\verb|Symmetric|\\phantom{\\verb!x!}\\verb|Functions|\\phantom{\\verb!x!}\\verb|over|\\phantom{\\verb!x!}\\verb|Fraction|\\phantom{\\verb!x!}\\verb|Field|\\phantom{\\verb!x!}\\verb|of|\\phantom{\\verb!x!}\\verb|Multivariate|\\phantom{\\verb!x!}\\verb|Polynomial|\\phantom{\\verb!x!}\\verb|Ring|\\phantom{\\verb!x!}\\verb|in|\\phantom{\\verb!x!}\\verb|q,|\\phantom{\\verb!x!}\\verb|t|\\phantom{\\verb!x!}\\verb|over|\\phantom{\\verb!x!}\\verb|Rational|\\phantom{\\verb!x!}\\verb|Field|}, \\mathbf{Realizations}(\\mathbf{Sets}), \\mathbf{Sets}, \\mathbf{SetsWithPartialMaps}, \\mathbf{Objects}\\right]</script></html>"
      ],
      "text/plain": [
       "[Category of graded bases of Symmetric Functions over Fraction Field of Multivariate Polynomial Ring in q, t over Rational Field,\n",
       " Category of filtered bases of Symmetric Functions over Fraction Field of Multivariate Polynomial Ring in q, t over Rational Field,\n",
       " Category of bases of Symmetric Functions over Fraction Field of Multivariate Polynomial Ring in q, t over Rational Field,\n",
       " Category of graded hopf algebras with basis over Fraction Field of Multivariate Polynomial Ring in q, t over Rational Field,\n",
       " Category of hopf algebras with basis over Fraction Field of Multivariate Polynomial Ring in q, t over Rational Field,\n",
       " Category of realizations of hopf algebras over Fraction Field of Multivariate Polynomial Ring in q, t over Rational Field,\n",
       " Category of hopf algebras over Fraction Field of Multivariate Polynomial Ring in q, t over Rational Field,\n",
       " Category of graded algebras with basis over Fraction Field of Multivariate Polynomial Ring in q, t over Rational Field,\n",
       " Category of filtered algebras with basis over Fraction Field of Multivariate Polynomial Ring in q, t over Rational Field,\n",
       " Category of bialgebras with basis over Fraction Field of Multivariate Polynomial Ring in q, t over Rational Field,\n",
       " Category of algebras with basis over Fraction Field of Multivariate Polynomial Ring in q, t over Rational Field,\n",
       " Category of graded algebras over Fraction Field of Multivariate Polynomial Ring in q, t over Rational Field,\n",
       " Category of commutative algebras over Fraction Field of Multivariate Polynomial Ring in q, t over Rational Field,\n",
       " Category of filtered algebras over Fraction Field of Multivariate Polynomial Ring in q, t over Rational Field,\n",
       " Category of bialgebras over Fraction Field of Multivariate Polynomial Ring in q, t over Rational Field,\n",
       " Category of algebras over Fraction Field of Multivariate Polynomial Ring in q, t over Rational Field,\n",
       " Category of commutative rings,\n",
       " Category of rings,\n",
       " Category of associative algebras over Fraction Field of Multivariate Polynomial Ring in q, t over Rational Field,\n",
       " Category of rngs,\n",
       " Category of semirings,\n",
       " Category of associative additive commutative additive associative additive unital distributive magmas and additive magmas,\n",
       " Category of unital algebras with basis over Fraction Field of Multivariate Polynomial Ring in q, t over Rational Field,\n",
       " Category of magmatic algebras with basis over Fraction Field of Multivariate Polynomial Ring in q, t over Rational Field,\n",
       " Category of unital algebras over Fraction Field of Multivariate Polynomial Ring in q, t over Rational Field,\n",
       " Category of magmatic algebras over Fraction Field of Multivariate Polynomial Ring in q, t over Rational Field,\n",
       " Category of additive commutative additive associative additive unital distributive magmas and additive magmas,\n",
       " Category of additive commutative additive associative distributive magmas and additive magmas,\n",
       " Category of additive associative distributive magmas and additive magmas,\n",
       " Category of distributive magmas and additive magmas,\n",
       " Category of magmas and additive magmas,\n",
       " Category of commutative monoids,\n",
       " Category of monoids,\n",
       " Category of semigroups,\n",
       " Category of realizations of unital magmas,\n",
       " Category of realizations of magmas,\n",
       " Category of commutative magmas,\n",
       " Category of unital magmas,\n",
       " Category of magmas,\n",
       " Category of graded modules with basis over Fraction Field of Multivariate Polynomial Ring in q, t over Rational Field,\n",
       " Category of filtered modules with basis over Fraction Field of Multivariate Polynomial Ring in q, t over Rational Field,\n",
       " Category of coalgebras with basis over Fraction Field of Multivariate Polynomial Ring in q, t over Rational Field,\n",
       " Category of vector spaces with basis over Fraction Field of Multivariate Polynomial Ring in q, t over Rational Field,\n",
       " Category of modules with basis over Fraction Field of Multivariate Polynomial Ring in q, t over Rational Field,\n",
       " Category of graded modules over Fraction Field of Multivariate Polynomial Ring in q, t over Rational Field,\n",
       " Category of realizations of coalgebras over Fraction Field of Multivariate Polynomial Ring in q, t over Rational Field,\n",
       " Category of filtered modules over Fraction Field of Multivariate Polynomial Ring in q, t over Rational Field,\n",
       " Category of coalgebras over Fraction Field of Multivariate Polynomial Ring in q, t over Rational Field,\n",
       " Category of vector spaces over Fraction Field of Multivariate Polynomial Ring in q, t over Rational Field,\n",
       " Category of modules over Fraction Field of Multivariate Polynomial Ring in q, t over Rational Field,\n",
       " Category of bimodules over Fraction Field of Multivariate Polynomial Ring in q, t over Rational Field on the left and Fraction Field of Multivariate Polynomial Ring in q, t over Rational Field on the right,\n",
       " Category of right modules over Fraction Field of Multivariate Polynomial Ring in q, t over Rational Field,\n",
       " Category of left modules over Fraction Field of Multivariate Polynomial Ring in q, t over Rational Field,\n",
       " Category of commutative additive groups,\n",
       " Category of additive groups,\n",
       " Category of additive inverse additive unital additive magmas,\n",
       " Category of commutative additive monoids,\n",
       " Category of additive monoids,\n",
       " Category of additive unital additive magmas,\n",
       " Category of commutative additive semigroups,\n",
       " Category of additive commutative additive magmas,\n",
       " Category of additive semigroups,\n",
       " Category of additive magmas,\n",
       " Category of realizations of Symmetric Functions over Fraction Field of Multivariate Polynomial Ring in q, t over Rational Field,\n",
       " Category of realizations of sets,\n",
       " Category of sets,\n",
       " Category of sets with partial maps,\n",
       " Category of objects]"
      ]
     },
     "execution_count": 93,
     "metadata": {},
     "output_type": "execute_result"
    }
   ],
   "source": [
    "p.categories()"
   ]
  },
  {
   "cell_type": "markdown",
   "metadata": {
    "deletable": true,
    "editable": true
   },
   "source": [
    "To start with, $p$ is a graded algebra, the grading being induced by the size of the partitions. Due to this, the one is the basis element indexed by the empty partition:"
   ]
  },
  {
   "cell_type": "code",
   "execution_count": null,
   "metadata": {
    "collapsed": false,
    "deletable": true,
    "editable": true
   },
   "outputs": [
    {
     "data": {
      "text/plain": [
       "p"
      ]
     },
     "execution_count": 1,
     "metadata": {},
     "output_type": "execute_result"
    }
   ],
   "source": [
    "p.one()"
   ]
  },
  {
   "cell_type": "markdown",
   "metadata": {
    "deletable": true,
    "editable": true
   },
   "source": [
    "Note also that it is a good idea to use:"
   ]
  },
  {
   "cell_type": "code",
   "execution_count": null,
   "metadata": {
    "collapsed": false,
    "deletable": true,
    "editable": true
   },
   "outputs": [
    {
     "data": {
      "text/plain": [
       "s"
      ]
     },
     "execution_count": 1,
     "metadata": {},
     "output_type": "execute_result"
    }
   ],
   "source": [
    "s.one()"
   ]
  },
  {
   "cell_type": "code",
   "execution_count": null,
   "metadata": {
    "collapsed": false,
    "deletable": true,
    "editable": true
   },
   "outputs": [
    {
     "data": {
      "text/plain": [
       "0"
      ]
     },
     "execution_count": 1,
     "metadata": {},
     "output_type": "execute_result"
    }
   ],
   "source": [
    "s.zero()"
   ]
  },
  {
   "cell_type": "markdown",
   "metadata": {
    "deletable": true,
    "editable": true
   },
   "source": [
    "instead of $s(1)$ and $s(0)$ within programs where speed is important, in order to prevent unnecessary coercions.\n",
    "\n",
    "## Hopf structure and important identities\n",
    "\n",
    "Many important identities between symmetric functions can be linked to \"the\" Hopf algebra structure on the ring of symmetric function. In part, this means that we have a **coproduct** on symmetric functions that may be described in either of the two forms:\n",
    "\n",
    "$$\\Delta(g) = \\sum_{k+j=n}\\sum_{\\mu\\vdash k,\\ \\nu\\vdash j} a_{\\mu,\\nu}\\, s_\\mu\\otimes s_\\nu$$\n",
    "\n",
    "$$g(\\mathbf{x}+\\mathbf{y})= \\sum_{k+j=n}\\sum_{\\mu\\vdash k,\\ \\nu\\vdash j} a_{\\mu,\\nu}\\, s_\\mu(\\mathbf{x}) s_\\nu(\\mathbf{y})$$\n",
    "\n",
    "For instance, we have"
   ]
  },
  {
   "cell_type": "code",
   "execution_count": null,
   "metadata": {
    "collapsed": false,
    "deletable": true,
    "editable": true
   },
   "outputs": [
    {
     "data": {
      "text/plain": [
       "s # s321 + s1 # s221 + s1 # s311 + s1 # s32 + s11 # s211 + s11 # s22 + s11 # s31 + s111 # s21 + s2 # s211 + s2 # s22 + s2 # s31 + s21 # s111 + 2*s21 # s21 + s21 # s3 + s211 # s11 + s211 # s2 + s22 # s11 + s22 # s2 + s221 # s1 + s3 # s21 + s31 # s11 + s31 # s2 + s311 # s1 + s32 # s1 + s321 # s"
      ]
     },
     "execution_count": 1,
     "metadata": {},
     "output_type": "execute_result"
    }
   ],
   "source": [
    "s[3,2,1].coproduct()"
   ]
  },
  {
   "cell_type": "markdown",
   "metadata": {
    "deletable": true,
    "editable": true
   },
   "source": [
    "**Skew Schur fonctions** arise when one considers the effect of coproduct on Schur functions themselves\n",
    "\n",
    "$$\\Delta(s_\\lambda) = \\sum_{\\mu\\subseteq \\lambda} s_{\\lambda/\\mu}\\otimes s_\\mu.$$\n",
    "\n",
    "Skew Schur functions are also implemented in SAGE. For instance, we have the skew Schur $s_{321/2}$."
   ]
  },
  {
   "cell_type": "code",
   "execution_count": null,
   "metadata": {
    "collapsed": false,
    "deletable": true,
    "editable": true
   },
   "outputs": [
    {
     "data": {
      "text/plain": [
       "s211 + s22 + s31"
      ]
     },
     "execution_count": 1,
     "metadata": {},
     "output_type": "execute_result"
    }
   ],
   "source": [
    "s[3,2,1].skew_by(s[2])"
   ]
  },
  {
   "cell_type": "markdown",
   "metadata": {
    "deletable": true,
    "editable": true
   },
   "source": [
    "Thus we get the same result as above."
   ]
  },
  {
   "cell_type": "code",
   "execution_count": null,
   "metadata": {
    "collapsed": false,
    "deletable": true,
    "editable": true
   },
   "outputs": [
    {
     "data": {
      "text/plain": [
       "s # s321 + s1 # s221 + s1 # s311 + s1 # s32 + s11 # s211 + s11 # s22 + s11 # s31 + s111 # s21 + s2 # s211 + s2 # s22 + s2 # s31 + s21 # s111 + 2*s21 # s21 + s21 # s3 + s211 # s11 + s211 # s2 + s22 # s11 + s22 # s2 + s221 # s1 + s3 # s21 + s31 # s11 + s31 # s2 + s311 # s1 + s32 # s1 + s321 # s"
      ]
     },
     "execution_count": 1,
     "metadata": {},
     "output_type": "execute_result"
    }
   ],
   "source": [
    "add(tensor([s[3,2,1].skew_by(s(mu)),s(mu)]) for k in range(7) for mu in Partitions(k))"
   ]
  },
  {
   "cell_type": "markdown",
   "metadata": {
    "deletable": true,
    "editable": true
   },
   "source": [
    "In particular, we get\n",
    "\n",
    "$$\\Delta(h_n) = \\sum_{k+j=n} h_k\\otimes h_j.$$"
   ]
  },
  {
   "cell_type": "code",
   "execution_count": null,
   "metadata": {
    "collapsed": false,
    "deletable": true,
    "editable": true
   },
   "outputs": [
    {
     "data": {
      "text/plain": [
       "h # h4 + h1 # h3 + h2 # h2 + h3 # h1 + h4 # h"
      ]
     },
     "execution_count": 1,
     "metadata": {},
     "output_type": "execute_result"
    }
   ],
   "source": [
    "h[4].coproduct()"
   ]
  },
  {
   "cell_type": "markdown",
   "metadata": {
    "deletable": true,
    "editable": true
   },
   "source": [
    "## Cauchy kernel formula\n",
    "\n",
    "The Cauchy kernel is the expression\n",
    "\n",
    "$$\\sum_{n\\geq 0} h_n(\\mathbf{x}\\mathbf{y})=\\prod_{i,j}\\frac{1}{1-x_iy_j}$$\n",
    "\n",
    "written here using plethystic notation. Its degree $n$ homogeneous component plays a crucial role in the description of \"dual bases\" with respect to the scalar product. We have\n",
    "\n",
    "$$h_n(\\mathbf{x}\\mathbf{y})=\\sum_{\\mu\\vdash n} F_\\mu\\otimes G_\\mu\n",
    " \\qquad {\\rm iff}\\qquad\n",
    " \\langle F_\\mu,G_\\lambda\\rangle=\\delta_{\\mu\\lambda}, \\qquad\n",
    " (\\delta_{\\mu \\lambda}:\\ \\hbox{Kronecker \"delta\"})`$$\n",
    "\n",
    "where one \"thinks\" $\\mathbf{x}=s_1\\otimes \\mathbb{1}$ and $\\mathbf{y}= \\mathbb{1}\\otimes s_1$. One says that $\\{F_\\mu\\}_\\mu$ and $\\{G_\\lambda\\}_\\lambda$ are **dual bases**. Schur functions are self dual, the dual of the $h_{\\mu}$ are the $m_\\mu$, that of the $p_\\mu$ are the $p_{\\mu}/z_{\\mu}$. The \"forgotten\" symmetric function $f_{\\mu}$ appear as the dual of the $e_{\\mu}$."
   ]
  },
  {
   "cell_type": "code",
   "execution_count": null,
   "metadata": {
    "collapsed": false,
    "deletable": true,
    "editable": true
   },
   "outputs": [
    {
     "data": {
      "text/plain": [
       "s1111 # s1111 + s211 # s211 + s22 # s22 + s31 # s31 + s4 # s4 "
      ]
     },
     "execution_count": 1,
     "metadata": {},
     "output_type": "execute_result"
    }
   ],
   "source": [
    "h4xy=add(tensor([s(mu),s(mu)]) for mu in Partitions(4)); h4xy"
   ]
  },
  {
   "cell_type": "code",
   "execution_count": null,
   "metadata": {
    "collapsed": false,
    "deletable": true,
    "editable": true
   },
   "outputs": [
    {
     "data": {
      "text/plain": [
       "h1111 # m1111 + h211 # m211 + h22 # m22 + h31 # m31 + h4 # m4"
      ]
     },
     "execution_count": 1,
     "metadata": {},
     "output_type": "execute_result"
    }
   ],
   "source": [
    "tensor([h,m])(h4xy)"
   ]
  },
  {
   "cell_type": "code",
   "execution_count": null,
   "metadata": {
    "collapsed": false,
    "deletable": true,
    "editable": true
   },
   "outputs": [
    {
     "data": {
      "text/plain": [
       "e1111 # f1111 + e211 # f211 + e22 # f22 + e31 # f31 + e4 # f4"
      ]
     },
     "execution_count": 1,
     "metadata": {},
     "output_type": "execute_result"
    }
   ],
   "source": [
    "f = Symqt.f()\n",
    "tensor([e,f])(h4xy)"
   ]
  },
  {
   "cell_type": "code",
   "execution_count": null,
   "metadata": {
    "collapsed": false,
    "deletable": true,
    "editable": true
   },
   "outputs": [
    {
     "data": {
      "text/plain": [
       "1/24*p1111 # p1111 + 1/4*p211 # p211 + 1/8*p22 # p22 + 1/3*p31 # p31 + 1/4*p4 # p4"
      ]
     },
     "execution_count": 1,
     "metadata": {},
     "output_type": "execute_result"
    }
   ],
   "source": [
    "tensor([p,p])(h4xy)"
   ]
  },
  {
   "cell_type": "markdown",
   "metadata": {
    "deletable": true,
    "editable": true
   },
   "source": [
    "The coproduct, being cocommutative on the generators, is cocommutative everywhere:"
   ]
  },
  {
   "cell_type": "code",
   "execution_count": null,
   "metadata": {
    "collapsed": false,
    "deletable": true,
    "editable": true
   },
   "outputs": [
    {
     "data": {
      "text/plain": [
       "p # p21 + p1 # p2 + p2 # p1 + p21 # p"
      ]
     },
     "execution_count": 1,
     "metadata": {},
     "output_type": "execute_result"
    }
   ],
   "source": [
    "p[2, 1].coproduct()"
   ]
  },
  {
   "cell_type": "markdown",
   "metadata": {
    "deletable": true,
    "editable": true
   },
   "source": [
    "This coproduct, along with the counit which sends every symmetric function to its 0-th homogeneous component, makes the ring of symmetric functions into a graded connected bialgebra. It is known that every graded connected bialgebra has an antipode. For the ring of symmetric functions, the antipode can be characterized explicitly: The antipode is an anti-algebra morphism (thus an algebra morphism, since our algebra is commutative) which sends $p_{\\lambda}$ to $(-1)^{\\mathrm{length}(\\lambda)} p_{\\lambda}$ for every partition $\\lambda$. Thus, in particular, it sends the generators on the $p$ basis to their opposites:"
   ]
  },
  {
   "cell_type": "code",
   "execution_count": null,
   "metadata": {
    "collapsed": false,
    "deletable": true,
    "editable": true
   },
   "outputs": [
    {
     "data": {
      "text/plain": [
       "-p3"
      ]
     },
     "execution_count": 1,
     "metadata": {},
     "output_type": "execute_result"
    }
   ],
   "source": [
    "p[3].antipode()"
   ]
  },
  {
   "cell_type": "code",
   "execution_count": null,
   "metadata": {
    "collapsed": false,
    "deletable": true,
    "editable": true
   },
   "outputs": [
    {
     "data": {
      "text/plain": [
       "-p321"
      ]
     },
     "execution_count": 1,
     "metadata": {},
     "output_type": "execute_result"
    }
   ],
   "source": [
    "p[3,2,1].antipode()"
   ]
  },
  {
   "cell_type": "markdown",
   "metadata": {
    "deletable": true,
    "editable": true
   },
   "source": [
    "The graded connected bialgebra of symmetric functions over a $\\mathbb{Q}$-algebra has a rather simply-understood structure: It is (isomorphic to) the symmetric algebra of its space of primitives (which is spanned by the power-sum symmetric functions).\n",
    "\n",
    "Here are further examples:"
   ]
  },
  {
   "cell_type": "code",
   "execution_count": null,
   "metadata": {
    "collapsed": false,
    "deletable": true,
    "editable": true
   },
   "outputs": [
    {
     "data": {
      "text/plain": [
       "s1111 + s211 + s22"
      ]
     },
     "execution_count": 1,
     "metadata": {},
     "output_type": "execute_result"
    }
   ],
   "source": [
    "f = s[2]^2\n",
    "f.antipode()"
   ]
  },
  {
   "cell_type": "code",
   "execution_count": null,
   "metadata": {
    "collapsed": false,
    "deletable": true,
    "editable": true
   },
   "outputs": [
    {
     "data": {
      "text/plain": [
       "s # s22 + s # s31 + s # s4 + 2*s1 # s21 + 2*s1 # s3 + s11 # s11 + s11 # s2 + s2 # s11 + 3*s2 # s2 + 2*s21 # s1 + s22 # s + 2*s3 # s1 + s31 # s + s4 # s"
      ]
     },
     "execution_count": 1,
     "metadata": {},
     "output_type": "execute_result"
    }
   ],
   "source": [
    "f.coproduct()"
   ]
  },
  {
   "cell_type": "code",
   "execution_count": null,
   "metadata": {
    "collapsed": false,
    "deletable": true,
    "editable": true
   },
   "outputs": [
    {
     "data": {
      "text/plain": [
       "0"
      ]
     },
     "execution_count": 1,
     "metadata": {},
     "output_type": "execute_result"
    }
   ],
   "source": [
    "f.coproduct().apply_multilinear_morphism( lambda x,y: x*y.antipode() )"
   ]
  },
  {
   "cell_type": "markdown",
   "metadata": {
    "deletable": true,
    "editable": true
   },
   "source": [
    "## Representation theory of the symmetric group\n",
    "\n",
    "The Schur functions $s_\\lambda$ can also be interpreted as irreducible characters of the symmetric group $S_n$, where $n$ is the size of the partition $\\lambda$. Since the Schur functions of degree $n$ form a basis of the symmetric functions of degree $n$, it follows that an arbitrary symmetric function (homogeneous of degree $n$) may be interpreted as a function on the symmetric group. In this interpretation the power sum symmetric function $p_\\lambda$ is the characteristic function of the conjugacy class with shape $\\lambda$, multiplied by the order of the centralizer of an element. Hence the irreducible characters can be computed as follows."
   ]
  },
  {
   "cell_type": "code",
   "execution_count": null,
   "metadata": {
    "collapsed": false,
    "deletable": true,
    "editable": true
   },
   "outputs": [
    {
     "data": {
      "text/plain": [
       "[ 1 -1  1  1 -1 -1  1]\n",
       "[ 4 -2  0  1  1  0 -1]\n",
       "[ 5 -1  1 -1 -1  1  0]\n",
       "[ 6  0 -2  0  0  0  1]\n",
       "[ 5  1  1 -1  1 -1  0]\n",
       "[ 4  2  0  1 -1  0 -1]\n",
       "[ 1  1  1  1  1  1  1]"
      ]
     },
     "execution_count": 1,
     "metadata": {},
     "output_type": "execute_result"
    }
   ],
   "source": [
    "Sym = SymmetricFunctions(QQ)\n",
    "s = Sym.schur()\n",
    "p = Sym.power()\n",
    "P = Partitions(5).list()\n",
    "P = [P[i] for i in range(len(P)-1,-1,-1)]\n",
    "M = matrix([[s[P[i]].scalar(p[P[j]]) for j in range(len(P))] for i in range(len(P))])\n",
    "M"
   ]
  },
  {
   "cell_type": "markdown",
   "metadata": {
    "deletable": true,
    "editable": true
   },
   "source": [
    "We can indeed check that this agrees with the character table of $S_5$."
   ]
  },
  {
   "cell_type": "code",
   "execution_count": null,
   "metadata": {
    "collapsed": false,
    "deletable": true,
    "editable": true
   },
   "outputs": [
    {
     "data": {
      "text/plain": [
       "True"
      ]
     },
     "execution_count": 1,
     "metadata": {},
     "output_type": "execute_result"
    }
   ],
   "source": [
    "SymmetricGroup(5).character_table() == M"
   ]
  },
  {
   "cell_type": "markdown",
   "metadata": {
    "deletable": true,
    "editable": true
   },
   "source": [
    "In this interpretation of symmetric functions as characters on the symmetric group, the multiplication and comultiplication are interpreted as induction (from $S_n\\times S_m$ to $S_{n+m}$) and restriction, respectively. The Schur functions can also be interpreted as characters of $GL_n$.\n",
    "\n",
    "## The omega involution\n",
    "\n",
    "The $\\omega$ involution is the linear extension of the map which sends $e_\\lambda$ to $h_{\\lambda}$."
   ]
  },
  {
   "cell_type": "code",
   "execution_count": null,
   "metadata": {
    "collapsed": false,
    "deletable": true,
    "editable": true
   },
   "outputs": [
    {
     "data": {
      "text/plain": [
       "s[2, 2] + s[3, 1] + s[4]"
      ]
     },
     "execution_count": 1,
     "metadata": {},
     "output_type": "execute_result"
    }
   ],
   "source": [
    "f = s[2]^2; f"
   ]
  },
  {
   "cell_type": "code",
   "execution_count": null,
   "metadata": {
    "collapsed": false,
    "deletable": true,
    "editable": true
   },
   "outputs": [
    {
     "data": {
      "text/plain": [
       "h22"
      ]
     },
     "execution_count": 1,
     "metadata": {},
     "output_type": "execute_result"
    }
   ],
   "source": [
    "h(f)"
   ]
  },
  {
   "cell_type": "code",
   "execution_count": null,
   "metadata": {
    "collapsed": false,
    "deletable": true,
    "editable": true
   },
   "outputs": [
    {
     "data": {
      "text/plain": [
       "e22"
      ]
     },
     "execution_count": 1,
     "metadata": {},
     "output_type": "execute_result"
    }
   ],
   "source": [
    "e(f.omega())"
   ]
  },
  {
   "cell_type": "markdown",
   "metadata": {
    "deletable": true,
    "editable": true
   },
   "source": [
    "## The Kronecker product\n",
    "\n",
    "As in the section on the **Representation theory of the symmetric group**, a symmetric function may be considered as a class function on the symmetric group where the elements $p_\\mu/z_\\mu$ are the indicators of a permutation having cycle structure $\\mu$. The Kronecker product of two symmetric functions corresponds to the pointwise product of these class functions.\n",
    "\n",
    "Since the Schur functions are the irreducible characters of the symmetric group under this identification, the Kronecker product of two Schur functions corresponds to the internal tensor product of two irreducible symmetric group representations.\n",
    "\n",
    "Under this identification, the Kronecker product of $p_\\mu/z_\\mu$ and $p_\\nu/z_\\nu$ is $p_\\mu/z_\\mu$ if $\\mu=\\nu$, and the result is equal to $0$ otherwise.\n",
    "\n",
    "`internal_product`, `kronecker_product`, `inner_tensor` and `itensor` are different names for the same function."
   ]
  },
  {
   "cell_type": "code",
   "execution_count": null,
   "metadata": {
    "collapsed": false,
    "deletable": true,
    "editable": true
   },
   "outputs": [
    {
     "data": {
      "text/plain": [
       "s1111 + 4*s22 + 3*s211 + 5*s31 + 3*s4"
      ]
     },
     "execution_count": 1,
     "metadata": {},
     "output_type": "execute_result"
    }
   ],
   "source": [
    "f.kronecker_product(f)"
   ]
  },
  {
   "cell_type": "markdown",
   "metadata": {
    "deletable": true,
    "editable": true
   },
   "source": [
    "## Inner plethysm\n",
    "\n",
    "The operation of inner plethysm `f.inner_plethysm(g)` models the composition of the $S_n$ representation represented by $g$ with the $GL_m$ representation whose character is $f$. See the documentation of `inner_plethysm`, for more information."
   ]
  },
  {
   "cell_type": "code",
   "execution_count": null,
   "metadata": {
    "collapsed": false,
    "deletable": true,
    "editable": true
   },
   "outputs": [
    {
     "data": {
      "text/plain": [
       "s2"
      ]
     },
     "execution_count": 1,
     "metadata": {},
     "output_type": "execute_result"
    }
   ],
   "source": [
    "s = SymmetricFunctions(QQ).schur()\n",
    "f = s[2]^2\n",
    "f.inner_plethysm(s[2])"
   ]
  },
  {
   "cell_type": "markdown",
   "metadata": {
    "deletable": true,
    "editable": true
   },
   "source": [
    "## $k$-Schur functions\n",
    "\n",
    "The $k$-Schur functions live in the $k$-bounded subspace of the ring of symmetric functions. It is possible to compute in the $k$-bounded subspace directly:"
   ]
  },
  {
   "cell_type": "code",
   "execution_count": null,
   "metadata": {
    "collapsed": false,
    "deletable": true,
    "editable": true
   },
   "outputs": [
    {
     "data": {
      "text/plain": [
       "ks3[2, 2, 1, 1] + ks3[2, 2, 2] + ks3[3, 1, 1, 1]"
      ]
     },
     "execution_count": 1,
     "metadata": {},
     "output_type": "execute_result"
    }
   ],
   "source": [
    "Sym = SymmetricFunctions(QQ)\n",
    "ks = Sym.kschur(3,1)\n",
    "f = ks[2,1]*ks[2,1]; f"
   ]
  },
  {
   "cell_type": "markdown",
   "metadata": {
    "deletable": true,
    "editable": true
   },
   "source": [
    "or to lift to the ring of symmetric functions:"
   ]
  },
  {
   "cell_type": "code",
   "execution_count": null,
   "metadata": {
    "collapsed": false,
    "deletable": true,
    "editable": true
   },
   "outputs": [
    {
     "data": {
      "text/plain": [
       "s2211 + s222 + s3111 + 2*s321 + s33 + s411 + s42"
      ]
     },
     "execution_count": 1,
     "metadata": {},
     "output_type": "execute_result"
    }
   ],
   "source": [
    "f.lift()"
   ]
  },
  {
   "cell_type": "markdown",
   "metadata": {
    "deletable": true,
    "editable": true
   },
   "source": [
    "However, it is not always possible to convert a symmetric function to the $k$-bounded subspace:"
   ]
  },
  {
   "cell_type": "code",
   "execution_count": null,
   "metadata": {
    "collapsed": true,
    "deletable": true,
    "editable": true
   },
   "outputs": [],
   "source": [
    "s = Sym.schur()\n",
    "ks(s[2,1,1])  # not tested"
   ]
  },
  {
   "cell_type": "markdown",
   "metadata": {
    "deletable": true,
    "editable": true
   },
   "source": [
    "The $k$-Schur functions are more generally defined with a parameter $t$ and they are a basis of the subspace spanned by the Hall-Littlewood $Qp$ symmetric functions indexed by partitions whose first part is less than or equal to $k$ :"
   ]
  },
  {
   "cell_type": "code",
   "execution_count": null,
   "metadata": {
    "collapsed": false,
    "deletable": true,
    "editable": true
   },
   "outputs": [
    {
     "data": {
      "text/plain": [
       "ks3[2, 1, 1, 1] + (t^2+t)*ks3[2, 2, 1] + (t^3+t^2)*ks3[3, 1, 1] + t^4*ks3[3, 2]"
      ]
     },
     "execution_count": 1,
     "metadata": {},
     "output_type": "execute_result"
    }
   ],
   "source": [
    "Sym = SymmetricFunctions(QQ['t'].fraction_field())\n",
    "SymS3 = Sym.kBoundedSubspace(3) # default t='t'\n",
    "ks = SymS3.kschur()\n",
    "Qp = Sym.hall_littlewood().Qp()\n",
    "ks(Qp[2,1,1,1])"
   ]
  },
  {
   "cell_type": "markdown",
   "metadata": {
    "deletable": true,
    "editable": true
   },
   "source": [
    "The subspace spanned by the $k$-Schur functions with a parameter $t$ are not known to form a natural algebra. However it is known that the product of a $k$-Schur function and an $\\ell$-Schur function is in the linear span of the $k+\\ell$-Schur functions:"
   ]
  },
  {
   "cell_type": "code",
   "execution_count": null,
   "metadata": {
    "collapsed": false,
    "deletable": true,
    "editable": true
   },
   "outputs": [
    {
     "data": {
      "text/plain": [
       "s2111 + s221 + s311 + s32"
      ]
     },
     "execution_count": 1,
     "metadata": {},
     "output_type": "execute_result"
    }
   ],
   "source": [
    "ks(ks[2,1]*ks[1,1]) # not tested\n",
    "ks[2,1]*ks[1,1]"
   ]
  },
  {
   "cell_type": "code",
   "execution_count": null,
   "metadata": {
    "collapsed": false,
    "deletable": true,
    "editable": true
   },
   "outputs": [
    {
     "data": {
      "text/plain": [
       "ks6[3, 3, 1, 1] + ks6[4, 2, 1, 1] + (t+1)*ks6[4, 3, 1] + t*ks6[4, 4]\n",
       "+ ks6[5, 1, 1, 1] + ks6[5, 2, 1] + t*ks6[5, 3] + ks6[6, 1, 1]"
      ]
     },
     "execution_count": 1,
     "metadata": {},
     "output_type": "execute_result"
    }
   ],
   "source": [
    "ks6 = Sym.kBoundedSubspace(6).kschur()\n",
    "ks6(ks[3,1,1]*ks[3])"
   ]
  },
  {
   "cell_type": "markdown",
   "metadata": {
    "deletable": true,
    "editable": true
   },
   "source": [
    "The $k$-split basis is a second basis of the ring spanned by the $k$-Schur functions with a parameter $t$. The $k$-split basis has the property that $Q'_\\lambda[X;t]$ expands positively in the $k$-split basis and the $k$-split basis conjecturally expands positively in the $k$-Schur functions.:"
   ]
  },
  {
   "cell_type": "code",
   "execution_count": null,
   "metadata": {
    "collapsed": false,
    "deletable": true,
    "editable": true
   },
   "outputs": [
    {
     "data": {
      "text/plain": [
       "ksp3[2, 1, 1, 1] + t^2*ksp3[2, 2, 1] + (t^3+t^2)*ksp3[3, 1, 1] + t^4*ksp3[3, 2]"
      ]
     },
     "execution_count": 1,
     "metadata": {},
     "output_type": "execute_result"
    }
   ],
   "source": [
    "ksp3 = SymS3.ksplit()\n",
    "ksp3(Qp[2,1,1,1])"
   ]
  },
  {
   "cell_type": "code",
   "execution_count": null,
   "metadata": {
    "collapsed": false,
    "deletable": true,
    "editable": true
   },
   "outputs": [
    {
     "data": {
      "text/plain": [
       "[ks3[2, 2, 1], ks3[2, 1, 1, 1] + t*ks3[2, 2, 1], ks3[3, 2], ks3[3, 1, 1]]"
      ]
     },
     "execution_count": 1,
     "metadata": {},
     "output_type": "execute_result"
    }
   ],
   "source": [
    "[ks(ksp3(la)) for la in ksp3(Qp[2,1,1,1]).support()]"
   ]
  },
  {
   "cell_type": "markdown",
   "metadata": {
    "deletable": true,
    "editable": true
   },
   "source": [
    "## Dual $k$-Schur functions\n",
    "\n",
    "The dual space to the subspace spanned by the $k$-Schur functions is most naturally realized as a quotient of the ring of symmetric functions by an ideal. When $t=1$ the ideal is generated by the monomial symmetric functions indexed by partitions whose first part is greater than $k$ :"
   ]
  },
  {
   "cell_type": "code",
   "execution_count": null,
   "metadata": {
    "collapsed": false,
    "deletable": true,
    "editable": true
   },
   "outputs": [
    {
     "data": {
      "text/plain": [
       "4*m3[2, 2, 1, 1] + 6*m3[2, 2, 2] + 2*m3[3, 2, 1] + 2*m3[3, 3]"
      ]
     },
     "execution_count": 1,
     "metadata": {},
     "output_type": "execute_result"
    }
   ],
   "source": [
    "Sym = SymmetricFunctions(QQ)\n",
    "SymQ3 = Sym.kBoundedQuotient(3,t=1)\n",
    "km = SymQ3.kmonomial()\n",
    "km[2,1]*km[2,1]"
   ]
  },
  {
   "cell_type": "code",
   "execution_count": null,
   "metadata": {
    "collapsed": false,
    "deletable": true,
    "editable": true
   },
   "outputs": [
    {
     "data": {
      "text/plain": [
       "2*F3[1, 1, 1, 1, 1, 1] + 4*F3[2, 1, 1, 1, 1] + 4*F3[2, 2, 1, 1] + 4*F3[2, 2, 2]\n",
       "+ 2*F3[3, 1, 1, 1] + 4*F3[3, 2, 1] + 2*F3[3, 3]"
      ]
     },
     "execution_count": 1,
     "metadata": {},
     "output_type": "execute_result"
    }
   ],
   "source": [
    "F = SymQ3.affineSchur()\n",
    "F[2,1]*F[2,1]"
   ]
  },
  {
   "cell_type": "markdown",
   "metadata": {
    "deletable": true,
    "editable": true
   },
   "source": [
    "When $t$ is not equal to $1$, the subspace spanned by the $k$-Schur functions is realized as a quotient of the ring of symmetric functions by the ideal generated by the Hall-Littlewood symmetric functions in the P basis indexed by partitions with first part greater than $k$."
   ]
  },
  {
   "cell_type": "code",
   "execution_count": null,
   "metadata": {
    "collapsed": false,
    "deletable": true,
    "editable": true
   },
   "outputs": [
    {
     "data": {
      "text/plain": [
       "(t^2+2*t+1)*HLP3[2, 2, 1, 1] + (t^3+2*t^2+2*t+1)*HLP3[2, 2, 2]\n",
       "+ (-t^4-t^3+t+1)*HLP3[3, 1, 1, 1] + (-t^2+t+2)*HLP3[3, 2, 1] + (t+1)*HLP3[3, 3]"
      ]
     },
     "execution_count": 1,
     "metadata": {},
     "output_type": "execute_result"
    }
   ],
   "source": [
    "Sym = SymmetricFunctions(FractionField(QQ['t']))\n",
    "SymQ3 = Sym.kBoundedQuotient(3)\n",
    "kHLP = SymQ3.kHallLittlewoodP()\n",
    "kHLP[2,1]*kHLP[2,1]"
   ]
  },
  {
   "cell_type": "code",
   "execution_count": null,
   "metadata": {
    "collapsed": false,
    "deletable": true,
    "editable": true
   },
   "outputs": [
    {
     "data": {
      "text/plain": [
       "HLP3[3, 1]"
      ]
     },
     "execution_count": 1,
     "metadata": {},
     "output_type": "execute_result"
    }
   ],
   "source": [
    "HLP = Sym.hall_littlewood().P()\n",
    "kHLP(HLP[3,1])"
   ]
  },
  {
   "cell_type": "code",
   "execution_count": null,
   "metadata": {
    "collapsed": false,
    "deletable": true,
    "editable": true
   },
   "outputs": [
    {
     "data": {
      "text/plain": [
       "0"
      ]
     },
     "execution_count": 1,
     "metadata": {},
     "output_type": "execute_result"
    }
   ],
   "source": [
    "kHLP(HLP[4])"
   ]
  },
  {
   "cell_type": "markdown",
   "metadata": {
    "deletable": true,
    "editable": true
   },
   "source": [
    "In this space, the basis which is dual to the $k$-Schur functions conjecturally expands positively in the $k$-bounded Hall-Littlewood functions and has positive structure coefficients."
   ]
  },
  {
   "cell_type": "code",
   "execution_count": null,
   "metadata": {
    "collapsed": false,
    "deletable": true,
    "editable": true
   },
   "outputs": [
    {
     "data": {
      "text/plain": [
       "(t^4+t^2)*HLP3[1, 1, 1, 1] + t*HLP3[2, 1, 1] + HLP3[2, 2]"
      ]
     },
     "execution_count": 1,
     "metadata": {},
     "output_type": "execute_result"
    }
   ],
   "source": [
    "dks = SymQ3.dual_k_Schur()\n",
    "kHLP(dks[2,2])"
   ]
  },
  {
   "cell_type": "code",
   "execution_count": null,
   "metadata": {
    "collapsed": false,
    "deletable": true,
    "editable": true
   },
   "outputs": [
    {
     "data": {
      "text/plain": [
       "(t^2+t)*dks3[1, 1, 1, 1, 1] + (t+1)*dks3[2, 1, 1, 1] + (t+1)*dks3[2, 2, 1]\n",
       "+ dks3[3, 1, 1] + dks3[3, 2]"
      ]
     },
     "execution_count": 1,
     "metadata": {},
     "output_type": "execute_result"
    }
   ],
   "source": [
    "dks[2,1]*dks[1,1]"
   ]
  },
  {
   "cell_type": "markdown",
   "metadata": {
    "deletable": true,
    "editable": true
   },
   "source": [
    "At $t=1$ the $k$-bounded Hall-Littlewood basis is equal to the $k$-bounded monomial basis and the dual $k$-Schur elements are equal to the affine Schur basis. The $k$-bounded monomial basis and affine Schur functions are faster and should be used instead of the $k$-bounded Hall-Littlewood P basis and dual $k$-Schur functions when $t=1$."
   ]
  },
  {
   "cell_type": "code",
   "execution_count": null,
   "metadata": {
    "collapsed": false,
    "deletable": true,
    "editable": true
   },
   "outputs": [
    {
     "data": {
      "text/plain": [
       "True"
      ]
     },
     "execution_count": 1,
     "metadata": {},
     "output_type": "execute_result"
    }
   ],
   "source": [
    "SymQ3 = Sym.kBoundedQuotient(3,t=1)\n",
    "dks = SymQ3.dual_k_Schur()\n",
    "F = SymQ3.affineSchur()\n",
    "F[3,1]==dks[3,1]"
   ]
  },
  {
   "cell_type": "markdown",
   "metadata": {
    "deletable": true,
    "editable": true
   },
   "source": [
    "## Implementing new bases\n",
    "\n",
    "In order to implement a new symmetric function basis, Sage will need to know at a minimum how to change back and forth between at least one other basis (although they do not necessarily have to be the same basis). All of the standard functions associated with the basis will have a default implementation (although a more specific implementation may be more efficient).\n",
    "\n",
    "To present an idea of how this is done, we will create here the example of how to implement the basis $s_\\mu[X(1-t)]$.\n",
    "\n",
    "To begin, we import the class sage.combinat.sf.sfa.SymmetricFunctionAlgebra\\_generic(). Our new basis will inherit all of the default methods from this class:"
   ]
  },
  {
   "cell_type": "code",
   "execution_count": null,
   "metadata": {
    "collapsed": true,
    "deletable": true,
    "editable": true
   },
   "outputs": [],
   "source": [
    "from sage.combinat.sf.sfa import SymmetricFunctionAlgebra_generic as SFA_generic"
   ]
  },
  {
   "cell_type": "markdown",
   "metadata": {
    "deletable": true,
    "editable": true
   },
   "source": [
    "Now the basis we are creating has a parameter $t$ which is possible to specialize. In this example we will convert to and from the Schur basis. For this we implement methods `_self_to_s` and `_s_to_self`. By registering these two functions as coercions, Sage then knows automatically how it possible to change between any two bases for which there is a path of changes of bases."
   ]
  },
  {
   "cell_type": "code",
   "execution_count": null,
   "metadata": {
    "collapsed": true,
    "deletable": true,
    "editable": true
   },
   "outputs": [],
   "source": [
    "from sage.categories.morphism import SetMorphism\n",
    "class SFA_st(SFA_generic):\n",
    "    def __init__(self, Sym, t):\n",
    "        SFA_generic.__init__(self, Sym, basis_name=\n",
    "          \"Schur functions with a plethystic substitution of X -> X(1-t)\",\n",
    "          prefix='st')\n",
    "        self._s = Sym.s()\n",
    "        self.t = Sym.base_ring()(t)\n",
    "        cat = HopfAlgebras(Sym.base_ring()).WithBasis()\n",
    "        self.register_coercion(\n",
    "          SetMorphism(Hom(self._s, self, cat), self._s_to_self))\n",
    "        self._s.register_coercion(\n",
    "          SetMorphism(Hom(self, self._s, cat), self._self_to_s))\n",
    "    def _s_to_self(self, f):\n",
    "        # f is a Schur function and the output is in the st basis\n",
    "        return self._from_dict(f.theta_qt(0,self.t)._monomial_coefficients)\n",
    "    def _self_to_s(self, f):\n",
    "        # f is in the st basis and the output is in the Schur basis\n",
    "        return self._s.sum(cmu*self._s(mu).theta_qt(self.t,0) for mu,cmu in f)\n",
    "    class Element(SFA_generic.Element):\n",
    "        pass"
   ]
  },
  {
   "cell_type": "markdown",
   "metadata": {
    "deletable": true,
    "editable": true
   },
   "source": [
    "An instance of this basis is created by calling it with a symmetric function ring `Sym` and a parameter `t` which is in the base ring of `Sym`. The `Element` class inherits all of the methods from sage.combinat.sf.sfa.SymmetricFunctionAlgebra\\_generic\\_Element.\n",
    "\n",
    "In Macdonald's work, this basis is denoted $S_\\lambda(x;t)$ and the change of basis coefficients of the Macdonald `J` basis are the coefficients $K_{\\lambda\\mu}(q,t)$. Here is an example of its use:"
   ]
  },
  {
   "cell_type": "code",
   "execution_count": null,
   "metadata": {
    "collapsed": false,
    "deletable": true,
    "editable": true
   },
   "outputs": [
    {
     "data": {
      "text/plain": [
       "Symmetric Functions over Fraction Field of Multivariate Polynomial\n",
       " Ring in q, t over Rational Field in the Schur functions with a\n",
       " plethystic substitution of X -> X(1-t) basis"
      ]
     },
     "execution_count": 1,
     "metadata": {},
     "output_type": "execute_result"
    }
   ],
   "source": [
    "QQqt = QQ['q','t'].fraction_field()\n",
    "(q,t) = QQqt.gens()\n",
    "st = SFA_st(SymmetricFunctions(QQqt),t)\n",
    "st"
   ]
  },
  {
   "cell_type": "code",
   "execution_count": null,
   "metadata": {
    "collapsed": false,
    "deletable": true,
    "editable": true
   },
   "outputs": [
    {
     "data": {
      "text/plain": [
       "st211 + st22 + st31"
      ]
     },
     "execution_count": 1,
     "metadata": {},
     "output_type": "execute_result"
    }
   ],
   "source": [
    "st[2,1] * st[1]"
   ]
  },
  {
   "cell_type": "code",
   "execution_count": null,
   "metadata": {
    "collapsed": false,
    "deletable": true,
    "editable": true
   },
   "outputs": [
    {
     "data": {
      "text/plain": [
       "st # st2 + st1 # st1 + st2 # st"
      ]
     },
     "execution_count": 1,
     "metadata": {},
     "output_type": "execute_result"
    }
   ],
   "source": [
    "st([2]).coproduct()"
   ]
  },
  {
   "cell_type": "code",
   "execution_count": null,
   "metadata": {
    "collapsed": false,
    "deletable": true,
    "editable": true
   },
   "outputs": [
    {
     "data": {
      "text/plain": [
       "q*st111 + (q*t+1)*st21 + t*st3"
      ]
     },
     "execution_count": 1,
     "metadata": {},
     "output_type": "execute_result"
    }
   ],
   "source": [
    "J = st.symmetric_function_ring().macdonald().J()\n",
    "st(J[2,1])"
   ]
  }
 ],
 "metadata": {
  "kernelspec": {
   "display_name": "SageMath 8.1.beta3",
   "language": "",
   "name": "sagemath"
  },
  "language_info": {
   "codemirror_mode": {
    "name": "ipython",
    "version": 2
   },
   "file_extension": ".py",
   "mimetype": "text/x-python",
   "name": "python",
   "nbconvert_exporter": "python",
   "pygments_lexer": "ipython2",
   "version": "2.7.13"
  }
 },
 "nbformat": 4,
 "nbformat_minor": 2
}
